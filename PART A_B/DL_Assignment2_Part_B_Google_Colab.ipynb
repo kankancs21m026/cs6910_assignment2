{
  "cells": [
    {
      "cell_type": "code",
      "execution_count": 15,
      "metadata": {
        "colab": {
          "base_uri": "https://localhost:8080/"
        },
        "id": "-_d3f6Yapg64",
        "outputId": "08cc101f-a22a-4a18-c5be-55c719314be2"
      },
      "outputs": [
        {
          "output_type": "stream",
          "name": "stdout",
          "text": [
            "Requirement already satisfied: wandb in /usr/local/lib/python3.7/dist-packages (0.12.11)\n",
            "Requirement already satisfied: setproctitle in /usr/local/lib/python3.7/dist-packages (from wandb) (1.2.2)\n",
            "Requirement already satisfied: yaspin>=1.0.0 in /usr/local/lib/python3.7/dist-packages (from wandb) (2.1.0)\n",
            "Requirement already satisfied: sentry-sdk>=1.0.0 in /usr/local/lib/python3.7/dist-packages (from wandb) (1.5.8)\n",
            "Requirement already satisfied: shortuuid>=0.5.0 in /usr/local/lib/python3.7/dist-packages (from wandb) (1.0.8)\n",
            "Requirement already satisfied: python-dateutil>=2.6.1 in /usr/local/lib/python3.7/dist-packages (from wandb) (2.8.2)\n",
            "Requirement already satisfied: requests<3,>=2.0.0 in /usr/local/lib/python3.7/dist-packages (from wandb) (2.23.0)\n",
            "Requirement already satisfied: pathtools in /usr/local/lib/python3.7/dist-packages (from wandb) (0.1.2)\n",
            "Requirement already satisfied: promise<3,>=2.0 in /usr/local/lib/python3.7/dist-packages (from wandb) (2.3)\n",
            "Requirement already satisfied: Click!=8.0.0,>=7.0 in /usr/local/lib/python3.7/dist-packages (from wandb) (7.1.2)\n",
            "Requirement already satisfied: psutil>=5.0.0 in /usr/local/lib/python3.7/dist-packages (from wandb) (5.4.8)\n",
            "Requirement already satisfied: docker-pycreds>=0.4.0 in /usr/local/lib/python3.7/dist-packages (from wandb) (0.4.0)\n",
            "Requirement already satisfied: six>=1.13.0 in /usr/local/lib/python3.7/dist-packages (from wandb) (1.15.0)\n",
            "Requirement already satisfied: PyYAML in /usr/local/lib/python3.7/dist-packages (from wandb) (3.13)\n",
            "Requirement already satisfied: protobuf>=3.12.0 in /usr/local/lib/python3.7/dist-packages (from wandb) (3.17.3)\n",
            "Requirement already satisfied: GitPython>=1.0.0 in /usr/local/lib/python3.7/dist-packages (from wandb) (3.1.27)\n",
            "Requirement already satisfied: typing-extensions>=3.7.4.3 in /usr/local/lib/python3.7/dist-packages (from GitPython>=1.0.0->wandb) (3.10.0.2)\n",
            "Requirement already satisfied: gitdb<5,>=4.0.1 in /usr/local/lib/python3.7/dist-packages (from GitPython>=1.0.0->wandb) (4.0.9)\n",
            "Requirement already satisfied: smmap<6,>=3.0.1 in /usr/local/lib/python3.7/dist-packages (from gitdb<5,>=4.0.1->GitPython>=1.0.0->wandb) (5.0.0)\n",
            "Requirement already satisfied: chardet<4,>=3.0.2 in /usr/local/lib/python3.7/dist-packages (from requests<3,>=2.0.0->wandb) (3.0.4)\n",
            "Requirement already satisfied: idna<3,>=2.5 in /usr/local/lib/python3.7/dist-packages (from requests<3,>=2.0.0->wandb) (2.10)\n",
            "Requirement already satisfied: urllib3!=1.25.0,!=1.25.1,<1.26,>=1.21.1 in /usr/local/lib/python3.7/dist-packages (from requests<3,>=2.0.0->wandb) (1.24.3)\n",
            "Requirement already satisfied: certifi>=2017.4.17 in /usr/local/lib/python3.7/dist-packages (from requests<3,>=2.0.0->wandb) (2021.10.8)\n",
            "Requirement already satisfied: termcolor<2.0.0,>=1.1.0 in /usr/local/lib/python3.7/dist-packages (from yaspin>=1.0.0->wandb) (1.1.0)\n"
          ]
        }
      ],
      "source": [
        "!pip install wandb"
      ]
    },
    {
      "cell_type": "code",
      "execution_count": 16,
      "metadata": {
        "colab": {
          "base_uri": "https://localhost:8080/"
        },
        "id": "ivVDKFmgkJp7",
        "outputId": "f17e0ed0-1550-456a-8c4b-511160d47896"
      },
      "outputs": [
        {
          "output_type": "stream",
          "name": "stdout",
          "text": [
            "Mon Apr  4 16:59:07 2022       \n",
            "+-----------------------------------------------------------------------------+\n",
            "| NVIDIA-SMI 460.32.03    Driver Version: 460.32.03    CUDA Version: 11.2     |\n",
            "|-------------------------------+----------------------+----------------------+\n",
            "| GPU  Name        Persistence-M| Bus-Id        Disp.A | Volatile Uncorr. ECC |\n",
            "| Fan  Temp  Perf  Pwr:Usage/Cap|         Memory-Usage | GPU-Util  Compute M. |\n",
            "|                               |                      |               MIG M. |\n",
            "|===============================+======================+======================|\n",
            "|   0  Tesla T4            Off  | 00000000:00:04.0 Off |                    0 |\n",
            "| N/A   37C    P8     9W /  70W |      0MiB / 15109MiB |      0%      Default |\n",
            "|                               |                      |                  N/A |\n",
            "+-------------------------------+----------------------+----------------------+\n",
            "                                                                               \n",
            "+-----------------------------------------------------------------------------+\n",
            "| Processes:                                                                  |\n",
            "|  GPU   GI   CI        PID   Type   Process name                  GPU Memory |\n",
            "|        ID   ID                                                   Usage      |\n",
            "|=============================================================================|\n",
            "|  No running processes found                                                 |\n",
            "+-----------------------------------------------------------------------------+\n"
          ]
        }
      ],
      "source": [
        "!nvidia-smi"
      ]
    },
    {
      "cell_type": "code",
      "execution_count": 17,
      "metadata": {
        "id": "BWmklvnu5MC8"
      },
      "outputs": [],
      "source": [
        "from wandb.keras import WandbCallback"
      ]
    },
    {
      "cell_type": "code",
      "execution_count": 18,
      "metadata": {
        "colab": {
          "base_uri": "https://localhost:8080/"
        },
        "id": "RlLhyAeYkA5G",
        "outputId": "8386fd1c-fcbd-4939-8093-bcde56cac67b"
      },
      "outputs": [
        {
          "output_type": "stream",
          "name": "stdout",
          "text": [
            "Mon Apr  4 16:59:12 2022       \n",
            "+-----------------------------------------------------------------------------+\n",
            "| NVIDIA-SMI 460.32.03    Driver Version: 460.32.03    CUDA Version: 11.2     |\n",
            "|-------------------------------+----------------------+----------------------+\n",
            "| GPU  Name        Persistence-M| Bus-Id        Disp.A | Volatile Uncorr. ECC |\n",
            "| Fan  Temp  Perf  Pwr:Usage/Cap|         Memory-Usage | GPU-Util  Compute M. |\n",
            "|                               |                      |               MIG M. |\n",
            "|===============================+======================+======================|\n",
            "|   0  Tesla T4            Off  | 00000000:00:04.0 Off |                    0 |\n",
            "| N/A   37C    P8     9W /  70W |      0MiB / 15109MiB |      0%      Default |\n",
            "|                               |                      |                  N/A |\n",
            "+-------------------------------+----------------------+----------------------+\n",
            "                                                                               \n",
            "+-----------------------------------------------------------------------------+\n",
            "| Processes:                                                                  |\n",
            "|  GPU   GI   CI        PID   Type   Process name                  GPU Memory |\n",
            "|        ID   ID                                                   Usage      |\n",
            "|=============================================================================|\n",
            "|  No running processes found                                                 |\n",
            "+-----------------------------------------------------------------------------+\n",
            "Your runtime has 27.3 gigabytes of available RAM\n",
            "\n",
            "You are using a high-RAM runtime!\n"
          ]
        }
      ],
      "source": [
        "gpu_info = !nvidia-smi\n",
        "gpu_info = '\\n'.join(gpu_info)\n",
        "if gpu_info.find('failed') >= 0:\n",
        "  print('Not connected to a GPU')\n",
        "else:\n",
        "  print(gpu_info)\n",
        "from psutil import virtual_memory\n",
        "ram_gb = virtual_memory().total / 1e9\n",
        "print('Your runtime has {:.1f} gigabytes of available RAM\\n'.format(ram_gb))\n",
        "\n",
        "if ram_gb < 20:\n",
        "  print('Not using a high-RAM runtime')\n",
        "else:\n",
        "  print('You are using a high-RAM runtime!')"
      ]
    },
    {
      "cell_type": "markdown",
      "metadata": {
        "id": "S1Rk5krZcOzM"
      },
      "source": [
        "\n",
        "### Dataset \n"
      ]
    },
    {
      "cell_type": "code",
      "execution_count": 19,
      "metadata": {
        "id": "qjYoz9ITbIhV"
      },
      "outputs": [],
      "source": [
        "\n",
        "import os\n",
        "from os.path import exists\n",
        "import zipfile\n",
        "import matplotlib.pyplot as plt\n",
        "import matplotlib.image as mpimg\n",
        "import random \n",
        "import cv2\n",
        "import numpy as np\n",
        "import pandas as pd\n",
        "import keras\n",
        "import tensorflow as tf\n",
        "from tensorflow.keras.preprocessing.image import ImageDataGenerator\n",
        "class Dataset:\n",
        "    \n",
        "    def downloadDataSet(self):\n",
        "      cwd = os.getcwd()\n",
        "     \n",
        "      classes=['Amphibia','Animalia','Arachnida','Aves','Fungi','Insecta','Mammalia','Mollusca','Plantae','Reptilia']\n",
        "      file_exists = exists('./nature_12K.zip')\n",
        "      if(file_exists==False):\n",
        "        print('downloading....')\n",
        "        os.system('curl -SL https://storage.googleapis.com/wandb_datasets/nature_12K.zip > nature_12K.zip')\n",
        "        print('download Complete')\n",
        "      extract_exists = exists('./inaturalist_12K/')   \n",
        "      if(extract_exists==False):  \n",
        "        savePath=cwd\n",
        "        savefile='./nature_12K.zip'\n",
        "        print('Extracting..')\n",
        "        with zipfile.ZipFile(savefile, 'r') as zip_ref:\n",
        "            zip_ref.extractall(savePath)\n",
        "        print('Complete')\n",
        "       \n",
        "        \n",
        "    def showRandomImageOfEveryClass(self,imagesize=300):\n",
        "       classes=['Amphibia','Animalia','Arachnida','Aves','Fungi','Insecta','Mammalia','Mollusca','Plantae','Reptilia']\n",
        "       imagePath='./inaturalist_12K/train'\n",
        "       listImages=[]\n",
        "       columns = 5\n",
        "       rows = 5\n",
        "       imcount=1\n",
        "       \n",
        "       for i in classes:\n",
        "           p=imagePath+'/'+i\n",
        "           files=os.listdir( p)\n",
        "           img=random.choice(files)\n",
        "           imgplt=mpimg.imread( p+'/'+str(img))\n",
        "           imgplt=cv2.resize(imgplt,(300,300)) \n",
        "           listImages.append(imgplt)\n",
        "           #plt.imshow(imgplt)\n",
        "           #fig.add_subplot(rows, columns, imcount)\n",
        "           #imcount+=1\n",
        "           #plt.axis('off')\n",
        "           #plt.title(i) \n",
        "       \n",
        "       _, axs = plt.subplots(1, 10, figsize=(15, 15))\n",
        "       axs = axs.flatten()\n",
        "       for img, ax,cls in zip(listImages, axs,classes):\n",
        "         \n",
        "           ax.imshow(img)\n",
        "           ax.axis('off')\n",
        "           ax.set_title(str(cls))\n",
        "       plt.show()\n",
        "    \n",
        "    \n",
        "    def import_dataset(self,seed,image_size=300,augment_data=False):\n",
        "        #All variables \n",
        "        cwd=os.getcwd()\n",
        "        batchsize=32\n",
        "        image_size=image_size\n",
        "        train_dir = './inaturalist_12K/train/'\n",
        "        test_dir = './inaturalist_12K/val/'\n",
        "        print('Training Dataset')\n",
        "\n",
        "        #perform Augmentation if augment_data=True\n",
        "        if augment_data:\n",
        "            train_datagen = ImageDataGenerator(rescale=1./255,\n",
        "                                          rotation_range=90,\n",
        "                                          zoom_range=0.2,\n",
        "                                          shear_range=0.2,\n",
        "                                          validation_split=0.1,\n",
        "                                          horizontal_flip=True)\n",
        "            test_datagen = ImageDataGenerator(rescale=1./255)\n",
        "        else:\n",
        "            train_datagen = ImageDataGenerator(rescale=1./255,validation_split=0.1)\n",
        "            test_datagen = ImageDataGenerator(rescale=1./255)\n",
        "\n",
        "        train_ds = train_datagen.flow_from_directory(train_dir,subset=\"training\", class_mode='sparse',color_mode='rgb',target_size=(image_size, image_size), batch_size=batchsize)\n",
        "        val_ds = train_datagen.flow_from_directory(train_dir,subset=\"validation\",class_mode='sparse', color_mode='rgb',target_size=(image_size, image_size), batch_size=batchsize)\n",
        "        print('')\n",
        "        print('Test Dataset')\n",
        "        test_ds = test_datagen.flow_from_directory(test_dir, target_size=(image_size, image_size) ,class_mode='sparse',color_mode='rgb',batch_size=30)\n",
        "    \n",
        "\n",
        "\n",
        "\n",
        "    \n",
        "        return train_ds,val_ds, test_ds\n",
        "               "
      ]
    },
    {
      "cell_type": "markdown",
      "metadata": {
        "id": "CHXbo3xJdEPy"
      },
      "source": [
        "### Transfer Learning"
      ]
    },
    {
      "cell_type": "code",
      "execution_count": 20,
      "metadata": {
        "id": "_TTWqX83dBZQ"
      },
      "outputs": [],
      "source": [
        "\"\"\"\n",
        "Following functions used to construct an CNN network\n",
        "\n",
        "Parameters\n",
        "---------\n",
        "base_model: Name of the Base model\n",
        "numberOfDenseLayer: Number of dense layer applied after base model\n",
        "BatchNormalization: If true apply batch normalisation after each layer\n",
        "number_of_neurons_dense_layer : Dense layer neuron \n",
        "number_of_classes: Total number of classes\n",
        "dropout: dropout rate\n",
        "batchNormalization: Whether batch normalization applied\n",
        "no_of_last_trainable_layers: Last k layers remain trainable\n",
        "\"\"\"\n",
        "import numpy as np\n",
        "import pandas as pd\n",
        "import os\n",
        "import keras\n",
        "import tensorflow as tf\n",
        "from tensorflow.keras import layers,models\n",
        "from tensorflow.keras.layers import Conv2D, MaxPooling2D, Dropout, Dense, Flatten, Activation , BatchNormalization\n",
        "from tensorflow.keras.preprocessing.image import ImageDataGenerator\n",
        "from tensorflow.keras.models import Sequential, Model\n",
        "from keras.layers import Conv2D , MaxPool2D,MaxPooling3D , Flatten , Dropout, Dense, Activation, BatchNormalization\n",
        "class TransferLearn:\n",
        "\n",
        "    def Train(self,base_model=\"inceptionv3\",\n",
        "            img_size=224,\\\n",
        "            activation_function=\"relu\",\\\n",
        "            number_of_neurons_dense_layer=512,\\\n",
        "            number_of_classes=10,\\\n",
        "            dropout_rate=0,batchNormalization=False,\\\n",
        "            fraction_of_trainable_layers=0,numberOfDenseLayer=1,lr=1e-4,optimizer=\"adam\",wandbLog=False):\n",
        "       \n",
        "        imgshape=(img_size,img_size,3)\n",
        "        if(base_model.lower()==\"inceptionv3\"):\n",
        "            base_model_def = tf.keras.applications.InceptionV3(input_shape=imgshape,\n",
        "                                               include_top=False,\n",
        "                                               weights='imagenet',classes=1000)\n",
        "            \n",
        "        if(base_model.lower()=='inceptionresnetv2'):\n",
        "           \n",
        "            base_model_def = tf.keras.applications.InceptionResNetV2(input_shape=imgshape,\n",
        "                                               include_top=False,\n",
        "                                               weights='imagenet',classes=1000)\n",
        "        if(base_model.lower()=='resnet50'):\n",
        "           \n",
        "            base_model_def = tf.keras.applications.ResNet50(input_shape=imgshape,\n",
        "                                               include_top=False,\n",
        "                                               weights='imagenet',classes=1000)\n",
        "        \n",
        "        if(base_model.lower()=='xception'):\n",
        "\n",
        "            base_model_def = tf.keras.applications.Xception(input_shape=imgshape,\n",
        "                                               include_top=False,\n",
        "                                               weights='imagenet',classes=1000)\n",
        "        \n",
        "        #--------------------------\n",
        "        #Pretraining\n",
        "        #-------------------------\n",
        "        base_model_def.tranable=False\n",
        "\n",
        "        model= Sequential()\n",
        "        model.add(base_model_def) \n",
        "        model.add(Flatten()) \n",
        "        #Adding the Dense layers along with activation and batch normalization\n",
        "        for i in range(numberOfDenseLayer):\n",
        "            model.add(Dense(number_of_neurons_dense_layer,activation=(activation_function)))\n",
        "            if (batchNormalization):\n",
        "              model.add(tf.keras.layers.BatchNormalization())\n",
        "        \n",
        "        if(dropout_rate>0):\n",
        "            model.add(Dropout(dropout_rate))\n",
        "        model.add(Dense(10,activation=('softmax'))) \n",
        "\n",
        "\n",
        "        if(optimizer==\"sgd\"):\n",
        "          model.compile(optimizer=tf.keras.optimizers.SGD(learning_rate=lr,momentum=0.9),\\\n",
        "              loss=[tf.keras.losses.SparseCategoricalCrossentropy()],\\\n",
        "              metrics=['accuracy']\n",
        "              ) \n",
        "        else:\n",
        "          model.compile(optimizer=tf.keras.optimizers.Adam(learning_rate=lr),\\\n",
        "              loss=[tf.keras.losses.SparseCategoricalCrossentropy()],\\\n",
        "              metrics=['accuracy']\n",
        "              ) \n",
        "        #early stopping as it may lead overfitting\n",
        "        early_stop = tf.keras.callbacks.EarlyStopping(monitor='val_loss', patience=2,restore_best_weights=True)\n",
        "        #adding early condition\n",
        "        if(wandbLog):\n",
        "          hist=model.fit(train_ds, epochs=5,validation_data=val_ds,callbacks=[early_stop,WandbCallback()])\n",
        "        else:\n",
        "          hist=model.fit(train_ds, epochs=5,validation_data=val_ds,callbacks=[early_stop])\n",
        "        #------------------------\n",
        "        #fine tunning\n",
        "        #-------------------------\n",
        "        \n",
        "        #no_of_last_trainable_layers if value zero we will train all\n",
        "        total_layers=len(base_model_def.layers)\n",
        "        no_of_last_trainable_layers=int(total_layers*fraction_of_trainable_layers)\n",
        "        for i in range(total_layers-no_of_last_trainable_layers ,total_layers):\n",
        "            base_model_def.layers[i].trainable=True\n",
        "  \n",
        "        #now train again with very low learning rate\n",
        "        if(optimizer==\"sgd\"):\n",
        "          model.compile(optimizer=tf.keras.optimizers.SGD(learning_rate=lr,momentum=0.9),\\\n",
        "              loss=[tf.keras.losses.SparseCategoricalCrossentropy()],\\\n",
        "              metrics=['accuracy']\n",
        "              ) \n",
        "        else:\n",
        "          model.compile(optimizer=tf.keras.optimizers.Adam(learning_rate=lr),\\\n",
        "              loss=[tf.keras.losses.SparseCategoricalCrossentropy()],\\\n",
        "              metrics=['accuracy']\n",
        "              ) \n",
        "\n",
        "     \n",
        "          \n",
        "        if(wandbLog):\n",
        "          hist=model.fit(train_ds, epochs=5,validation_data=val_ds,callbacks=[early_stop,WandbCallback()])\n",
        "        else:\n",
        "          hist=model.fit(train_ds, epochs=5,validation_data=val_ds,callbacks=[early_stop])\n",
        "\n",
        "\n",
        "        return model\n",
        "\n"
      ]
    },
    {
      "cell_type": "code",
      "execution_count": 21,
      "metadata": {
        "id": "Qs2OvCfCbOJU"
      },
      "outputs": [],
      "source": [
        "ds=Dataset()"
      ]
    },
    {
      "cell_type": "markdown",
      "metadata": {
        "id": "vlM3siSacJaa"
      },
      "source": [
        "### Download data set"
      ]
    },
    {
      "cell_type": "code",
      "execution_count": 22,
      "metadata": {
        "id": "I6gE3UKtbY17"
      },
      "outputs": [],
      "source": [
        "ds.downloadDataSet()"
      ]
    },
    {
      "cell_type": "code",
      "execution_count": 23,
      "metadata": {
        "colab": {
          "base_uri": "https://localhost:8080/",
          "height": 118
        },
        "id": "PBfylmm2bTcX",
        "outputId": "d152d2f8-93f4-4279-eeab-4525151c4cb1"
      },
      "outputs": [
        {
          "output_type": "display_data",
          "data": {
            "text/plain": [
              "<Figure size 1080x1080 with 10 Axes>"
            ],
            "image/png": "[encoded data removed]"
          },
          "metadata": {
            "needs_background": "light"
          }
        }
      ],
      "source": [
        "ds.showRandomImageOfEveryClass()"
      ]
    },
    {
      "cell_type": "markdown",
      "metadata": {
        "id": "Ro2DsXAEcEX_"
      },
      "source": [
        "### Load data set"
      ]
    },
    {
      "cell_type": "code",
      "execution_count": 24,
      "metadata": {
        "colab": {
          "base_uri": "https://localhost:8080/"
        },
        "id": "c7BXWFvZb-un",
        "outputId": "c384fcfe-a5d9-49ed-ce8c-2b69d8a02d14"
      },
      "outputs": [
        {
          "output_type": "stream",
          "name": "stdout",
          "text": [
            "Training Dataset\n",
            "Found 9000 images belonging to 10 classes.\n",
            "Found 999 images belonging to 10 classes.\n",
            "\n",
            "Test Dataset\n",
            "Found 2000 images belonging to 10 classes.\n"
          ]
        }
      ],
      "source": [
        "train_ds,val_ds,test_ds=ds.import_dataset(seed=42,image_size=300,augment_data=True)"
      ]
    },
    {
      "cell_type": "code",
      "execution_count": null,
      "metadata": {
        "id": "1YjQG0LJeuFm"
      },
      "outputs": [],
      "source": [
        "#sample inputs\n",
        "cnn=TransferLearn()\n",
        "\n",
        "base_model=\"resnet50\"\n",
        "activation_function = 'relu'\n",
        "number_of_neurons_in_the_dense_layer = 1024\n",
        "dropout=0.5\n",
        "number_of_classes=10\n",
        "numberOfDenseLayer=1\n",
        "img_size=300\n",
        "batchNormalization=True\n",
        "no_of_last_trainable_layers=2\n",
        "no_of_last_trainable_layers=0\n",
        "numberOfDenseLayer=2\n",
        "epoch=5\n",
        "wandbLog=False\n",
        "model=cnn.Train(base_model,\n",
        "                img_size,\\\n",
        "                activation_function,\\\n",
        "                number_of_neurons_in_the_dense_layer,\\\n",
        "                number_of_classes,\\\n",
        "                dropout,\\\n",
        "                BatchNormalization,\\\n",
        "                no_of_last_trainable_layers,numberOfDenseLayer,epoch,wandbLog) \n"
      ]
    },
    {
      "cell_type": "code",
      "execution_count": null,
      "metadata": {
        "id": "IOCbe-1VgQ5S"
      },
      "outputs": [],
      "source": [
        "model.evaluate(test_ds)"
      ]
    },
    {
      "cell_type": "code",
      "execution_count": null,
      "metadata": {
        "colab": {
          "background_save": true
        },
        "id": "ZAfA1JzAtQ-3"
      },
      "outputs": [],
      "source": [
        "# This is the main function to use to train/fine-tune the model using wandb runs\n",
        "def train_wandb():\n",
        "    run = wandb.init()\n",
        "    image_shape=(300, 300)\n",
        "    config=wandb.config\n",
        "    # Set the run name\n",
        "    name = str(config[\"base_model\"]) + \"_\"\n",
        "    name += \" optimizer(\" + str(config[\"optimizer\"]) + \")_\"\n",
        "    name += \" fraction_of_trainable_layers(\" + str(config[\"fraction_of_trainable_layers\"]) + \")_\"\n",
        "    name += \"dropout_rate(\" + str(config[\"dropout_rate\"])+ \")_\"\n",
        "    name += \"activation_function(\" + str(config[\"activation_function\"])+ \")_\"\n",
        "    name += \"numberOfDenseLayer(\" + str(config[\"numberOfDenseLayer\"]) + \")_\"\n",
        "    name += \"batchNormalization(\" + str(config[\"batchNormalization\"]) + \")\"\n",
        "    name += \"lr(\" + str(config[\"lr\"]) + \")\"\n",
        "    wandb.run.name = name[:-1]\n",
        "    #sample inputs\n",
        "    cnn=TransferLearn()\n",
        "    base_model=config[\"base_model\"]\n",
        "    activation_function = config[\"activation_function\"]\n",
        "    number_of_neurons_in_the_dense_layer = 512\n",
        "    numberOfDenseLayer=config[\"numberOfDenseLayer\"]\n",
        "    dropout=0.3\n",
        "    number_of_classes=10\n",
        "    numberOfDenseLayer=1\n",
        "    img_size=300\n",
        "    lr=config[\"lr\"]\n",
        "    batchNormalization=config[\"batchNormalization\"]\n",
        "    optimizer=config[\"optimizer\"]\n",
        "    fraction_of_trainable_layers=config[\"fraction_of_trainable_layers\"]\n",
        "    model=cnn.Train(base_model,\n",
        "                    img_size,\\\n",
        "                    activation_function,\\\n",
        "                    number_of_neurons_in_the_dense_layer,\\\n",
        "                    number_of_classes,\\\n",
        "                    dropout,\\\n",
        "                    BatchNormalization,\\\n",
        "                    fraction_of_trainable_layers,numberOfDenseLayer,lr,optimizer,wandbLog=True) \n",
        " \n"
      ]
    },
    {
      "cell_type": "code",
      "execution_count": 25,
      "metadata": {
        "id": "ysqrk_37p8sx",
        "colab": {
          "base_uri": "https://localhost:8080/",
          "height": 104
        },
        "outputId": "159da138-1702-4593-aeba-a29ea24115af"
      },
      "outputs": [
        {
          "output_type": "display_data",
          "data": {
            "text/plain": [
              "<IPython.core.display.Javascript object>"
            ],
            "application/javascript": [
              "\n",
              "        window._wandbApiKey = new Promise((resolve, reject) => {\n",
              "            function loadScript(url) {\n",
              "            return new Promise(function(resolve, reject) {\n",
              "                let newScript = document.createElement(\"script\");\n",
              "                newScript.onerror = reject;\n",
              "                newScript.onload = resolve;\n",
              "                document.body.appendChild(newScript);\n",
              "                newScript.src = url;\n",
              "            });\n",
              "            }\n",
              "            loadScript(\"https://cdn.jsdelivr.net/npm/postmate/build/postmate.min.js\").then(() => {\n",
              "            const iframe = document.createElement('iframe')\n",
              "            iframe.style.cssText = \"width:0;height:0;border:none\"\n",
              "            document.body.appendChild(iframe)\n",
              "            const handshake = new Postmate({\n",
              "                container: iframe,\n",
              "                url: 'https://wandb.ai/authorize'\n",
              "            });\n",
              "            const timeout = setTimeout(() => reject(\"Couldn't auto authenticate\"), 5000)\n",
              "            handshake.then(function(child) {\n",
              "                child.on('authorize', data => {\n",
              "                    clearTimeout(timeout)\n",
              "                    resolve(data)\n",
              "                });\n",
              "            });\n",
              "            })\n",
              "        });\n",
              "    "
            ]
          },
          "metadata": {}
        },
        {
          "output_type": "stream",
          "name": "stderr",
          "text": [
            "\u001b[34m\u001b[1mwandb\u001b[0m: You can find your API key in your browser here: https://wandb.ai/authorize\n"
          ]
        },
        {
          "name": "stdout",
          "output_type": "stream",
          "text": [
            "wandb: Paste an API key from your profile and hit enter, or press ctrl+c to quit: ··········\n"
          ]
        },
        {
          "output_type": "stream",
          "name": "stderr",
          "text": [
            "\u001b[34m\u001b[1mwandb\u001b[0m: Appending key for api.wandb.ai to your netrc file: /root/.netrc\n"
          ]
        },
        {
          "output_type": "execute_result",
          "data": {
            "text/plain": [
              "True"
            ]
          },
          "metadata": {},
          "execution_count": 25
        }
      ],
      "source": [
        "import wandb\n",
        "wandb.login()\n"
      ]
    },
    {
      "cell_type": "code",
      "execution_count": null,
      "metadata": {
        "colab": {
          "base_uri": "https://localhost:8080/",
          "height": 218
        },
        "id": "s-DhuR8Vs_f-",
        "outputId": "3bfb63a2-2f14-429c-acc1-a7073e0af9f8"
      },
      "outputs": [
        {
          "ename": "NameError",
          "evalue": "ignored",
          "output_type": "error",
          "traceback": [
            "\u001b[0;31m---------------------------------------------------------------------------\u001b[0m",
            "\u001b[0;31mNameError\u001b[0m                                 Traceback (most recent call last)",
            "\u001b[0;32m<ipython-input-1-b6356c8ff128>\u001b[0m in \u001b[0;36m<module>\u001b[0;34m()\u001b[0m\n\u001b[1;32m     24\u001b[0m         }\n\u001b[1;32m     25\u001b[0m     }\n\u001b[0;32m---> 26\u001b[0;31m \u001b[0msweep_id\u001b[0m \u001b[0;34m=\u001b[0m \u001b[0mwandb\u001b[0m\u001b[0;34m.\u001b[0m\u001b[0msweep\u001b[0m\u001b[0;34m(\u001b[0m\u001b[0msweep_config\u001b[0m\u001b[0;34m,\u001b[0m \u001b[0mentity\u001b[0m\u001b[0;34m=\u001b[0m\u001b[0;34m\"kankan-jana\"\u001b[0m\u001b[0;34m,\u001b[0m \u001b[0mproject\u001b[0m\u001b[0;34m=\u001b[0m\u001b[0;34m\"CS6910_Assignment-2\"\u001b[0m\u001b[0;34m)\u001b[0m\u001b[0;34m\u001b[0m\u001b[0;34m\u001b[0m\u001b[0m\n\u001b[0m\u001b[1;32m     27\u001b[0m \u001b[0mwandb\u001b[0m\u001b[0;34m.\u001b[0m\u001b[0magent\u001b[0m\u001b[0;34m(\u001b[0m\u001b[0msweep_id\u001b[0m\u001b[0;34m,\u001b[0m \u001b[0mtrain_wandb\u001b[0m\u001b[0;34m)\u001b[0m\u001b[0;34m\u001b[0m\u001b[0;34m\u001b[0m\u001b[0m\n",
            "\u001b[0;31mNameError\u001b[0m: name 'wandb' is not defined"
          ]
        }
      ],
      "source": [
        "sweep_config = {\n",
        "  \"name\": \"DLAssignmentQuesB\",\n",
        "  \"method\": \"bayes\",\n",
        "  \"metric\": {\n",
        "      \"name\": \"validation_loss\",\n",
        "      \"goal\": \"minimize\",\n",
        "  },\n",
        "  \n",
        "  \"parameters\": {\n",
        "        \"base_model\": {\n",
        "            \"values\": [\"inceptionv3\",\"resnet50\", \"inceptionresnetv2\",  \"xception\"]\n",
        "        },\n",
        "        \"lr\":{\n",
        "          \"values\":[1e-5,1e-4]  \n",
        "        },\n",
        "        \"optimizer\":{\n",
        "          \"values\":['adam','sgd']  \n",
        "        },\n",
        "        \"fraction_of_trainable_layers\":{ \"values\": [1,.50,.75]},\n",
        "        \"dropout_rate\":{ \"values\": [.3,0.4,0.5]},\n",
        "        \"batchNormalization\":{ \"values\": [True,False]},\n",
        "        \"activation_function\": {\"values\": [\"relu\",\"LeakyReLU\"]},\n",
        "        \"numberOfDenseLayer\":{\"values\":[1,2]}\n",
        "        }\n",
        "    }\n",
        "sweep_id = wandb.sweep(sweep_config, entity=\"kankan-jana\", project=\"CS6910_Assignment-2\")\n",
        "wandb.agent(sweep_id, train_wandb)"
      ]
    },
    {
      "cell_type": "code",
      "execution_count": 30,
      "metadata": {
        "id": "UhsHrTYpf3n1",
        "colab": {
          "base_uri": "https://localhost:8080/",
          "height": 276,
          "referenced_widgets": [
            "d1c5b93db68542edaf9dee024fddf929",
            "c7096d8b33e045beb00faa3b4dcdcf57",
            "12d6f7d107264cf1a4ff2cd7027a388c",
            "4960ff888ecc48f19875ad2c73a0e435",
            "4bb6bc252cf847719de6629fbbc43c4e",
            "efab277c58e54dce86fa6c0541539977",
            "ba6bd347e0de439dbed9b0a704e2fdcc",
            "f9e1c923dd3c46eaa7054c4676c690ff"
          ]
        },
        "outputId": "635d8dc2-44ab-443d-b837-0203fb88fcc8"
      },
      "outputs": [
        {
          "output_type": "display_data",
          "data": {
            "text/plain": [
              "<IPython.core.display.HTML object>"
            ],
            "text/html": [
              "Finishing last run (ID:3d2gni8h) before initializing another..."
            ]
          },
          "metadata": {}
        },
        {
          "output_type": "stream",
          "name": "stdout",
          "text": [
            "\n"
          ]
        },
        {
          "output_type": "display_data",
          "data": {
            "text/plain": [
              "<IPython.core.display.HTML object>"
            ],
            "text/html": [
              "Waiting for W&B process to finish... <strong style=\"color:green\">(success).</strong>"
            ]
          },
          "metadata": {}
        },
        {
          "output_type": "display_data",
          "data": {
            "text/plain": [
              "VBox(children=(Label(value='0.000 MB of 0.000 MB uploaded (0.000 MB deduped)\\r'), FloatProgress(value=1.0, max…"
            ],
            "application/vnd.jupyter.widget-view+json": {
              "version_major": 2,
              "version_minor": 0,
              "model_id": "d1c5b93db68542edaf9dee024fddf929"
            }
          },
          "metadata": {}
        },
        {
          "output_type": "display_data",
          "data": {
            "text/plain": [
              "<IPython.core.display.HTML object>"
            ],
            "text/html": [
              "Synced <strong style=\"color:#cdcd00\">zesty-resonance-6</strong>: <a href=\"https://wandb.ai/kankan-jana/CS6910_Assignment-2/runs/3d2gni8h\" target=\"_blank\">https://wandb.ai/kankan-jana/CS6910_Assignment-2/runs/3d2gni8h</a><br/>Synced 3 W&B file(s), 0 media file(s), 0 artifact file(s) and 0 other file(s)"
            ]
          },
          "metadata": {}
        },
        {
          "output_type": "display_data",
          "data": {
            "text/plain": [
              "<IPython.core.display.HTML object>"
            ],
            "text/html": [
              "Find logs at: <code>./wandb/run-20220404_170119-3d2gni8h/logs</code>"
            ]
          },
          "metadata": {}
        },
        {
          "output_type": "display_data",
          "data": {
            "text/plain": [
              "<IPython.core.display.HTML object>"
            ],
            "text/html": [
              "Successfully finished last run (ID:3d2gni8h). Initializing new run:<br/>"
            ]
          },
          "metadata": {}
        },
        {
          "output_type": "display_data",
          "data": {
            "text/plain": [
              "<IPython.core.display.HTML object>"
            ],
            "text/html": [
              "Tracking run with wandb version 0.12.11"
            ]
          },
          "metadata": {}
        },
        {
          "output_type": "display_data",
          "data": {
            "text/plain": [
              "<IPython.core.display.HTML object>"
            ],
            "text/html": [
              "Run data is saved locally in <code>/content/wandb/run-20220404_170219-er4kzzuf</code>"
            ]
          },
          "metadata": {}
        },
        {
          "output_type": "display_data",
          "data": {
            "text/plain": [
              "<IPython.core.display.HTML object>"
            ],
            "text/html": [
              "Syncing run <strong><a href=\"https://wandb.ai/kankan-jana/CS6910_Assignment-2/runs/er4kzzuf\" target=\"_blank\">trim-resonance-7</a></strong> to <a href=\"https://wandb.ai/kankan-jana/CS6910_Assignment-2\" target=\"_blank\">Weights & Biases</a> (<a href=\"https://wandb.me/run\" target=\"_blank\">docs</a>)<br/>"
            ]
          },
          "metadata": {}
        },
        {
          "output_type": "execute_result",
          "data": {
            "text/html": [
              "<button onClick=\"this.nextSibling.style.display='block';this.style.display='none';\">Display W&B run</button><iframe src=\"https://wandb.ai/kankan-jana/CS6910_Assignment-2/runs/er4kzzuf?jupyter=true\" style=\"border:none;width:100%;height:420px;display:none;\"></iframe>"
            ],
            "text/plain": [
              "<wandb.sdk.wandb_run.Run at 0x7f11ce98bf10>"
            ]
          },
          "metadata": {},
          "execution_count": 30
        }
      ],
      "source": [
        "wandb.init(entity=\"kankan-jana\",project=\"CS6910_Assignment-2\")"
      ]
    },
    {
      "cell_type": "markdown",
      "source": [
        "## Steps to rerun disconnected Wandb"
      ],
      "metadata": {
        "id": "ClbBFZqNjXjX"
      }
    },
    {
      "cell_type": "code",
      "source": [
        "sweep_config = {\n",
        "  \"name\": \"DLAssignmentQuesB\",\n",
        "  \"method\": \"bayes\",\n",
        "  \"metric\": {\n",
        "      \"name\": \"validation_loss\",\n",
        "      \"goal\": \"minimize\",\n",
        "  },\n",
        "  \n",
        "  \"parameters\": {\n",
        "        \"base_model\": {\n",
        "            \"values\": [\"inceptionv3\",\"resnet50\", \"inceptionresnetv2\",  \"xception\"]\n",
        "        },\n",
        "        \"lr\":{\n",
        "          \"values\":[1e-5,1e-4]  \n",
        "        },\n",
        "        \"optimizer\":{\n",
        "          \"values\":['adam','sgd']  \n",
        "        },\n",
        "        \"fraction_of_trainable_layers\":{ \"values\": [1,.50,.75]},\n",
        "        \"dropout_rate\":{ \"values\": [.3,0.4,0.5]},\n",
        "        \"batchNormalization\":{ \"values\": [True,False]},\n",
        "        \"activation_function\": {\"values\": [\"relu\",\"LeakyReLU\"]},\n",
        "        \"numberOfDenseLayer\":{\"values\":[1,2]}\n",
        "        }\n",
        "    }"
      ],
      "metadata": {
        "id": "SFjU9DLBiDpG"
      },
      "execution_count": 34,
      "outputs": []
    },
    {
      "cell_type": "code",
      "source": [
        "sweep_id = wandb.sweep(sweep_config, entity=\"kankan-jana\", project=\"CS6910_Assignment-2\")"
      ],
      "metadata": {
        "colab": {
          "base_uri": "https://localhost:8080/"
        },
        "id": "UZVWPdWziARn",
        "outputId": "35c17d72-9eef-4ae4-b5eb-dd0b008abdd3"
      },
      "execution_count": 35,
      "outputs": [
        {
          "output_type": "stream",
          "name": "stdout",
          "text": [
            "Create sweep with ID: gr48zgpf\n",
            "Sweep URL: https://wandb.ai/kankan-jana/CS6910_Assignment-2/sweeps/gr48zgpf\n"
          ]
        }
      ]
    },
    {
      "cell_type": "code",
      "source": [
        "\n",
        "wandb.agent(\"gb27evo2\", train_wandb)"
      ],
      "metadata": {
        "id": "bbBPRKu2gwPI",
        "colab": {
          "base_uri": "https://localhost:8080/",
          "height": 1000,
          "referenced_widgets": [
            "0223ddc4fedb429d948d7d0f8618f3da",
            "da0454996b57459fb8dfbf46547279a4",
            "d55cb28ad37d4d7e89c07150b6a0e007",
            "566be6c6ab584aaca897f4eb20cce91d",
            "198532dadea74b34a8bb314f5099e84a",
            "174321e170944b35a65d9efd66ec5fa8",
            "e51865e39ad14e2fb7688b8d5ed48822",
            "32797e7b280f406783b6d4f0c3c6b6b0",
            "e7236d66816d4799aef19c23a534d2ea",
            "8d3b44911e36400cbce26591df8876d4",
            "b1a5474b85994005aef0b15b710f8c33",
            "37812d8842ce40e4b911e2daaf931901",
            "7b7e013a95384a97a60712dadb3a81ee",
            "0d84df9811b945f0b55ee04bbcb0becc",
            "c6389ba72ba84bb08805e94b1f958ef6",
            "92b67e474dd94f3796ce4e6897f6ed58",
            "fe81679e314a47f5a5bf85a534171f85",
            "6c9761ea37714b8d8e4fcee8694066b3",
            "dd7d60069c03483083090ae5f7507a4a",
            "baf73ea8e9654dbfa2842b029bd35f0c",
            "506562ebe89e4d5f846d01dd73195385",
            "73e9c8fc65c24f15a8b99d03e8ca71c9",
            "683f49d46cf74840baffa3660884c70c",
            "417d6135823043418cde59182fd523a3",
            "dea63732e6124af187b77a1b2ac034b2",
            "e93a02ad29f340f89f29954439d251bf",
            "02bbfa265f83426582f38ebc90feea47",
            "3ae18aa9e957463381c61fa987770abc",
            "7e7d50a14f5144aea7c7b4fe6a84260d",
            "a13f38b4b2d747f896b519f05b5545ed",
            "df6932b77d044e59a737309ae6780ee2",
            "ddc3c156c78b47c694036df461d15867",
            "e31cba26b5e94279a6495d803b8b9739",
            "d77a14b012ad48d392de79e7019e992b",
            "4307e246a862446eb0c3da782712db73",
            "832ad78ff11b4e278dcdd63eee90b402",
            "1dec12ce2b15433986f0f42131fa8f1c",
            "152b212538674bfcb0b05893da4bcf41",
            "8e65cdd9c89644a6881ab2927f25f357",
            "4a7e628425424b4baec96c39f612b14b",
            "23e456360280419faedf92626070d2a4",
            "725e83792a45467ea89a305a524351f7",
            "13f3a880a0df4e3cbdcadb0a1cf7ea55",
            "f7dfabd881254231b435713b4225a38e",
            "e4e1904a6623428d8273fd6131824368",
            "06c5d4caef1c4e37ad17624577f53741",
            "7a90d889aebc417485a795118246376d",
            "8dc3454bea664af9979bc6f6b1823d00",
            "91525ee72b824206918d62c5d052cd80",
            "bdd9977edf9e477686da80e2668928f5",
            "d7d28568f533453594efa19b4e3c1ac7",
            "96e3f19b598342c2baf343505bcc9ef4",
            "7ca6c731aed640b4afbc60fdfeedecb5",
            "a7af51dd5c634e3c992dcc5274cbf09f",
            "8c8401cf2116416c8f614f1492ac68ed",
            "b5a8d545d96a42089772d9014825db46",
            "f7d64aa86cb9446a8b8c2651cb6d519e",
            "8536619c1e554edf9fc4b820360feeba",
            "d9a732ef38254eea9976d34f58114998",
            "66b5acc3ec264c23a55192cfef21bcfe",
            "597caab153cf4f8499e1c9f3305d1e5a",
            "544158a35aad49069a1b6bcf0154f6c6",
            "b491a518f2624acbb7650ff0e6953e04",
            "f402f6704038401e87aee52d2e04089f",
            "7e45f80ebd414fc3b99a64a41b007f5b",
            "7b7c89d17a464a819441dd5866592f16",
            "bf35dad0f2124c2cbc9ffb5e6079c52c",
            "d1b4a8a17a9a43daa6a8b4e186c838e7",
            "3b0907f1ecbb461eb2bf2e697b935a50",
            "846695686f3a442f97d7059deabc02f2",
            "2d7d503085c14ae2b145540678bb9594",
            "8aba87ddfed74663a4892f7ce1f4cccf",
            "f10f7210607e43128f9796b363abc16c",
            "14db3d58b92b4ecd953e6d4a59f78fdf",
            "de234a10493e4730a1d87351434d8040",
            "c40062c6ead84b4a8aacea0c1f953cd6",
            "903a210c179a45aea3edf123c365bf06",
            "d1a876e97f63465f8c4eccc58b0c717a",
            "97c139545a4f42359bb6be9f737b8e4e",
            "feb7f9748e344f71bf2eadb97183f5b1",
            "cde0e4f7826947cca2cb1cfae77e140c",
            "b43c03c44c3446a58f2963a2c0333644",
            "f8a3c924e9404178b6db3ddd77fba905",
            "c007296163c9425896189b7c561b9a0a",
            "b0eea7ddc870435bb4630337d66b69fe",
            "364862b9689247d696444a01629273a0",
            "f529804e62e74d4d9fc50f11f8efe240",
            "150d8558ff874af6be9bf5ade7099abe"
          ]
        },
        "outputId": "f2abc8a1-67cc-41a8-a40f-3419a54bb9c2"
      },
      "execution_count": null,
      "outputs": [
        {
          "metadata": {
            "tags": null
          },
          "name": "stderr",
          "output_type": "stream",
          "text": [
            "\u001b[34m\u001b[1mwandb\u001b[0m: \u001b[33mWARNING\u001b[0m Calling wandb.login() after wandb.init() has no effect.\n",
            "\u001b[34m\u001b[1mwandb\u001b[0m: Agent Starting Run: 82cqjy31 with config:\n",
            "\u001b[34m\u001b[1mwandb\u001b[0m: \tactivation_function: LeakyReLU\n",
            "\u001b[34m\u001b[1mwandb\u001b[0m: \tbase_model: inceptionv3\n",
            "\u001b[34m\u001b[1mwandb\u001b[0m: \tbatchNormalization: True\n",
            "\u001b[34m\u001b[1mwandb\u001b[0m: \tdropout_rate: 0.3\n",
            "\u001b[34m\u001b[1mwandb\u001b[0m: \tfraction_of_trainable_layers: 0.75\n",
            "\u001b[34m\u001b[1mwandb\u001b[0m: \tlr: 1e-05\n",
            "\u001b[34m\u001b[1mwandb\u001b[0m: \tnumberOfDenseLayer: 1\n",
            "\u001b[34m\u001b[1mwandb\u001b[0m: \toptimizer: adam\n"
          ]
        },
        {
          "data": {
            "text/html": [
              "Tracking run with wandb version 0.12.11"
            ],
            "text/plain": [
              "<IPython.core.display.HTML object>"
            ]
          },
          "metadata": {},
          "output_type": "display_data"
        },
        {
          "data": {
            "text/html": [
              "Run data is saved locally in <code>/content/wandb/run-20220404_170404-82cqjy31</code>"
            ],
            "text/plain": [
              "<IPython.core.display.HTML object>"
            ]
          },
          "metadata": {},
          "output_type": "display_data"
        },
        {
          "data": {
            "text/html": [
              "Syncing run <strong><a href=\"https://wandb.ai/kankan-jana/CS6910_Assignment-2/runs/82cqjy31\" target=\"_blank\">skilled-sweep-3</a></strong> to <a href=\"https://wandb.ai/kankan-jana/CS6910_Assignment-2\" target=\"_blank\">Weights & Biases</a> (<a href=\"https://wandb.me/run\" target=\"_blank\">docs</a>)<br/>Sweep page:  <a href=\"https://wandb.ai/kankan-jana/CS6910_Assignment-2/sweeps/gb27evo2\" target=\"_blank\">https://wandb.ai/kankan-jana/CS6910_Assignment-2/sweeps/gb27evo2</a>"
            ],
            "text/plain": [
              "<IPython.core.display.HTML object>"
            ]
          },
          "metadata": {},
          "output_type": "display_data"
        },
        {
          "metadata": {
            "tags": null
          },
          "name": "stdout",
          "output_type": "stream",
          "text": [
            "Downloading data from https://storage.googleapis.com/tensorflow/keras-applications/inception_v3/inception_v3_weights_tf_dim_ordering_tf_kernels_notop.h5\n",
            "87916544/87910968 [==============================] - 2s 0us/step\n",
            "87924736/87910968 [==============================] - 2s 0us/step\n",
            "Epoch 1/5\n",
            "282/282 [==============================] - 304s 1s/step - loss: 1.4843 - accuracy: 0.5917 - val_loss: 1.0722 - val_accuracy: 0.6917 - _timestamp: 1649092160.0000 - _runtime: 316.0000\n",
            "Epoch 2/5\n",
            "282/282 [==============================] - 279s 988ms/step - loss: 1.0361 - accuracy: 0.7030 - val_loss: 0.9536 - val_accuracy: 0.7307 - _timestamp: 1649092440.0000 - _runtime: 596.0000\n",
            "Epoch 3/5\n",
            "282/282 [==============================] - 278s 984ms/step - loss: 0.8804 - accuracy: 0.7390 - val_loss: 0.9312 - val_accuracy: 0.7327 - _timestamp: 1649092718.0000 - _runtime: 874.0000\n",
            "Epoch 4/5\n",
            "282/282 [==============================] - 282s 998ms/step - loss: 0.7829 - accuracy: 0.7659 - val_loss: 0.7995 - val_accuracy: 0.7688 - _timestamp: 1649092997.0000 - _runtime: 1153.0000\n",
            "Epoch 5/5\n",
            "282/282 [==============================] - 275s 974ms/step - loss: 0.6949 - accuracy: 0.7833 - val_loss: 0.8191 - val_accuracy: 0.7538 - _timestamp: 1649093278.0000 - _runtime: 1434.0000\n",
            "Epoch 1/5\n",
            "282/282 [==============================] - 288s 994ms/step - loss: 0.6685 - accuracy: 0.7978 - val_loss: 0.7511 - val_accuracy: 0.7718 - _timestamp: 1649093563.0000 - _runtime: 1719.0000\n",
            "Epoch 2/5\n",
            "282/282 [==============================] - 278s 985ms/step - loss: 0.5862 - accuracy: 0.8152 - val_loss: 0.7263 - val_accuracy: 0.7968 - _timestamp: 1649093842.0000 - _runtime: 1998.0000\n",
            "Epoch 3/5\n",
            "282/282 [==============================] - 276s 978ms/step - loss: 0.5151 - accuracy: 0.8316 - val_loss: 0.6742 - val_accuracy: 0.7958 - _timestamp: 1649094118.0000 - _runtime: 2274.0000\n",
            "Epoch 4/5\n",
            "282/282 [==============================] - 275s 973ms/step - loss: 0.4884 - accuracy: 0.8434 - val_loss: 0.6882 - val_accuracy: 0.7988 - _timestamp: 1649094396.0000 - _runtime: 2552.0000\n",
            "Epoch 5/5\n",
            "282/282 [==============================] - 276s 979ms/step - loss: 0.4334 - accuracy: 0.8573 - val_loss: 0.6555 - val_accuracy: 0.8128 - _timestamp: 1649094669.0000 - _runtime: 2825.0000\n",
            "\n"
          ]
        },
        {
          "data": {
            "text/html": [
              "Waiting for W&B process to finish... <strong style=\"color:green\">(success).</strong>"
            ],
            "text/plain": [
              "<IPython.core.display.HTML object>"
            ]
          },
          "metadata": {},
          "output_type": "display_data"
        },
        {
          "data": {
            "application/vnd.jupyter.widget-view+json": {
              "model_id": "0223ddc4fedb429d948d7d0f8618f3da",
              "version_major": 2,
              "version_minor": 0
            },
            "text/plain": [
              "VBox(children=(Label(value='1018.361 MB of 1018.361 MB uploaded (0.000 MB deduped)\\r'), FloatProgress(value=1.…"
            ]
          },
          "metadata": {},
          "output_type": "display_data"
        },
        {
          "data": {
            "text/html": [
              "<style>\n",
              "    table.wandb td:nth-child(1) { padding: 0 10px; text-align: right }\n",
              "    .wandb-row { display: flex; flex-direction: row; flex-wrap: wrap; width: 100% }\n",
              "    .wandb-col { display: flex; flex-direction: column; flex-basis: 100%; flex: 1; padding: 10px; }\n",
              "    </style>\n",
              "<div class=\"wandb-row\"><div class=\"wandb-col\"><h3>Run history:</h3><br/><table class=\"wandb\"><tr><td>accuracy</td><td>▁▄▅▆▆▆▇▇██</td></tr><tr><td>epoch</td><td>▁▃▅▆█▁▃▅▆█</td></tr><tr><td>loss</td><td>█▅▄▃▃▃▂▂▁▁</td></tr><tr><td>val_accuracy</td><td>▁▃▃▅▅▆▇▇▇█</td></tr><tr><td>val_loss</td><td>█▆▆▃▄▃▂▁▂▁</td></tr></table><br/></div><div class=\"wandb-col\"><h3>Run summary:</h3><br/><table class=\"wandb\"><tr><td>accuracy</td><td>0.85733</td></tr><tr><td>best_epoch</td><td>4</td></tr><tr><td>best_val_loss</td><td>0.65551</td></tr><tr><td>epoch</td><td>4</td></tr><tr><td>loss</td><td>0.43342</td></tr><tr><td>val_accuracy</td><td>0.81281</td></tr><tr><td>val_loss</td><td>0.65551</td></tr></table><br/></div></div>"
            ],
            "text/plain": [
              "<IPython.core.display.HTML object>"
            ]
          },
          "metadata": {},
          "output_type": "display_data"
        },
        {
          "data": {
            "text/html": [
              "Synced <strong style=\"color:#cdcd00\">skilled-sweep-3</strong>: <a href=\"https://wandb.ai/kankan-jana/CS6910_Assignment-2/runs/82cqjy31\" target=\"_blank\">https://wandb.ai/kankan-jana/CS6910_Assignment-2/runs/82cqjy31</a><br/>Synced 5 W&B file(s), 1 media file(s), 0 artifact file(s) and 1 other file(s)"
            ],
            "text/plain": [
              "<IPython.core.display.HTML object>"
            ]
          },
          "metadata": {},
          "output_type": "display_data"
        },
        {
          "data": {
            "text/html": [
              "Find logs at: <code>./wandb/run-20220404_170404-82cqjy31/logs</code>"
            ],
            "text/plain": [
              "<IPython.core.display.HTML object>"
            ]
          },
          "metadata": {},
          "output_type": "display_data"
        },
        {
          "metadata": {
            "tags": null
          },
          "name": "stderr",
          "output_type": "stream",
          "text": [
            "\u001b[34m\u001b[1mwandb\u001b[0m: Agent Starting Run: eclvh0uh with config:\n",
            "\u001b[34m\u001b[1mwandb\u001b[0m: \tactivation_function: relu\n",
            "\u001b[34m\u001b[1mwandb\u001b[0m: \tbase_model: inceptionv3\n",
            "\u001b[34m\u001b[1mwandb\u001b[0m: \tbatchNormalization: True\n",
            "\u001b[34m\u001b[1mwandb\u001b[0m: \tdropout_rate: 0.5\n",
            "\u001b[34m\u001b[1mwandb\u001b[0m: \tfraction_of_trainable_layers: 0.5\n",
            "\u001b[34m\u001b[1mwandb\u001b[0m: \tlr: 1e-05\n",
            "\u001b[34m\u001b[1mwandb\u001b[0m: \tnumberOfDenseLayer: 2\n",
            "\u001b[34m\u001b[1mwandb\u001b[0m: \toptimizer: adam\n"
          ]
        },
        {
          "data": {
            "text/html": [
              "Tracking run with wandb version 0.12.11"
            ],
            "text/plain": [
              "<IPython.core.display.HTML object>"
            ]
          },
          "metadata": {},
          "output_type": "display_data"
        },
        {
          "data": {
            "text/html": [
              "Run data is saved locally in <code>/content/wandb/run-20220404_175159-eclvh0uh</code>"
            ],
            "text/plain": [
              "<IPython.core.display.HTML object>"
            ]
          },
          "metadata": {},
          "output_type": "display_data"
        },
        {
          "data": {
            "text/html": [
              "Syncing run <strong><a href=\"https://wandb.ai/kankan-jana/CS6910_Assignment-2/runs/eclvh0uh\" target=\"_blank\">celestial-sweep-4</a></strong> to <a href=\"https://wandb.ai/kankan-jana/CS6910_Assignment-2\" target=\"_blank\">Weights & Biases</a> (<a href=\"https://wandb.me/run\" target=\"_blank\">docs</a>)<br/>Sweep page:  <a href=\"https://wandb.ai/kankan-jana/CS6910_Assignment-2/sweeps/gb27evo2\" target=\"_blank\">https://wandb.ai/kankan-jana/CS6910_Assignment-2/sweeps/gb27evo2</a>"
            ],
            "text/plain": [
              "<IPython.core.display.HTML object>"
            ]
          },
          "metadata": {},
          "output_type": "display_data"
        },
        {
          "metadata": {
            "tags": null
          },
          "name": "stdout",
          "output_type": "stream",
          "text": [
            "Epoch 1/5\n",
            "282/282 [==============================] - 288s 995ms/step - loss: 1.4612 - accuracy: 0.5752 - val_loss: 1.0004 - val_accuracy: 0.6927 - _timestamp: 1649095014.0000 - _runtime: 295.0000\n",
            "Epoch 2/5\n",
            "282/282 [==============================] - 278s 984ms/step - loss: 1.0259 - accuracy: 0.6909 - val_loss: 0.8808 - val_accuracy: 0.7187 - _timestamp: 1649095292.0000 - _runtime: 573.0000\n",
            "Epoch 3/5\n",
            "282/282 [==============================] - 278s 984ms/step - loss: 0.8805 - accuracy: 0.7308 - val_loss: 0.8168 - val_accuracy: 0.7588 - _timestamp: 1649095570.0000 - _runtime: 851.0000\n",
            "Epoch 4/5\n",
            "282/282 [==============================] - 280s 992ms/step - loss: 0.7565 - accuracy: 0.7653 - val_loss: 0.7823 - val_accuracy: 0.7738 - _timestamp: 1649095849.0000 - _runtime: 1130.0000\n",
            "Epoch 5/5\n",
            "282/282 [==============================] - 279s 988ms/step - loss: 0.6943 - accuracy: 0.7839 - val_loss: 0.7575 - val_accuracy: 0.7718 - _timestamp: 1649096130.0000 - _runtime: 1411.0000\n",
            "Epoch 1/5\n",
            "282/282 [==============================] - 284s 982ms/step - loss: 0.6436 - accuracy: 0.7951 - val_loss: 0.7662 - val_accuracy: 0.7778 - _timestamp: 1649096419.0000 - _runtime: 1700.0000\n",
            "Epoch 2/5\n",
            "282/282 [==============================] - 277s 981ms/step - loss: 0.5730 - accuracy: 0.8192 - val_loss: 0.7386 - val_accuracy: 0.7758 - _timestamp: 1649096692.0000 - _runtime: 1973.0000\n",
            "Epoch 3/5\n",
            "282/282 [==============================] - 273s 965ms/step - loss: 0.5311 - accuracy: 0.8247 - val_loss: 0.7481 - val_accuracy: 0.7708 - _timestamp: 1649096968.0000 - _runtime: 2249.0000\n",
            "Epoch 4/5\n",
            "282/282 [==============================] - 276s 977ms/step - loss: 0.4767 - accuracy: 0.8436 - val_loss: 0.7067 - val_accuracy: 0.7938 - _timestamp: 1649097241.0000 - _runtime: 2522.0000\n",
            "Epoch 5/5\n",
            "282/282 [==============================] - 278s 985ms/step - loss: 0.4437 - accuracy: 0.8584 - val_loss: 0.6832 - val_accuracy: 0.7928 - _timestamp: 1649097519.0000 - _runtime: 2800.0000\n",
            "\n"
          ]
        },
        {
          "data": {
            "text/html": [
              "Waiting for W&B process to finish... <strong style=\"color:green\">(success).</strong>"
            ],
            "text/plain": [
              "<IPython.core.display.HTML object>"
            ]
          },
          "metadata": {},
          "output_type": "display_data"
        },
        {
          "data": {
            "application/vnd.jupyter.widget-view+json": {
              "model_id": "e7236d66816d4799aef19c23a534d2ea",
              "version_major": 2,
              "version_minor": 0
            },
            "text/plain": [
              "VBox(children=(Label(value='1018.361 MB of 1018.361 MB uploaded (0.000 MB deduped)\\r'), FloatProgress(value=1.…"
            ]
          },
          "metadata": {},
          "output_type": "display_data"
        },
        {
          "data": {
            "text/html": [
              "<style>\n",
              "    table.wandb td:nth-child(1) { padding: 0 10px; text-align: right }\n",
              "    .wandb-row { display: flex; flex-direction: row; flex-wrap: wrap; width: 100% }\n",
              "    .wandb-col { display: flex; flex-direction: column; flex-basis: 100%; flex: 1; padding: 10px; }\n",
              "    </style>\n",
              "<div class=\"wandb-row\"><div class=\"wandb-col\"><h3>Run history:</h3><br/><table class=\"wandb\"><tr><td>accuracy</td><td>▁▄▅▆▆▆▇▇██</td></tr><tr><td>epoch</td><td>▁▃▅▆█▁▃▅▆█</td></tr><tr><td>loss</td><td>█▅▄▃▃▂▂▂▁▁</td></tr><tr><td>val_accuracy</td><td>▁▃▆▇▆▇▇▆██</td></tr><tr><td>val_loss</td><td>█▅▄▃▃▃▂▂▂▁</td></tr></table><br/></div><div class=\"wandb-col\"><h3>Run summary:</h3><br/><table class=\"wandb\"><tr><td>accuracy</td><td>0.85844</td></tr><tr><td>best_epoch</td><td>4</td></tr><tr><td>best_val_loss</td><td>0.68322</td></tr><tr><td>epoch</td><td>4</td></tr><tr><td>loss</td><td>0.44374</td></tr><tr><td>val_accuracy</td><td>0.79279</td></tr><tr><td>val_loss</td><td>0.68322</td></tr></table><br/></div></div>"
            ],
            "text/plain": [
              "<IPython.core.display.HTML object>"
            ]
          },
          "metadata": {},
          "output_type": "display_data"
        },
        {
          "data": {
            "text/html": [
              "Synced <strong style=\"color:#cdcd00\">celestial-sweep-4</strong>: <a href=\"https://wandb.ai/kankan-jana/CS6910_Assignment-2/runs/eclvh0uh\" target=\"_blank\">https://wandb.ai/kankan-jana/CS6910_Assignment-2/runs/eclvh0uh</a><br/>Synced 5 W&B file(s), 1 media file(s), 0 artifact file(s) and 1 other file(s)"
            ],
            "text/plain": [
              "<IPython.core.display.HTML object>"
            ]
          },
          "metadata": {},
          "output_type": "display_data"
        },
        {
          "data": {
            "text/html": [
              "Find logs at: <code>./wandb/run-20220404_175159-eclvh0uh/logs</code>"
            ],
            "text/plain": [
              "<IPython.core.display.HTML object>"
            ]
          },
          "metadata": {},
          "output_type": "display_data"
        },
        {
          "metadata": {
            "tags": null
          },
          "name": "stderr",
          "output_type": "stream",
          "text": [
            "\u001b[34m\u001b[1mwandb\u001b[0m: Agent Starting Run: cpkrf7l6 with config:\n",
            "\u001b[34m\u001b[1mwandb\u001b[0m: \tactivation_function: LeakyReLU\n",
            "\u001b[34m\u001b[1mwandb\u001b[0m: \tbase_model: inceptionresnetv2\n",
            "\u001b[34m\u001b[1mwandb\u001b[0m: \tbatchNormalization: True\n",
            "\u001b[34m\u001b[1mwandb\u001b[0m: \tdropout_rate: 0.3\n",
            "\u001b[34m\u001b[1mwandb\u001b[0m: \tfraction_of_trainable_layers: 0.75\n",
            "\u001b[34m\u001b[1mwandb\u001b[0m: \tlr: 1e-05\n",
            "\u001b[34m\u001b[1mwandb\u001b[0m: \tnumberOfDenseLayer: 2\n",
            "\u001b[34m\u001b[1mwandb\u001b[0m: \toptimizer: sgd\n"
          ]
        },
        {
          "data": {
            "text/html": [
              "Tracking run with wandb version 0.12.11"
            ],
            "text/plain": [
              "<IPython.core.display.HTML object>"
            ]
          },
          "metadata": {},
          "output_type": "display_data"
        },
        {
          "data": {
            "text/html": [
              "Run data is saved locally in <code>/content/wandb/run-20220404_183931-cpkrf7l6</code>"
            ],
            "text/plain": [
              "<IPython.core.display.HTML object>"
            ]
          },
          "metadata": {},
          "output_type": "display_data"
        },
        {
          "data": {
            "text/html": [
              "Syncing run <strong><a href=\"https://wandb.ai/kankan-jana/CS6910_Assignment-2/runs/cpkrf7l6\" target=\"_blank\">fast-sweep-5</a></strong> to <a href=\"https://wandb.ai/kankan-jana/CS6910_Assignment-2\" target=\"_blank\">Weights & Biases</a> (<a href=\"https://wandb.me/run\" target=\"_blank\">docs</a>)<br/>Sweep page:  <a href=\"https://wandb.ai/kankan-jana/CS6910_Assignment-2/sweeps/gb27evo2\" target=\"_blank\">https://wandb.ai/kankan-jana/CS6910_Assignment-2/sweeps/gb27evo2</a>"
            ],
            "text/plain": [
              "<IPython.core.display.HTML object>"
            ]
          },
          "metadata": {},
          "output_type": "display_data"
        },
        {
          "output_type": "stream",
          "name": "stdout",
          "text": [
            "Downloading data from https://storage.googleapis.com/tensorflow/keras-applications/inception_resnet_v2/inception_resnet_v2_weights_tf_dim_ordering_tf_kernels_notop.h5\n",
            "219062272/219055592 [==============================] - 4s 0us/step\n",
            "219070464/219055592 [==============================] - 4s 0us/step\n",
            "Epoch 1/5\n",
            "282/282 [==============================] - 367s 1s/step - loss: 1.9317 - accuracy: 0.4404 - val_loss: 1.2094 - val_accuracy: 0.6296 - _timestamp: 1649097953.0000 - _runtime: 382.0000\n",
            "Epoch 2/5\n",
            "282/282 [==============================] - 340s 1s/step - loss: 1.3345 - accuracy: 0.6179 - val_loss: 1.0641 - val_accuracy: 0.6807 - _timestamp: 1649098295.0000 - _runtime: 724.0000\n",
            "Epoch 3/5\n",
            "282/282 [==============================] - 340s 1s/step - loss: 1.2191 - accuracy: 0.6460 - val_loss: 1.0080 - val_accuracy: 0.6907 - _timestamp: 1649098634.0000 - _runtime: 1063.0000\n",
            "Epoch 4/5\n",
            "282/282 [==============================] - 339s 1s/step - loss: 1.1389 - accuracy: 0.6770 - val_loss: 1.0078 - val_accuracy: 0.6947 - _timestamp: 1649098974.0000 - _runtime: 1403.0000\n",
            "Epoch 5/5\n",
            "282/282 [==============================] - 340s 1s/step - loss: 1.0986 - accuracy: 0.6863 - val_loss: 0.9397 - val_accuracy: 0.7247 - _timestamp: 1649099314.0000 - _runtime: 1743.0000\n",
            "Epoch 1/5\n",
            "282/282 [==============================] - 358s 1s/step - loss: 1.0543 - accuracy: 0.6966 - val_loss: 0.9387 - val_accuracy: 0.7257 - _timestamp: 1649099715.0000 - _runtime: 2144.0000\n",
            "Epoch 2/5\n",
            "282/282 [==============================] - 339s 1s/step - loss: 1.0172 - accuracy: 0.6982 - val_loss: 0.9156 - val_accuracy: 0.7417 - _timestamp: 1649100055.0000 - _runtime: 2484.0000\n",
            "Epoch 3/5\n",
            "282/282 [==============================] - 339s 1s/step - loss: 0.9817 - accuracy: 0.7122 - val_loss: 0.8741 - val_accuracy: 0.7377 - _timestamp: 1649100393.0000 - _runtime: 2822.0000\n",
            "Epoch 4/5\n",
            "282/282 [==============================] - 336s 1s/step - loss: 0.9672 - accuracy: 0.7159 - val_loss: 0.9111 - val_accuracy: 0.7267 - _timestamp: 1649100732.0000 - _runtime: 3161.0000\n",
            "Epoch 5/5\n",
            "282/282 [==============================] - 336s 1s/step - loss: 0.9426 - accuracy: 0.7249 - val_loss: 0.8787 - val_accuracy: 0.7477 - _timestamp: 1649101068.0000 - _runtime: 3497.0000\n",
            "\n"
          ]
        },
        {
          "output_type": "display_data",
          "data": {
            "text/plain": [
              "<IPython.core.display.HTML object>"
            ],
            "text/html": [
              "Waiting for W&B process to finish... <strong style=\"color:green\">(success).</strong>"
            ]
          },
          "metadata": {}
        },
        {
          "output_type": "display_data",
          "data": {
            "text/plain": [
              "VBox(children=(Label(value='800.685 MB of 800.685 MB uploaded (0.000 MB deduped)\\r'), FloatProgress(value=1.0,…"
            ],
            "application/vnd.jupyter.widget-view+json": {
              "version_major": 2,
              "version_minor": 0,
              "model_id": "fe81679e314a47f5a5bf85a534171f85"
            }
          },
          "metadata": {}
        },
        {
          "output_type": "display_data",
          "data": {
            "text/plain": [
              "<IPython.core.display.HTML object>"
            ],
            "text/html": [
              "<style>\n",
              "    table.wandb td:nth-child(1) { padding: 0 10px; text-align: right }\n",
              "    .wandb-row { display: flex; flex-direction: row; flex-wrap: wrap; width: 100% }\n",
              "    .wandb-col { display: flex; flex-direction: column; flex-basis: 100%; flex: 1; padding: 10px; }\n",
              "    </style>\n",
              "<div class=\"wandb-row\"><div class=\"wandb-col\"><h3>Run history:</h3><br/><table class=\"wandb\"><tr><td>accuracy</td><td>▁▅▆▇▇▇▇███</td></tr><tr><td>epoch</td><td>▁▃▅▆█▁▃▅▆█</td></tr><tr><td>loss</td><td>█▄▃▂▂▂▂▁▁▁</td></tr><tr><td>val_accuracy</td><td>▁▄▅▅▇▇█▇▇█</td></tr><tr><td>val_loss</td><td>█▅▄▄▂▂▂▁▂▁</td></tr></table><br/></div><div class=\"wandb-col\"><h3>Run summary:</h3><br/><table class=\"wandb\"><tr><td>accuracy</td><td>0.72489</td></tr><tr><td>best_epoch</td><td>2</td></tr><tr><td>best_val_loss</td><td>0.87414</td></tr><tr><td>epoch</td><td>4</td></tr><tr><td>loss</td><td>0.9426</td></tr><tr><td>val_accuracy</td><td>0.74775</td></tr><tr><td>val_loss</td><td>0.87874</td></tr></table><br/></div></div>"
            ]
          },
          "metadata": {}
        },
        {
          "output_type": "display_data",
          "data": {
            "text/plain": [
              "<IPython.core.display.HTML object>"
            ],
            "text/html": [
              "Synced <strong style=\"color:#cdcd00\">fast-sweep-5</strong>: <a href=\"https://wandb.ai/kankan-jana/CS6910_Assignment-2/runs/cpkrf7l6\" target=\"_blank\">https://wandb.ai/kankan-jana/CS6910_Assignment-2/runs/cpkrf7l6</a><br/>Synced 5 W&B file(s), 1 media file(s), 0 artifact file(s) and 1 other file(s)"
            ]
          },
          "metadata": {}
        },
        {
          "output_type": "display_data",
          "data": {
            "text/plain": [
              "<IPython.core.display.HTML object>"
            ],
            "text/html": [
              "Find logs at: <code>./wandb/run-20220404_183931-cpkrf7l6/logs</code>"
            ]
          },
          "metadata": {}
        },
        {
          "output_type": "stream",
          "name": "stderr",
          "text": [
            "\u001b[34m\u001b[1mwandb\u001b[0m: Agent Starting Run: khkf6rnz with config:\n",
            "\u001b[34m\u001b[1mwandb\u001b[0m: \tactivation_function: LeakyReLU\n",
            "\u001b[34m\u001b[1mwandb\u001b[0m: \tbase_model: resnet50\n",
            "\u001b[34m\u001b[1mwandb\u001b[0m: \tbatchNormalization: True\n",
            "\u001b[34m\u001b[1mwandb\u001b[0m: \tdropout_rate: 0.5\n",
            "\u001b[34m\u001b[1mwandb\u001b[0m: \tfraction_of_trainable_layers: 1\n",
            "\u001b[34m\u001b[1mwandb\u001b[0m: \tlr: 0.0001\n",
            "\u001b[34m\u001b[1mwandb\u001b[0m: \tnumberOfDenseLayer: 1\n",
            "\u001b[34m\u001b[1mwandb\u001b[0m: \toptimizer: adam\n"
          ]
        },
        {
          "output_type": "display_data",
          "data": {
            "text/plain": [
              "<IPython.core.display.HTML object>"
            ],
            "text/html": [
              "Tracking run with wandb version 0.12.11"
            ]
          },
          "metadata": {}
        },
        {
          "output_type": "display_data",
          "data": {
            "text/plain": [
              "<IPython.core.display.HTML object>"
            ],
            "text/html": [
              "Run data is saved locally in <code>/content/wandb/run-20220404_193839-khkf6rnz</code>"
            ]
          },
          "metadata": {}
        },
        {
          "output_type": "display_data",
          "data": {
            "text/plain": [
              "<IPython.core.display.HTML object>"
            ],
            "text/html": [
              "Syncing run <strong><a href=\"https://wandb.ai/kankan-jana/CS6910_Assignment-2/runs/khkf6rnz\" target=\"_blank\">eager-sweep-6</a></strong> to <a href=\"https://wandb.ai/kankan-jana/CS6910_Assignment-2\" target=\"_blank\">Weights & Biases</a> (<a href=\"https://wandb.me/run\" target=\"_blank\">docs</a>)<br/>Sweep page:  <a href=\"https://wandb.ai/kankan-jana/CS6910_Assignment-2/sweeps/gb27evo2\" target=\"_blank\">https://wandb.ai/kankan-jana/CS6910_Assignment-2/sweeps/gb27evo2</a>"
            ]
          },
          "metadata": {}
        },
        {
          "output_type": "stream",
          "name": "stdout",
          "text": [
            "Downloading data from https://storage.googleapis.com/tensorflow/keras-applications/resnet/resnet50_weights_tf_dim_ordering_tf_kernels_notop.h5\n",
            "94773248/94765736 [==============================] - 1s 0us/step\n",
            "94781440/94765736 [==============================] - 1s 0us/step\n",
            "Epoch 1/5\n",
            "282/282 [==============================] - 298s 1s/step - loss: 1.6421 - accuracy: 0.5886 - val_loss: 5.8748 - val_accuracy: 0.1011 - _timestamp: 1649101418.0000 - _runtime: 299.0000\n",
            "Epoch 2/5\n",
            "282/282 [==============================] - 278s 984ms/step - loss: 0.8887 - accuracy: 0.7178 - val_loss: 3.2476 - val_accuracy: 0.1932 - _timestamp: 1649101702.0000 - _runtime: 583.0000\n",
            "Epoch 3/5\n",
            "282/282 [==============================] - 280s 991ms/step - loss: 0.7431 - accuracy: 0.7594 - val_loss: 1.5555 - val_accuracy: 0.5135 - _timestamp: 1649101981.0000 - _runtime: 862.0000\n",
            "Epoch 4/5\n",
            "282/282 [==============================] - 280s 991ms/step - loss: 0.6348 - accuracy: 0.7967 - val_loss: 1.0102 - val_accuracy: 0.7037 - _timestamp: 1649102259.0000 - _runtime: 1140.0000\n",
            "Epoch 5/5\n",
            "282/282 [==============================] - 278s 985ms/step - loss: 0.5733 - accuracy: 0.8133 - val_loss: 0.8477 - val_accuracy: 0.7187 - _timestamp: 1649102581.0000 - _runtime: 1462.0000\n",
            "Epoch 1/5\n",
            "282/282 [==============================] - 281s 976ms/step - loss: 0.6386 - accuracy: 0.8007 - val_loss: 1.1137 - val_accuracy: 0.6757 - _timestamp: 1649102869.0000 - _runtime: 1750.0000\n",
            "Epoch 2/5\n",
            "282/282 [==============================] - 274s 969ms/step - loss: 0.5539 - accuracy: 0.8207 - val_loss: 0.9457 - val_accuracy: 0.7157 - _timestamp: 1649103143.0000 - _runtime: 2024.0000\n",
            "Epoch 3/5\n",
            "282/282 [==============================] - 272s 961ms/step - loss: 0.5140 - accuracy: 0.8356 - val_loss: 1.0230 - val_accuracy: 0.7097 - _timestamp: 1649103415.0000 - _runtime: 2296.0000\n",
            "Epoch 4/5\n",
            "282/282 [==============================] - 271s 960ms/step - loss: 0.4422 - accuracy: 0.8566 - val_loss: 1.0924 - val_accuracy: 0.7047 - _timestamp: 1649103686.0000 - _runtime: 2567.0000\n",
            "\n"
          ]
        },
        {
          "output_type": "display_data",
          "data": {
            "text/plain": [
              "<IPython.core.display.HTML object>"
            ],
            "text/html": [
              "Waiting for W&B process to finish... <strong style=\"color:green\">(success).</strong>"
            ]
          },
          "metadata": {}
        },
        {
          "output_type": "display_data",
          "data": {
            "text/plain": [
              "VBox(children=(Label(value='1470.428 MB of 1470.428 MB uploaded (0.000 MB deduped)\\r'), FloatProgress(value=1.…"
            ],
            "application/vnd.jupyter.widget-view+json": {
              "version_major": 2,
              "version_minor": 0,
              "model_id": "dea63732e6124af187b77a1b2ac034b2"
            }
          },
          "metadata": {}
        },
        {
          "output_type": "display_data",
          "data": {
            "text/plain": [
              "<IPython.core.display.HTML object>"
            ],
            "text/html": [
              "<style>\n",
              "    table.wandb td:nth-child(1) { padding: 0 10px; text-align: right }\n",
              "    .wandb-row { display: flex; flex-direction: row; flex-wrap: wrap; width: 100% }\n",
              "    .wandb-col { display: flex; flex-direction: column; flex-basis: 100%; flex: 1; padding: 10px; }\n",
              "    </style>\n",
              "<div class=\"wandb-row\"><div class=\"wandb-col\"><h3>Run history:</h3><br/><table class=\"wandb\"><tr><td>accuracy</td><td>▁▄▅▆▇▇▇▇█</td></tr><tr><td>epoch</td><td>▁▃▅▆█▁▃▅▆</td></tr><tr><td>loss</td><td>█▄▃▂▂▂▂▁▁</td></tr><tr><td>val_accuracy</td><td>▁▂▆██████</td></tr><tr><td>val_loss</td><td>█▄▂▁▁▁▁▁▁</td></tr></table><br/></div><div class=\"wandb-col\"><h3>Run summary:</h3><br/><table class=\"wandb\"><tr><td>accuracy</td><td>0.85656</td></tr><tr><td>best_epoch</td><td>4</td></tr><tr><td>best_val_loss</td><td>0.84774</td></tr><tr><td>epoch</td><td>3</td></tr><tr><td>loss</td><td>0.44221</td></tr><tr><td>val_accuracy</td><td>0.7047</td></tr><tr><td>val_loss</td><td>1.09245</td></tr></table><br/></div></div>"
            ]
          },
          "metadata": {}
        },
        {
          "output_type": "display_data",
          "data": {
            "text/plain": [
              "<IPython.core.display.HTML object>"
            ],
            "text/html": [
              "Synced <strong style=\"color:#cdcd00\">eager-sweep-6</strong>: <a href=\"https://wandb.ai/kankan-jana/CS6910_Assignment-2/runs/khkf6rnz\" target=\"_blank\">https://wandb.ai/kankan-jana/CS6910_Assignment-2/runs/khkf6rnz</a><br/>Synced 5 W&B file(s), 1 media file(s), 0 artifact file(s) and 1 other file(s)"
            ]
          },
          "metadata": {}
        },
        {
          "output_type": "display_data",
          "data": {
            "text/plain": [
              "<IPython.core.display.HTML object>"
            ],
            "text/html": [
              "Find logs at: <code>./wandb/run-20220404_193839-khkf6rnz/logs</code>"
            ]
          },
          "metadata": {}
        },
        {
          "output_type": "stream",
          "name": "stderr",
          "text": [
            "\u001b[34m\u001b[1mwandb\u001b[0m: Agent Starting Run: fo9fwec4 with config:\n",
            "\u001b[34m\u001b[1mwandb\u001b[0m: \tactivation_function: relu\n",
            "\u001b[34m\u001b[1mwandb\u001b[0m: \tbase_model: resnet50\n",
            "\u001b[34m\u001b[1mwandb\u001b[0m: \tbatchNormalization: False\n",
            "\u001b[34m\u001b[1mwandb\u001b[0m: \tdropout_rate: 0.3\n",
            "\u001b[34m\u001b[1mwandb\u001b[0m: \tfraction_of_trainable_layers: 1\n",
            "\u001b[34m\u001b[1mwandb\u001b[0m: \tlr: 0.0001\n",
            "\u001b[34m\u001b[1mwandb\u001b[0m: \tnumberOfDenseLayer: 1\n",
            "\u001b[34m\u001b[1mwandb\u001b[0m: \toptimizer: adam\n"
          ]
        },
        {
          "output_type": "display_data",
          "data": {
            "text/plain": [
              "<IPython.core.display.HTML object>"
            ],
            "text/html": [
              "Tracking run with wandb version 0.12.11"
            ]
          },
          "metadata": {}
        },
        {
          "output_type": "display_data",
          "data": {
            "text/plain": [
              "<IPython.core.display.HTML object>"
            ],
            "text/html": [
              "Run data is saved locally in <code>/content/wandb/run-20220404_202136-fo9fwec4</code>"
            ]
          },
          "metadata": {}
        },
        {
          "output_type": "display_data",
          "data": {
            "text/plain": [
              "<IPython.core.display.HTML object>"
            ],
            "text/html": [
              "Syncing run <strong><a href=\"https://wandb.ai/kankan-jana/CS6910_Assignment-2/runs/fo9fwec4\" target=\"_blank\">robust-sweep-7</a></strong> to <a href=\"https://wandb.ai/kankan-jana/CS6910_Assignment-2\" target=\"_blank\">Weights & Biases</a> (<a href=\"https://wandb.me/run\" target=\"_blank\">docs</a>)<br/>Sweep page:  <a href=\"https://wandb.ai/kankan-jana/CS6910_Assignment-2/sweeps/gb27evo2\" target=\"_blank\">https://wandb.ai/kankan-jana/CS6910_Assignment-2/sweeps/gb27evo2</a>"
            ]
          },
          "metadata": {}
        },
        {
          "output_type": "stream",
          "name": "stdout",
          "text": [
            "Epoch 1/5\n",
            "282/282 [==============================] - 284s 989ms/step - loss: 1.3765 - accuracy: 0.5882 - val_loss: 10.8898 - val_accuracy: 0.1011 - _timestamp: 1649103981.0000 - _runtime: 285.0000\n",
            "Epoch 2/5\n",
            "282/282 [==============================] - 275s 973ms/step - loss: 0.8642 - accuracy: 0.7190 - val_loss: 5.3957 - val_accuracy: 0.1341 - _timestamp: 1649104260.0000 - _runtime: 564.0000\n",
            "Epoch 3/5\n",
            "282/282 [==============================] - 276s 976ms/step - loss: 0.7214 - accuracy: 0.7643 - val_loss: 1.9806 - val_accuracy: 0.4284 - _timestamp: 1649104536.0000 - _runtime: 840.0000\n",
            "Epoch 4/5\n",
            "282/282 [==============================] - 277s 979ms/step - loss: 0.5984 - accuracy: 0.8067 - val_loss: 1.0175 - val_accuracy: 0.6897 - _timestamp: 1649104809.0000 - _runtime: 1113.0000\n",
            "Epoch 5/5\n",
            "282/282 [==============================] - 276s 977ms/step - loss: 0.5256 - accuracy: 0.8224 - val_loss: 0.9528 - val_accuracy: 0.7097 - _timestamp: 1649105090.0000 - _runtime: 1394.0000\n",
            "Epoch 1/5\n",
            "282/282 [==============================] - 278s 962ms/step - loss: 0.6007 - accuracy: 0.8027 - val_loss: 0.9837 - val_accuracy: 0.6897 - _timestamp: 1649105374.0000 - _runtime: 1678.0000\n",
            "Epoch 2/5\n",
            "282/282 [==============================] - 268s 949ms/step - loss: 0.5102 - accuracy: 0.8272 - val_loss: 0.9845 - val_accuracy: 0.7327 - _timestamp: 1649105642.0000 - _runtime: 1946.0000\n",
            "Epoch 3/5\n",
            "282/282 [==============================] - 270s 956ms/step - loss: 0.4677 - accuracy: 0.8459 - val_loss: 1.0760 - val_accuracy: 0.7137 - _timestamp: 1649105912.0000 - _runtime: 2216.0000\n",
            "\n"
          ]
        },
        {
          "output_type": "display_data",
          "data": {
            "text/plain": [
              "<IPython.core.display.HTML object>"
            ],
            "text/html": [
              "Waiting for W&B process to finish... <strong style=\"color:green\">(success).</strong>"
            ]
          },
          "metadata": {}
        },
        {
          "output_type": "display_data",
          "data": {
            "text/plain": [
              "VBox(children=(Label(value='1470.427 MB of 1470.427 MB uploaded (0.000 MB deduped)\\r'), FloatProgress(value=1.…"
            ],
            "application/vnd.jupyter.widget-view+json": {
              "version_major": 2,
              "version_minor": 0,
              "model_id": "e31cba26b5e94279a6495d803b8b9739"
            }
          },
          "metadata": {}
        },
        {
          "output_type": "display_data",
          "data": {
            "text/plain": [
              "<IPython.core.display.HTML object>"
            ],
            "text/html": [
              "<style>\n",
              "    table.wandb td:nth-child(1) { padding: 0 10px; text-align: right }\n",
              "    .wandb-row { display: flex; flex-direction: row; flex-wrap: wrap; width: 100% }\n",
              "    .wandb-col { display: flex; flex-direction: column; flex-basis: 100%; flex: 1; padding: 10px; }\n",
              "    </style>\n",
              "<div class=\"wandb-row\"><div class=\"wandb-col\"><h3>Run history:</h3><br/><table class=\"wandb\"><tr><td>accuracy</td><td>▁▅▆▇▇▇▇█</td></tr><tr><td>epoch</td><td>▁▃▅▆█▁▃▅</td></tr><tr><td>loss</td><td>█▄▃▂▁▂▁▁</td></tr><tr><td>val_accuracy</td><td>▁▁▅█████</td></tr><tr><td>val_loss</td><td>█▄▂▁▁▁▁▁</td></tr></table><br/></div><div class=\"wandb-col\"><h3>Run summary:</h3><br/><table class=\"wandb\"><tr><td>accuracy</td><td>0.84589</td></tr><tr><td>best_epoch</td><td>4</td></tr><tr><td>best_val_loss</td><td>0.95276</td></tr><tr><td>epoch</td><td>2</td></tr><tr><td>loss</td><td>0.46771</td></tr><tr><td>val_accuracy</td><td>0.71371</td></tr><tr><td>val_loss</td><td>1.07597</td></tr></table><br/></div></div>"
            ]
          },
          "metadata": {}
        },
        {
          "output_type": "display_data",
          "data": {
            "text/plain": [
              "<IPython.core.display.HTML object>"
            ],
            "text/html": [
              "Synced <strong style=\"color:#cdcd00\">robust-sweep-7</strong>: <a href=\"https://wandb.ai/kankan-jana/CS6910_Assignment-2/runs/fo9fwec4\" target=\"_blank\">https://wandb.ai/kankan-jana/CS6910_Assignment-2/runs/fo9fwec4</a><br/>Synced 5 W&B file(s), 1 media file(s), 0 artifact file(s) and 1 other file(s)"
            ]
          },
          "metadata": {}
        },
        {
          "output_type": "display_data",
          "data": {
            "text/plain": [
              "<IPython.core.display.HTML object>"
            ],
            "text/html": [
              "Find logs at: <code>./wandb/run-20220404_202136-fo9fwec4/logs</code>"
            ]
          },
          "metadata": {}
        },
        {
          "output_type": "stream",
          "name": "stderr",
          "text": [
            "\u001b[34m\u001b[1mwandb\u001b[0m: Agent Starting Run: ill71fpt with config:\n",
            "\u001b[34m\u001b[1mwandb\u001b[0m: \tactivation_function: relu\n",
            "\u001b[34m\u001b[1mwandb\u001b[0m: \tbase_model: resnet50\n",
            "\u001b[34m\u001b[1mwandb\u001b[0m: \tbatchNormalization: False\n",
            "\u001b[34m\u001b[1mwandb\u001b[0m: \tdropout_rate: 0.4\n",
            "\u001b[34m\u001b[1mwandb\u001b[0m: \tfraction_of_trainable_layers: 0.5\n",
            "\u001b[34m\u001b[1mwandb\u001b[0m: \tlr: 0.0001\n",
            "\u001b[34m\u001b[1mwandb\u001b[0m: \tnumberOfDenseLayer: 2\n",
            "\u001b[34m\u001b[1mwandb\u001b[0m: \toptimizer: sgd\n"
          ]
        },
        {
          "output_type": "display_data",
          "data": {
            "text/plain": [
              "<IPython.core.display.HTML object>"
            ],
            "text/html": [
              "Tracking run with wandb version 0.12.11"
            ]
          },
          "metadata": {}
        },
        {
          "output_type": "display_data",
          "data": {
            "text/plain": [
              "<IPython.core.display.HTML object>"
            ],
            "text/html": [
              "Run data is saved locally in <code>/content/wandb/run-20220404_205929-ill71fpt</code>"
            ]
          },
          "metadata": {}
        },
        {
          "output_type": "display_data",
          "data": {
            "text/plain": [
              "<IPython.core.display.HTML object>"
            ],
            "text/html": [
              "Syncing run <strong><a href=\"https://wandb.ai/kankan-jana/CS6910_Assignment-2/runs/ill71fpt\" target=\"_blank\">vocal-sweep-8</a></strong> to <a href=\"https://wandb.ai/kankan-jana/CS6910_Assignment-2\" target=\"_blank\">Weights & Biases</a> (<a href=\"https://wandb.me/run\" target=\"_blank\">docs</a>)<br/>Sweep page:  <a href=\"https://wandb.ai/kankan-jana/CS6910_Assignment-2/sweeps/gb27evo2\" target=\"_blank\">https://wandb.ai/kankan-jana/CS6910_Assignment-2/sweeps/gb27evo2</a>"
            ]
          },
          "metadata": {}
        },
        {
          "output_type": "stream",
          "name": "stdout",
          "text": [
            "Epoch 1/5\n",
            "282/282 [==============================] - 277s 962ms/step - loss: 1.5574 - accuracy: 0.5344 - val_loss: 3.5428 - val_accuracy: 0.1011 - _timestamp: 1649106255.0000 - _runtime: 285.0000\n",
            "Epoch 2/5\n",
            "282/282 [==============================] - 267s 946ms/step - loss: 1.0261 - accuracy: 0.6800 - val_loss: 3.6201 - val_accuracy: 0.1912 - _timestamp: 1649106525.0000 - _runtime: 555.0000\n",
            "Epoch 3/5\n",
            "282/282 [==============================] - 272s 964ms/step - loss: 0.8721 - accuracy: 0.7247 - val_loss: 1.6121 - val_accuracy: 0.5105 - _timestamp: 1649106793.0000 - _runtime: 823.0000\n",
            "Epoch 4/5\n",
            "282/282 [==============================] - 278s 983ms/step - loss: 0.7590 - accuracy: 0.7557 - val_loss: 0.9427 - val_accuracy: 0.7057 - _timestamp: 1649107069.0000 - _runtime: 1099.0000\n",
            "Epoch 5/5\n",
            "282/282 [==============================] - 275s 971ms/step - loss: 0.6693 - accuracy: 0.7808 - val_loss: 0.8417 - val_accuracy: 0.7518 - _timestamp: 1649107347.0000 - _runtime: 1377.0000\n",
            "Epoch 1/5\n",
            "282/282 [==============================] - 282s 982ms/step - loss: 0.6009 - accuracy: 0.8037 - val_loss: 0.7761 - val_accuracy: 0.7608 - _timestamp: 1649107678.0000 - _runtime: 1708.0000\n",
            "Epoch 2/5\n",
            "282/282 [==============================] - 274s 971ms/step - loss: 0.5675 - accuracy: 0.8163 - val_loss: 0.7724 - val_accuracy: 0.7528 - _timestamp: 1649107952.0000 - _runtime: 1982.0000\n",
            "Epoch 3/5\n",
            "282/282 [==============================] - 269s 951ms/step - loss: 0.5135 - accuracy: 0.8249 - val_loss: 0.7851 - val_accuracy: 0.7698 - _timestamp: 1649108224.0000 - _runtime: 2254.0000\n",
            "Epoch 4/5\n",
            "282/282 [==============================] - 268s 952ms/step - loss: 0.4915 - accuracy: 0.8336 - val_loss: 0.7752 - val_accuracy: 0.7538 - _timestamp: 1649108492.0000 - _runtime: 2522.0000\n",
            "\n"
          ]
        },
        {
          "output_type": "display_data",
          "data": {
            "text/plain": [
              "<IPython.core.display.HTML object>"
            ],
            "text/html": [
              "Waiting for W&B process to finish... <strong style=\"color:green\">(success).</strong>"
            ]
          },
          "metadata": {}
        },
        {
          "output_type": "display_data",
          "data": {
            "text/plain": [
              "VBox(children=(Label(value='980.546 MB of 980.546 MB uploaded (0.000 MB deduped)\\r'), FloatProgress(value=1.0,…"
            ],
            "application/vnd.jupyter.widget-view+json": {
              "version_major": 2,
              "version_minor": 0,
              "model_id": "23e456360280419faedf92626070d2a4"
            }
          },
          "metadata": {}
        },
        {
          "output_type": "display_data",
          "data": {
            "text/plain": [
              "<IPython.core.display.HTML object>"
            ],
            "text/html": [
              "<style>\n",
              "    table.wandb td:nth-child(1) { padding: 0 10px; text-align: right }\n",
              "    .wandb-row { display: flex; flex-direction: row; flex-wrap: wrap; width: 100% }\n",
              "    .wandb-col { display: flex; flex-direction: column; flex-basis: 100%; flex: 1; padding: 10px; }\n",
              "    </style>\n",
              "<div class=\"wandb-row\"><div class=\"wandb-col\"><h3>Run history:</h3><br/><table class=\"wandb\"><tr><td>accuracy</td><td>▁▄▅▆▇▇███</td></tr><tr><td>epoch</td><td>▁▃▅▆█▁▃▅▆</td></tr><tr><td>loss</td><td>█▅▃▃▂▂▁▁▁</td></tr><tr><td>val_accuracy</td><td>▁▂▅▇█████</td></tr><tr><td>val_loss</td><td>██▃▁▁▁▁▁▁</td></tr></table><br/></div><div class=\"wandb-col\"><h3>Run summary:</h3><br/><table class=\"wandb\"><tr><td>accuracy</td><td>0.83356</td></tr><tr><td>best_epoch</td><td>1</td></tr><tr><td>best_val_loss</td><td>0.77236</td></tr><tr><td>epoch</td><td>3</td></tr><tr><td>loss</td><td>0.49147</td></tr><tr><td>val_accuracy</td><td>0.75375</td></tr><tr><td>val_loss</td><td>0.77515</td></tr></table><br/></div></div>"
            ]
          },
          "metadata": {}
        },
        {
          "output_type": "display_data",
          "data": {
            "text/plain": [
              "<IPython.core.display.HTML object>"
            ],
            "text/html": [
              "Synced <strong style=\"color:#cdcd00\">vocal-sweep-8</strong>: <a href=\"https://wandb.ai/kankan-jana/CS6910_Assignment-2/runs/ill71fpt\" target=\"_blank\">https://wandb.ai/kankan-jana/CS6910_Assignment-2/runs/ill71fpt</a><br/>Synced 5 W&B file(s), 1 media file(s), 0 artifact file(s) and 1 other file(s)"
            ]
          },
          "metadata": {}
        },
        {
          "output_type": "display_data",
          "data": {
            "text/plain": [
              "<IPython.core.display.HTML object>"
            ],
            "text/html": [
              "Find logs at: <code>./wandb/run-20220404_205929-ill71fpt/logs</code>"
            ]
          },
          "metadata": {}
        },
        {
          "output_type": "stream",
          "name": "stderr",
          "text": [
            "\u001b[34m\u001b[1mwandb\u001b[0m: Agent Starting Run: 38fgusgf with config:\n",
            "\u001b[34m\u001b[1mwandb\u001b[0m: \tactivation_function: LeakyReLU\n",
            "\u001b[34m\u001b[1mwandb\u001b[0m: \tbase_model: inceptionresnetv2\n",
            "\u001b[34m\u001b[1mwandb\u001b[0m: \tbatchNormalization: True\n",
            "\u001b[34m\u001b[1mwandb\u001b[0m: \tdropout_rate: 0.3\n",
            "\u001b[34m\u001b[1mwandb\u001b[0m: \tfraction_of_trainable_layers: 1\n",
            "\u001b[34m\u001b[1mwandb\u001b[0m: \tlr: 1e-05\n",
            "\u001b[34m\u001b[1mwandb\u001b[0m: \tnumberOfDenseLayer: 1\n",
            "\u001b[34m\u001b[1mwandb\u001b[0m: \toptimizer: sgd\n"
          ]
        },
        {
          "output_type": "display_data",
          "data": {
            "text/plain": [
              "<IPython.core.display.HTML object>"
            ],
            "text/html": [
              "Tracking run with wandb version 0.12.11"
            ]
          },
          "metadata": {}
        },
        {
          "output_type": "display_data",
          "data": {
            "text/plain": [
              "<IPython.core.display.HTML object>"
            ],
            "text/html": [
              "Run data is saved locally in <code>/content/wandb/run-20220404_214218-38fgusgf</code>"
            ]
          },
          "metadata": {}
        },
        {
          "output_type": "display_data",
          "data": {
            "text/plain": [
              "<IPython.core.display.HTML object>"
            ],
            "text/html": [
              "Syncing run <strong><a href=\"https://wandb.ai/kankan-jana/CS6910_Assignment-2/runs/38fgusgf\" target=\"_blank\">skilled-sweep-9</a></strong> to <a href=\"https://wandb.ai/kankan-jana/CS6910_Assignment-2\" target=\"_blank\">Weights & Biases</a> (<a href=\"https://wandb.me/run\" target=\"_blank\">docs</a>)<br/>Sweep page:  <a href=\"https://wandb.ai/kankan-jana/CS6910_Assignment-2/sweeps/gb27evo2\" target=\"_blank\">https://wandb.ai/kankan-jana/CS6910_Assignment-2/sweeps/gb27evo2</a>"
            ]
          },
          "metadata": {}
        },
        {
          "output_type": "stream",
          "name": "stdout",
          "text": [
            "Epoch 1/5\n",
            "282/282 [==============================] - 358s 1s/step - loss: 1.9040 - accuracy: 0.4391 - val_loss: 1.1393 - val_accuracy: 0.6637 - _timestamp: 1649108908.0000 - _runtime: 370.0000\n",
            "Epoch 2/5\n",
            "282/282 [==============================] - 339s 1s/step - loss: 1.3272 - accuracy: 0.6173 - val_loss: 1.1290 - val_accuracy: 0.6687 - _timestamp: 1649109247.0000 - _runtime: 709.0000\n",
            "Epoch 3/5\n",
            "282/282 [==============================] - 340s 1s/step - loss: 1.2053 - accuracy: 0.6492 - val_loss: 0.9818 - val_accuracy: 0.7117 - _timestamp: 1649109585.0000 - _runtime: 1047.0000\n",
            "Epoch 4/5\n",
            "282/282 [==============================] - 339s 1s/step - loss: 1.1333 - accuracy: 0.6686 - val_loss: 0.9524 - val_accuracy: 0.7147 - _timestamp: 1649109926.0000 - _runtime: 1388.0000\n",
            "Epoch 5/5\n",
            "282/282 [==============================] - 336s 1s/step - loss: 1.0758 - accuracy: 0.6898 - val_loss: 0.9730 - val_accuracy: 0.6997 - _timestamp: 1649110264.0000 - _runtime: 1726.0000\n",
            "Epoch 1/5\n",
            "282/282 [==============================] - 357s 1s/step - loss: 1.0503 - accuracy: 0.6987 - val_loss: 0.9228 - val_accuracy: 0.7157 - _timestamp: 1649110621.0000 - _runtime: 2083.0000\n",
            "Epoch 2/5\n",
            "282/282 [==============================] - 339s 1s/step - loss: 1.0163 - accuracy: 0.7020 - val_loss: 0.8836 - val_accuracy: 0.7307 - _timestamp: 1649110960.0000 - _runtime: 2422.0000\n",
            "Epoch 3/5\n",
            "282/282 [==============================] - 339s 1s/step - loss: 0.9706 - accuracy: 0.7121 - val_loss: 0.8361 - val_accuracy: 0.7337 - _timestamp: 1649111299.0000 - _runtime: 2761.0000\n",
            "Epoch 4/5\n",
            "282/282 [==============================] - 336s 1s/step - loss: 0.9803 - accuracy: 0.7184 - val_loss: 0.8632 - val_accuracy: 0.7427 - _timestamp: 1649111637.0000 - _runtime: 3099.0000\n",
            "Epoch 5/5\n",
            "282/282 [==============================] - 336s 1s/step - loss: 0.9425 - accuracy: 0.7219 - val_loss: 0.8556 - val_accuracy: 0.7528 - _timestamp: 1649111973.0000 - _runtime: 3435.0000\n",
            "\n"
          ]
        },
        {
          "output_type": "display_data",
          "data": {
            "text/plain": [
              "<IPython.core.display.HTML object>"
            ],
            "text/html": [
              "Waiting for W&B process to finish... <strong style=\"color:green\">(success).</strong>"
            ]
          },
          "metadata": {}
        },
        {
          "output_type": "display_data",
          "data": {
            "text/plain": [
              "VBox(children=(Label(value='800.685 MB of 800.685 MB uploaded (0.000 MB deduped)\\r'), FloatProgress(value=1.0,…"
            ],
            "application/vnd.jupyter.widget-view+json": {
              "version_major": 2,
              "version_minor": 0,
              "model_id": "91525ee72b824206918d62c5d052cd80"
            }
          },
          "metadata": {}
        },
        {
          "output_type": "display_data",
          "data": {
            "text/plain": [
              "<IPython.core.display.HTML object>"
            ],
            "text/html": [
              "<style>\n",
              "    table.wandb td:nth-child(1) { padding: 0 10px; text-align: right }\n",
              "    .wandb-row { display: flex; flex-direction: row; flex-wrap: wrap; width: 100% }\n",
              "    .wandb-col { display: flex; flex-direction: column; flex-basis: 100%; flex: 1; padding: 10px; }\n",
              "    </style>\n",
              "<div class=\"wandb-row\"><div class=\"wandb-col\"><h3>Run history:</h3><br/><table class=\"wandb\"><tr><td>accuracy</td><td>▁▅▆▇▇▇████</td></tr><tr><td>epoch</td><td>▁▃▅▆█▁▃▅▆█</td></tr><tr><td>loss</td><td>█▄▃▂▂▂▂▁▁▁</td></tr><tr><td>val_accuracy</td><td>▁▁▅▅▄▅▆▇▇█</td></tr><tr><td>val_loss</td><td>██▄▄▄▃▂▁▂▁</td></tr></table><br/></div><div class=\"wandb-col\"><h3>Run summary:</h3><br/><table class=\"wandb\"><tr><td>accuracy</td><td>0.72189</td></tr><tr><td>best_epoch</td><td>2</td></tr><tr><td>best_val_loss</td><td>0.83607</td></tr><tr><td>epoch</td><td>4</td></tr><tr><td>loss</td><td>0.9425</td></tr><tr><td>val_accuracy</td><td>0.75275</td></tr><tr><td>val_loss</td><td>0.85555</td></tr></table><br/></div></div>"
            ]
          },
          "metadata": {}
        },
        {
          "output_type": "display_data",
          "data": {
            "text/plain": [
              "<IPython.core.display.HTML object>"
            ],
            "text/html": [
              "Synced <strong style=\"color:#cdcd00\">skilled-sweep-9</strong>: <a href=\"https://wandb.ai/kankan-jana/CS6910_Assignment-2/runs/38fgusgf\" target=\"_blank\">https://wandb.ai/kankan-jana/CS6910_Assignment-2/runs/38fgusgf</a><br/>Synced 5 W&B file(s), 1 media file(s), 0 artifact file(s) and 1 other file(s)"
            ]
          },
          "metadata": {}
        },
        {
          "output_type": "display_data",
          "data": {
            "text/plain": [
              "<IPython.core.display.HTML object>"
            ],
            "text/html": [
              "Find logs at: <code>./wandb/run-20220404_214218-38fgusgf/logs</code>"
            ]
          },
          "metadata": {}
        },
        {
          "output_type": "stream",
          "name": "stderr",
          "text": [
            "\u001b[34m\u001b[1mwandb\u001b[0m: Sweep Agent: Waiting for job.\n",
            "\u001b[34m\u001b[1mwandb\u001b[0m: Job received.\n",
            "\u001b[34m\u001b[1mwandb\u001b[0m: Agent Starting Run: u38mld14 with config:\n",
            "\u001b[34m\u001b[1mwandb\u001b[0m: \tactivation_function: LeakyReLU\n",
            "\u001b[34m\u001b[1mwandb\u001b[0m: \tbase_model: resnet50\n",
            "\u001b[34m\u001b[1mwandb\u001b[0m: \tbatchNormalization: False\n",
            "\u001b[34m\u001b[1mwandb\u001b[0m: \tdropout_rate: 0.3\n",
            "\u001b[34m\u001b[1mwandb\u001b[0m: \tfraction_of_trainable_layers: 1\n",
            "\u001b[34m\u001b[1mwandb\u001b[0m: \tlr: 0.0001\n",
            "\u001b[34m\u001b[1mwandb\u001b[0m: \tnumberOfDenseLayer: 2\n",
            "\u001b[34m\u001b[1mwandb\u001b[0m: \toptimizer: adam\n"
          ]
        },
        {
          "output_type": "display_data",
          "data": {
            "text/plain": [
              "<IPython.core.display.HTML object>"
            ],
            "text/html": [
              "Tracking run with wandb version 0.12.11"
            ]
          },
          "metadata": {}
        },
        {
          "output_type": "display_data",
          "data": {
            "text/plain": [
              "<IPython.core.display.HTML object>"
            ],
            "text/html": [
              "Run data is saved locally in <code>/content/wandb/run-20220404_224031-u38mld14</code>"
            ]
          },
          "metadata": {}
        },
        {
          "output_type": "display_data",
          "data": {
            "text/plain": [
              "<IPython.core.display.HTML object>"
            ],
            "text/html": [
              "Syncing run <strong><a href=\"https://wandb.ai/kankan-jana/CS6910_Assignment-2/runs/u38mld14\" target=\"_blank\">expert-sweep-10</a></strong> to <a href=\"https://wandb.ai/kankan-jana/CS6910_Assignment-2\" target=\"_blank\">Weights & Biases</a> (<a href=\"https://wandb.me/run\" target=\"_blank\">docs</a>)<br/>Sweep page:  <a href=\"https://wandb.ai/kankan-jana/CS6910_Assignment-2/sweeps/gb27evo2\" target=\"_blank\">https://wandb.ai/kankan-jana/CS6910_Assignment-2/sweeps/gb27evo2</a>"
            ]
          },
          "metadata": {}
        },
        {
          "output_type": "stream",
          "name": "stdout",
          "text": [
            "Epoch 1/5\n",
            "282/282 [==============================] - 283s 984ms/step - loss: 1.5580 - accuracy: 0.5966 - val_loss: 4.6253 - val_accuracy: 0.1001 - _timestamp: 1649112318.0000 - _runtime: 287.0000\n",
            "Epoch 2/5\n",
            "282/282 [==============================] - 274s 968ms/step - loss: 0.9007 - accuracy: 0.7163 - val_loss: 3.2523 - val_accuracy: 0.1461 - _timestamp: 1649112593.0000 - _runtime: 562.0000\n",
            "Epoch 3/5\n",
            "282/282 [==============================] - 273s 966ms/step - loss: 0.7344 - accuracy: 0.7667 - val_loss: 1.5045 - val_accuracy: 0.5335 - _timestamp: 1649112865.0000 - _runtime: 834.0000\n",
            "Epoch 4/5\n",
            "282/282 [==============================] - 272s 962ms/step - loss: 0.6487 - accuracy: 0.7853 - val_loss: 0.8596 - val_accuracy: 0.7307 - _timestamp: 1649113137.0000 - _runtime: 1106.0000\n",
            "Epoch 5/5\n",
            "282/282 [==============================] - 267s 946ms/step - loss: 0.5764 - accuracy: 0.8134 - val_loss: 1.0072 - val_accuracy: 0.7117 - _timestamp: 1649113410.0000 - _runtime: 1379.0000\n",
            "Epoch 1/5\n",
            "282/282 [==============================] - 278s 963ms/step - loss: 0.6282 - accuracy: 0.8030 - val_loss: 1.0513 - val_accuracy: 0.6847 - _timestamp: 1649113689.0000 - _runtime: 1658.0000\n",
            "Epoch 2/5\n",
            "282/282 [==============================] - 268s 947ms/step - loss: 0.5709 - accuracy: 0.8130 - val_loss: 0.8960 - val_accuracy: 0.7187 - _timestamp: 1649113956.0000 - _runtime: 1925.0000\n",
            "Epoch 3/5\n",
            "282/282 [==============================] - 267s 946ms/step - loss: 0.4713 - accuracy: 0.8460 - val_loss: 1.0291 - val_accuracy: 0.7157 - _timestamp: 1649114224.0000 - _runtime: 2193.0000\n",
            "Epoch 4/5\n",
            "282/282 [==============================] - 269s 951ms/step - loss: 0.4536 - accuracy: 0.8531 - val_loss: 0.9864 - val_accuracy: 0.7107 - _timestamp: 1649114492.0000 - _runtime: 2461.0000\n",
            "\n"
          ]
        },
        {
          "output_type": "display_data",
          "data": {
            "text/plain": [
              "<IPython.core.display.HTML object>"
            ],
            "text/html": [
              "Waiting for W&B process to finish... <strong style=\"color:green\">(success).</strong>"
            ]
          },
          "metadata": {}
        },
        {
          "output_type": "display_data",
          "data": {
            "text/plain": [
              "VBox(children=(Label(value='1470.428 MB of 1470.428 MB uploaded (0.000 MB deduped)\\r'), FloatProgress(value=1.…"
            ],
            "application/vnd.jupyter.widget-view+json": {
              "version_major": 2,
              "version_minor": 0,
              "model_id": "f7d64aa86cb9446a8b8c2651cb6d519e"
            }
          },
          "metadata": {}
        },
        {
          "output_type": "display_data",
          "data": {
            "text/plain": [
              "<IPython.core.display.HTML object>"
            ],
            "text/html": [
              "<style>\n",
              "    table.wandb td:nth-child(1) { padding: 0 10px; text-align: right }\n",
              "    .wandb-row { display: flex; flex-direction: row; flex-wrap: wrap; width: 100% }\n",
              "    .wandb-col { display: flex; flex-direction: column; flex-basis: 100%; flex: 1; padding: 10px; }\n",
              "    </style>\n",
              "<div class=\"wandb-row\"><div class=\"wandb-col\"><h3>Run history:</h3><br/><table class=\"wandb\"><tr><td>accuracy</td><td>▁▄▆▆▇▇▇██</td></tr><tr><td>epoch</td><td>▁▃▅▆█▁▃▅▆</td></tr><tr><td>loss</td><td>█▄▃▂▂▂▂▁▁</td></tr><tr><td>val_accuracy</td><td>▁▂▆██▇███</td></tr><tr><td>val_loss</td><td>█▅▂▁▁▁▁▁▁</td></tr></table><br/></div><div class=\"wandb-col\"><h3>Run summary:</h3><br/><table class=\"wandb\"><tr><td>accuracy</td><td>0.85311</td></tr><tr><td>best_epoch</td><td>3</td></tr><tr><td>best_val_loss</td><td>0.85963</td></tr><tr><td>epoch</td><td>3</td></tr><tr><td>loss</td><td>0.45358</td></tr><tr><td>val_accuracy</td><td>0.71071</td></tr><tr><td>val_loss</td><td>0.98641</td></tr></table><br/></div></div>"
            ]
          },
          "metadata": {}
        },
        {
          "output_type": "display_data",
          "data": {
            "text/plain": [
              "<IPython.core.display.HTML object>"
            ],
            "text/html": [
              "Synced <strong style=\"color:#cdcd00\">expert-sweep-10</strong>: <a href=\"https://wandb.ai/kankan-jana/CS6910_Assignment-2/runs/u38mld14\" target=\"_blank\">https://wandb.ai/kankan-jana/CS6910_Assignment-2/runs/u38mld14</a><br/>Synced 5 W&B file(s), 1 media file(s), 0 artifact file(s) and 1 other file(s)"
            ]
          },
          "metadata": {}
        },
        {
          "output_type": "display_data",
          "data": {
            "text/plain": [
              "<IPython.core.display.HTML object>"
            ],
            "text/html": [
              "Find logs at: <code>./wandb/run-20220404_224031-u38mld14/logs</code>"
            ]
          },
          "metadata": {}
        },
        {
          "output_type": "stream",
          "name": "stderr",
          "text": [
            "\u001b[34m\u001b[1mwandb\u001b[0m: Agent Starting Run: or7levbz with config:\n",
            "\u001b[34m\u001b[1mwandb\u001b[0m: \tactivation_function: relu\n",
            "\u001b[34m\u001b[1mwandb\u001b[0m: \tbase_model: resnet50\n",
            "\u001b[34m\u001b[1mwandb\u001b[0m: \tbatchNormalization: True\n",
            "\u001b[34m\u001b[1mwandb\u001b[0m: \tdropout_rate: 0.4\n",
            "\u001b[34m\u001b[1mwandb\u001b[0m: \tfraction_of_trainable_layers: 1\n",
            "\u001b[34m\u001b[1mwandb\u001b[0m: \tlr: 1e-05\n",
            "\u001b[34m\u001b[1mwandb\u001b[0m: \tnumberOfDenseLayer: 1\n",
            "\u001b[34m\u001b[1mwandb\u001b[0m: \toptimizer: sgd\n"
          ]
        },
        {
          "output_type": "display_data",
          "data": {
            "text/plain": [
              "<IPython.core.display.HTML object>"
            ],
            "text/html": [
              "Tracking run with wandb version 0.12.11"
            ]
          },
          "metadata": {}
        },
        {
          "output_type": "display_data",
          "data": {
            "text/plain": [
              "<IPython.core.display.HTML object>"
            ],
            "text/html": [
              "Run data is saved locally in <code>/content/wandb/run-20220404_232231-or7levbz</code>"
            ]
          },
          "metadata": {}
        },
        {
          "output_type": "display_data",
          "data": {
            "text/plain": [
              "<IPython.core.display.HTML object>"
            ],
            "text/html": [
              "Syncing run <strong><a href=\"https://wandb.ai/kankan-jana/CS6910_Assignment-2/runs/or7levbz\" target=\"_blank\">fresh-sweep-11</a></strong> to <a href=\"https://wandb.ai/kankan-jana/CS6910_Assignment-2\" target=\"_blank\">Weights & Biases</a> (<a href=\"https://wandb.me/run\" target=\"_blank\">docs</a>)<br/>Sweep page:  <a href=\"https://wandb.ai/kankan-jana/CS6910_Assignment-2/sweeps/gb27evo2\" target=\"_blank\">https://wandb.ai/kankan-jana/CS6910_Assignment-2/sweeps/gb27evo2</a>"
            ]
          },
          "metadata": {}
        },
        {
          "output_type": "stream",
          "name": "stdout",
          "text": [
            "Epoch 1/5\n",
            "282/282 [==============================] - 280s 973ms/step - loss: 2.3437 - accuracy: 0.3010 - val_loss: 5.7927 - val_accuracy: 0.1001 - _timestamp: 1649114837.0000 - _runtime: 286.0000\n",
            "Epoch 2/5\n",
            "282/282 [==============================] - 272s 963ms/step - loss: 1.6394 - accuracy: 0.4919 - val_loss: 3.4011 - val_accuracy: 0.1772 - _timestamp: 1649115111.0000 - _runtime: 560.0000\n",
            "Epoch 3/5\n",
            "282/282 [==============================] - 273s 967ms/step - loss: 1.4078 - accuracy: 0.5619 - val_loss: 1.8541 - val_accuracy: 0.4274 - _timestamp: 1649115383.0000 - _runtime: 832.0000\n",
            "Epoch 4/5\n",
            "282/282 [==============================] - 271s 959ms/step - loss: 1.2939 - accuracy: 0.5924 - val_loss: 1.2023 - val_accuracy: 0.6126 - _timestamp: 1649115656.0000 - _runtime: 1105.0000\n",
            "Epoch 5/5\n",
            "282/282 [==============================] - 273s 968ms/step - loss: 1.2050 - accuracy: 0.6289 - val_loss: 1.0673 - val_accuracy: 0.6707 - _timestamp: 1649115928.0000 - _runtime: 1377.0000\n",
            "Epoch 1/5\n",
            "282/282 [==============================] - 280s 972ms/step - loss: 1.1370 - accuracy: 0.6380 - val_loss: 1.0462 - val_accuracy: 0.6737 - _timestamp: 1649116258.0000 - _runtime: 1707.0000\n",
            "Epoch 2/5\n",
            "282/282 [==============================] - 270s 955ms/step - loss: 1.0680 - accuracy: 0.6638 - val_loss: 0.9741 - val_accuracy: 0.6947 - _timestamp: 1649116528.0000 - _runtime: 1977.0000\n",
            "Epoch 3/5\n",
            "282/282 [==============================] - 268s 949ms/step - loss: 1.0566 - accuracy: 0.6676 - val_loss: 1.0034 - val_accuracy: 0.6777 - _timestamp: 1649116800.0000 - _runtime: 2249.0000\n",
            "Epoch 4/5\n",
            "282/282 [==============================] - 271s 958ms/step - loss: 1.0193 - accuracy: 0.6781 - val_loss: 0.9600 - val_accuracy: 0.6977 - _timestamp: 1649117067.0000 - _runtime: 2516.0000\n",
            "Epoch 5/5\n",
            "282/282 [==============================] - 271s 960ms/step - loss: 0.9754 - accuracy: 0.6921 - val_loss: 0.9278 - val_accuracy: 0.7007 - _timestamp: 1649117338.0000 - _runtime: 2787.0000\n",
            "\n"
          ]
        },
        {
          "output_type": "display_data",
          "data": {
            "text/plain": [
              "<IPython.core.display.HTML object>"
            ],
            "text/html": [
              "Waiting for W&B process to finish... <strong style=\"color:green\">(success).</strong>"
            ]
          },
          "metadata": {}
        },
        {
          "output_type": "display_data",
          "data": {
            "text/plain": [
              "VBox(children=(Label(value='980.546 MB of 980.546 MB uploaded (0.000 MB deduped)\\r'), FloatProgress(value=1.0,…"
            ],
            "application/vnd.jupyter.widget-view+json": {
              "version_major": 2,
              "version_minor": 0,
              "model_id": "7e45f80ebd414fc3b99a64a41b007f5b"
            }
          },
          "metadata": {}
        },
        {
          "output_type": "display_data",
          "data": {
            "text/plain": [
              "<IPython.core.display.HTML object>"
            ],
            "text/html": [
              "<style>\n",
              "    table.wandb td:nth-child(1) { padding: 0 10px; text-align: right }\n",
              "    .wandb-row { display: flex; flex-direction: row; flex-wrap: wrap; width: 100% }\n",
              "    .wandb-col { display: flex; flex-direction: column; flex-basis: 100%; flex: 1; padding: 10px; }\n",
              "    </style>\n",
              "<div class=\"wandb-row\"><div class=\"wandb-col\"><h3>Run history:</h3><br/><table class=\"wandb\"><tr><td>accuracy</td><td>▁▄▆▆▇▇▇███</td></tr><tr><td>epoch</td><td>▁▃▅▆█▁▃▅▆█</td></tr><tr><td>loss</td><td>█▄▃▃▂▂▁▁▁▁</td></tr><tr><td>val_accuracy</td><td>▁▂▅▇██████</td></tr><tr><td>val_loss</td><td>█▅▂▁▁▁▁▁▁▁</td></tr></table><br/></div><div class=\"wandb-col\"><h3>Run summary:</h3><br/><table class=\"wandb\"><tr><td>accuracy</td><td>0.69211</td></tr><tr><td>best_epoch</td><td>4</td></tr><tr><td>best_val_loss</td><td>0.92776</td></tr><tr><td>epoch</td><td>4</td></tr><tr><td>loss</td><td>0.97542</td></tr><tr><td>val_accuracy</td><td>0.7007</td></tr><tr><td>val_loss</td><td>0.92776</td></tr></table><br/></div></div>"
            ]
          },
          "metadata": {}
        },
        {
          "output_type": "display_data",
          "data": {
            "text/plain": [
              "<IPython.core.display.HTML object>"
            ],
            "text/html": [
              "Synced <strong style=\"color:#cdcd00\">fresh-sweep-11</strong>: <a href=\"https://wandb.ai/kankan-jana/CS6910_Assignment-2/runs/or7levbz\" target=\"_blank\">https://wandb.ai/kankan-jana/CS6910_Assignment-2/runs/or7levbz</a><br/>Synced 5 W&B file(s), 1 media file(s), 0 artifact file(s) and 1 other file(s)"
            ]
          },
          "metadata": {}
        },
        {
          "output_type": "display_data",
          "data": {
            "text/plain": [
              "<IPython.core.display.HTML object>"
            ],
            "text/html": [
              "Find logs at: <code>./wandb/run-20220404_232231-or7levbz/logs</code>"
            ]
          },
          "metadata": {}
        },
        {
          "output_type": "stream",
          "name": "stderr",
          "text": [
            "\u001b[34m\u001b[1mwandb\u001b[0m: Agent Starting Run: dlskt8gm with config:\n",
            "\u001b[34m\u001b[1mwandb\u001b[0m: \tactivation_function: LeakyReLU\n",
            "\u001b[34m\u001b[1mwandb\u001b[0m: \tbase_model: xception\n",
            "\u001b[34m\u001b[1mwandb\u001b[0m: \tbatchNormalization: False\n",
            "\u001b[34m\u001b[1mwandb\u001b[0m: \tdropout_rate: 0.3\n",
            "\u001b[34m\u001b[1mwandb\u001b[0m: \tfraction_of_trainable_layers: 0.75\n",
            "\u001b[34m\u001b[1mwandb\u001b[0m: \tlr: 0.0001\n",
            "\u001b[34m\u001b[1mwandb\u001b[0m: \tnumberOfDenseLayer: 1\n",
            "\u001b[34m\u001b[1mwandb\u001b[0m: \toptimizer: sgd\n"
          ]
        },
        {
          "output_type": "display_data",
          "data": {
            "text/plain": [
              "<IPython.core.display.HTML object>"
            ],
            "text/html": [
              "Tracking run with wandb version 0.12.11"
            ]
          },
          "metadata": {}
        },
        {
          "output_type": "display_data",
          "data": {
            "text/plain": [
              "<IPython.core.display.HTML object>"
            ],
            "text/html": [
              "Run data is saved locally in <code>/content/wandb/run-20220405_000947-dlskt8gm</code>"
            ]
          },
          "metadata": {}
        },
        {
          "output_type": "display_data",
          "data": {
            "text/plain": [
              "<IPython.core.display.HTML object>"
            ],
            "text/html": [
              "Syncing run <strong><a href=\"https://wandb.ai/kankan-jana/CS6910_Assignment-2/runs/dlskt8gm\" target=\"_blank\">spring-sweep-12</a></strong> to <a href=\"https://wandb.ai/kankan-jana/CS6910_Assignment-2\" target=\"_blank\">Weights & Biases</a> (<a href=\"https://wandb.me/run\" target=\"_blank\">docs</a>)<br/>Sweep page:  <a href=\"https://wandb.ai/kankan-jana/CS6910_Assignment-2/sweeps/gb27evo2\" target=\"_blank\">https://wandb.ai/kankan-jana/CS6910_Assignment-2/sweeps/gb27evo2</a>"
            ]
          },
          "metadata": {}
        },
        {
          "output_type": "stream",
          "name": "stdout",
          "text": [
            "Downloading data from https://storage.googleapis.com/tensorflow/keras-applications/xception/xception_weights_tf_dim_ordering_tf_kernels_notop.h5\n",
            "83689472/83683744 [==============================] - 2s 0us/step\n",
            "83697664/83683744 [==============================] - 2s 0us/step\n",
            "Epoch 1/5\n",
            "  6/282 [..............................] - ETA: 5:18 - loss: 2.9280 - accuracy: 0.1458WARNING:tensorflow:Callback method `on_train_batch_end` is slow compared to the batch time (batch time: 0.2913s vs `on_train_batch_end` time: 0.7196s). Check your callbacks.\n",
            "282/282 [==============================] - 367s 1s/step - loss: 1.2994 - accuracy: 0.6474 - val_loss: 0.9938 - val_accuracy: 0.7227 - _timestamp: 1649117762.0000 - _runtime: 375.0000\n",
            "Epoch 2/5\n",
            "282/282 [==============================] - 356s 1s/step - loss: 0.9546 - accuracy: 0.7232 - val_loss: 0.8569 - val_accuracy: 0.7588 - _timestamp: 1649118119.0000 - _runtime: 732.0000\n",
            "Epoch 3/5\n",
            "282/282 [==============================] - 354s 1s/step - loss: 0.8220 - accuracy: 0.7518 - val_loss: 0.8682 - val_accuracy: 0.7407 - _timestamp: 1649118477.0000 - _runtime: 1090.0000\n",
            "Epoch 4/5\n",
            "282/282 [==============================] - 357s 1s/step - loss: 0.7427 - accuracy: 0.7723 - val_loss: 0.8169 - val_accuracy: 0.7618 - _timestamp: 1649118830.0000 - _runtime: 1443.0000\n",
            "Epoch 5/5\n",
            "282/282 [==============================] - 357s 1s/step - loss: 0.6886 - accuracy: 0.7846 - val_loss: 0.7618 - val_accuracy: 0.7658 - _timestamp: 1649119188.0000 - _runtime: 1801.0000\n",
            "Epoch 1/5\n",
            "  6/282 [..............................] - ETA: 5:11 - loss: 0.8398 - accuracy: 0.7500WARNING:tensorflow:Callback method `on_train_batch_end` is slow compared to the batch time (batch time: 0.2816s vs `on_train_batch_end` time: 0.8424s). Check your callbacks.\n",
            "282/282 [==============================] - 354s 1s/step - loss: 0.6365 - accuracy: 0.7997 - val_loss: 0.7713 - val_accuracy: 0.7728 - _timestamp: 1649119546.0000 - _runtime: 2159.0000\n",
            "Epoch 2/5\n",
            "282/282 [==============================] - 350s 1s/step - loss: 0.5954 - accuracy: 0.8069 - val_loss: 0.7108 - val_accuracy: 0.7818 - _timestamp: 1649119893.0000 - _runtime: 2506.0000\n",
            "Epoch 3/5\n",
            "282/282 [==============================] - 347s 1s/step - loss: 0.5376 - accuracy: 0.8260 - val_loss: 0.7492 - val_accuracy: 0.7808 - _timestamp: 1649120243.0000 - _runtime: 2856.0000\n",
            "Epoch 4/5\n",
            "282/282 [==============================] - 346s 1s/step - loss: 0.5376 - accuracy: 0.8242 - val_loss: 0.7230 - val_accuracy: 0.7928 - _timestamp: 1649120590.0000 - _runtime: 3203.0000\n",
            "\n"
          ]
        },
        {
          "output_type": "display_data",
          "data": {
            "text/plain": [
              "<IPython.core.display.HTML object>"
            ],
            "text/html": [
              "Waiting for W&B process to finish... <strong style=\"color:green\">(success).</strong>"
            ]
          },
          "metadata": {}
        },
        {
          "output_type": "display_data",
          "data": {
            "text/plain": [
              "VBox(children=(Label(value='959.568 MB of 959.568 MB uploaded (0.000 MB deduped)\\r'), FloatProgress(value=1.0,…"
            ],
            "application/vnd.jupyter.widget-view+json": {
              "version_major": 2,
              "version_minor": 0,
              "model_id": "f10f7210607e43128f9796b363abc16c"
            }
          },
          "metadata": {}
        },
        {
          "output_type": "display_data",
          "data": {
            "text/plain": [
              "<IPython.core.display.HTML object>"
            ],
            "text/html": [
              "<style>\n",
              "    table.wandb td:nth-child(1) { padding: 0 10px; text-align: right }\n",
              "    .wandb-row { display: flex; flex-direction: row; flex-wrap: wrap; width: 100% }\n",
              "    .wandb-col { display: flex; flex-direction: column; flex-basis: 100%; flex: 1; padding: 10px; }\n",
              "    </style>\n",
              "<div class=\"wandb-row\"><div class=\"wandb-col\"><h3>Run history:</h3><br/><table class=\"wandb\"><tr><td>accuracy</td><td>▁▄▅▆▆▇▇██</td></tr><tr><td>epoch</td><td>▁▃▅▆█▁▃▅▆</td></tr><tr><td>loss</td><td>█▅▄▃▂▂▂▁▁</td></tr><tr><td>val_accuracy</td><td>▁▅▃▅▅▆▇▇█</td></tr><tr><td>val_loss</td><td>█▅▅▄▂▂▁▂▁</td></tr></table><br/></div><div class=\"wandb-col\"><h3>Run summary:</h3><br/><table class=\"wandb\"><tr><td>accuracy</td><td>0.82422</td></tr><tr><td>best_epoch</td><td>1</td></tr><tr><td>best_val_loss</td><td>0.71082</td></tr><tr><td>epoch</td><td>3</td></tr><tr><td>loss</td><td>0.53756</td></tr><tr><td>val_accuracy</td><td>0.79279</td></tr><tr><td>val_loss</td><td>0.72305</td></tr></table><br/></div></div>"
            ]
          },
          "metadata": {}
        },
        {
          "output_type": "display_data",
          "data": {
            "text/plain": [
              "<IPython.core.display.HTML object>"
            ],
            "text/html": [
              "Synced <strong style=\"color:#cdcd00\">spring-sweep-12</strong>: <a href=\"https://wandb.ai/kankan-jana/CS6910_Assignment-2/runs/dlskt8gm\" target=\"_blank\">https://wandb.ai/kankan-jana/CS6910_Assignment-2/runs/dlskt8gm</a><br/>Synced 5 W&B file(s), 1 media file(s), 0 artifact file(s) and 1 other file(s)"
            ]
          },
          "metadata": {}
        },
        {
          "output_type": "display_data",
          "data": {
            "text/plain": [
              "<IPython.core.display.HTML object>"
            ],
            "text/html": [
              "Find logs at: <code>./wandb/run-20220405_000947-dlskt8gm/logs</code>"
            ]
          },
          "metadata": {}
        },
        {
          "output_type": "stream",
          "name": "stderr",
          "text": [
            "\u001b[34m\u001b[1mwandb\u001b[0m: Agent Starting Run: f8rmlcem with config:\n",
            "\u001b[34m\u001b[1mwandb\u001b[0m: \tactivation_function: relu\n",
            "\u001b[34m\u001b[1mwandb\u001b[0m: \tbase_model: resnet50\n",
            "\u001b[34m\u001b[1mwandb\u001b[0m: \tbatchNormalization: True\n",
            "\u001b[34m\u001b[1mwandb\u001b[0m: \tdropout_rate: 0.4\n",
            "\u001b[34m\u001b[1mwandb\u001b[0m: \tfraction_of_trainable_layers: 0.5\n",
            "\u001b[34m\u001b[1mwandb\u001b[0m: \tlr: 1e-05\n",
            "\u001b[34m\u001b[1mwandb\u001b[0m: \tnumberOfDenseLayer: 1\n",
            "\u001b[34m\u001b[1mwandb\u001b[0m: \toptimizer: sgd\n"
          ]
        },
        {
          "output_type": "display_data",
          "data": {
            "text/plain": [
              "<IPython.core.display.HTML object>"
            ],
            "text/html": [
              "Tracking run with wandb version 0.12.11"
            ]
          },
          "metadata": {}
        },
        {
          "output_type": "display_data",
          "data": {
            "text/plain": [
              "<IPython.core.display.HTML object>"
            ],
            "text/html": [
              "Run data is saved locally in <code>/content/wandb/run-20220405_010355-f8rmlcem</code>"
            ]
          },
          "metadata": {}
        },
        {
          "output_type": "display_data",
          "data": {
            "text/plain": [
              "<IPython.core.display.HTML object>"
            ],
            "text/html": [
              "Syncing run <strong><a href=\"https://wandb.ai/kankan-jana/CS6910_Assignment-2/runs/f8rmlcem\" target=\"_blank\">lunar-sweep-13</a></strong> to <a href=\"https://wandb.ai/kankan-jana/CS6910_Assignment-2\" target=\"_blank\">Weights & Biases</a> (<a href=\"https://wandb.me/run\" target=\"_blank\">docs</a>)<br/>Sweep page:  <a href=\"https://wandb.ai/kankan-jana/CS6910_Assignment-2/sweeps/gb27evo2\" target=\"_blank\">https://wandb.ai/kankan-jana/CS6910_Assignment-2/sweeps/gb27evo2</a>"
            ]
          },
          "metadata": {}
        },
        {
          "output_type": "stream",
          "name": "stdout",
          "text": [
            "Epoch 1/5\n",
            "282/282 [==============================] - 282s 979ms/step - loss: 2.3584 - accuracy: 0.3049 - val_loss: 5.9129 - val_accuracy: 0.0941 - _timestamp: 1649120921.0000 - _runtime: 286.0000\n",
            "Epoch 2/5\n",
            "282/282 [==============================] - 273s 966ms/step - loss: 1.6219 - accuracy: 0.4962 - val_loss: 4.0550 - val_accuracy: 0.1211 - _timestamp: 1649121197.0000 - _runtime: 562.0000\n",
            "Epoch 3/5\n",
            "282/282 [==============================] - 271s 959ms/step - loss: 1.3938 - accuracy: 0.5660 - val_loss: 2.0506 - val_accuracy: 0.4214 - _timestamp: 1649121468.0000 - _runtime: 833.0000\n",
            "Epoch 4/5\n",
            "282/282 [==============================] - 274s 968ms/step - loss: 1.2731 - accuracy: 0.5962 - val_loss: 1.1445 - val_accuracy: 0.6206 - _timestamp: 1649121740.0000 - _runtime: 1105.0000\n",
            "Epoch 5/5\n",
            "282/282 [==============================] - 273s 967ms/step - loss: 1.1982 - accuracy: 0.6258 - val_loss: 1.0325 - val_accuracy: 0.6577 - _timestamp: 1649122015.0000 - _runtime: 1380.0000\n",
            "Epoch 1/5\n",
            "282/282 [==============================] - 278s 965ms/step - loss: 1.1357 - accuracy: 0.6418 - val_loss: 0.9968 - val_accuracy: 0.6797 - _timestamp: 1649122342.0000 - _runtime: 1707.0000\n",
            "Epoch 2/5\n",
            "282/282 [==============================] - 269s 952ms/step - loss: 1.1029 - accuracy: 0.6492 - val_loss: 1.0369 - val_accuracy: 0.6777 - _timestamp: 1649122615.0000 - _runtime: 1980.0000\n",
            "Epoch 3/5\n",
            "282/282 [==============================] - 274s 971ms/step - loss: 1.0403 - accuracy: 0.6760 - val_loss: 0.9709 - val_accuracy: 0.6907 - _timestamp: 1649122886.0000 - _runtime: 2251.0000\n",
            "Epoch 4/5\n",
            "282/282 [==============================] - 274s 968ms/step - loss: 0.9982 - accuracy: 0.6834 - val_loss: 0.9155 - val_accuracy: 0.7047 - _timestamp: 1649123158.0000 - _runtime: 2523.0000\n",
            "Epoch 5/5\n",
            "282/282 [==============================] - 270s 955ms/step - loss: 0.9756 - accuracy: 0.6970 - val_loss: 1.0210 - val_accuracy: 0.6867 - _timestamp: 1649123432.0000 - _runtime: 2797.0000\n",
            "\n"
          ]
        },
        {
          "output_type": "display_data",
          "data": {
            "text/plain": [
              "<IPython.core.display.HTML object>"
            ],
            "text/html": [
              "Waiting for W&B process to finish... <strong style=\"color:green\">(success).</strong>"
            ]
          },
          "metadata": {}
        },
        {
          "output_type": "display_data",
          "data": {
            "text/plain": [
              "VBox(children=(Label(value='980.546 MB of 980.546 MB uploaded (0.000 MB deduped)\\r'), FloatProgress(value=1.0,…"
            ],
            "application/vnd.jupyter.widget-view+json": {
              "version_major": 2,
              "version_minor": 0,
              "model_id": "cde0e4f7826947cca2cb1cfae77e140c"
            }
          },
          "metadata": {}
        },
        {
          "output_type": "display_data",
          "data": {
            "text/plain": [
              "<IPython.core.display.HTML object>"
            ],
            "text/html": [
              "<style>\n",
              "    table.wandb td:nth-child(1) { padding: 0 10px; text-align: right }\n",
              "    .wandb-row { display: flex; flex-direction: row; flex-wrap: wrap; width: 100% }\n",
              "    .wandb-col { display: flex; flex-direction: column; flex-basis: 100%; flex: 1; padding: 10px; }\n",
              "    </style>\n",
              "<div class=\"wandb-row\"><div class=\"wandb-col\"><h3>Run history:</h3><br/><table class=\"wandb\"><tr><td>accuracy</td><td>▁▄▆▆▇▇▇███</td></tr><tr><td>epoch</td><td>▁▃▅▆█▁▃▅▆█</td></tr><tr><td>loss</td><td>█▄▃▃▂▂▂▁▁▁</td></tr><tr><td>val_accuracy</td><td>▁▁▅▇▇█████</td></tr><tr><td>val_loss</td><td>█▅▃▁▁▁▁▁▁▁</td></tr></table><br/></div><div class=\"wandb-col\"><h3>Run summary:</h3><br/><table class=\"wandb\"><tr><td>accuracy</td><td>0.697</td></tr><tr><td>best_epoch</td><td>3</td></tr><tr><td>best_val_loss</td><td>0.91554</td></tr><tr><td>epoch</td><td>4</td></tr><tr><td>loss</td><td>0.9756</td></tr><tr><td>val_accuracy</td><td>0.68669</td></tr><tr><td>val_loss</td><td>1.02099</td></tr></table><br/></div></div>"
            ]
          },
          "metadata": {}
        },
        {
          "output_type": "display_data",
          "data": {
            "text/plain": [
              "<IPython.core.display.HTML object>"
            ],
            "text/html": [
              "Synced <strong style=\"color:#cdcd00\">lunar-sweep-13</strong>: <a href=\"https://wandb.ai/kankan-jana/CS6910_Assignment-2/runs/f8rmlcem\" target=\"_blank\">https://wandb.ai/kankan-jana/CS6910_Assignment-2/runs/f8rmlcem</a><br/>Synced 5 W&B file(s), 1 media file(s), 0 artifact file(s) and 1 other file(s)"
            ]
          },
          "metadata": {}
        },
        {
          "output_type": "display_data",
          "data": {
            "text/plain": [
              "<IPython.core.display.HTML object>"
            ],
            "text/html": [
              "Find logs at: <code>./wandb/run-20220405_010355-f8rmlcem/logs</code>"
            ]
          },
          "metadata": {}
        },
        {
          "output_type": "stream",
          "name": "stderr",
          "text": [
            "\u001b[34m\u001b[1mwandb\u001b[0m: Sweep Agent: Waiting for job.\n",
            "\u001b[34m\u001b[1mwandb\u001b[0m: Job received.\n",
            "\u001b[34m\u001b[1mwandb\u001b[0m: Agent Starting Run: 6hcdtayl with config:\n",
            "\u001b[34m\u001b[1mwandb\u001b[0m: \tactivation_function: relu\n",
            "\u001b[34m\u001b[1mwandb\u001b[0m: \tbase_model: resnet50\n",
            "\u001b[34m\u001b[1mwandb\u001b[0m: \tbatchNormalization: False\n",
            "\u001b[34m\u001b[1mwandb\u001b[0m: \tdropout_rate: 0.4\n",
            "\u001b[34m\u001b[1mwandb\u001b[0m: \tfraction_of_trainable_layers: 1\n",
            "\u001b[34m\u001b[1mwandb\u001b[0m: \tlr: 0.0001\n",
            "\u001b[34m\u001b[1mwandb\u001b[0m: \tnumberOfDenseLayer: 2\n",
            "\u001b[34m\u001b[1mwandb\u001b[0m: \toptimizer: adam\n"
          ]
        },
        {
          "output_type": "display_data",
          "data": {
            "text/plain": [
              "<IPython.core.display.HTML object>"
            ],
            "text/html": [
              "Tracking run with wandb version 0.12.11"
            ]
          },
          "metadata": {}
        },
        {
          "output_type": "display_data",
          "data": {
            "text/plain": [
              "<IPython.core.display.HTML object>"
            ],
            "text/html": [
              "Run data is saved locally in <code>/content/wandb/run-20220405_015157-6hcdtayl</code>"
            ]
          },
          "metadata": {}
        },
        {
          "output_type": "display_data",
          "data": {
            "text/plain": [
              "<IPython.core.display.HTML object>"
            ],
            "text/html": [
              "Syncing run <strong><a href=\"https://wandb.ai/kankan-jana/CS6910_Assignment-2/runs/6hcdtayl\" target=\"_blank\">vivid-sweep-14</a></strong> to <a href=\"https://wandb.ai/kankan-jana/CS6910_Assignment-2\" target=\"_blank\">Weights & Biases</a> (<a href=\"https://wandb.me/run\" target=\"_blank\">docs</a>)<br/>Sweep page:  <a href=\"https://wandb.ai/kankan-jana/CS6910_Assignment-2/sweeps/gb27evo2\" target=\"_blank\">https://wandb.ai/kankan-jana/CS6910_Assignment-2/sweeps/gb27evo2</a>"
            ]
          },
          "metadata": {}
        },
        {
          "output_type": "stream",
          "name": "stdout",
          "text": [
            "Epoch 1/5\n",
            "246/282 [=========================>....] - ETA: 30s - loss: 1.4009 - accuracy: 0.5837"
          ]
        }
      ]
    }
  ],
  "metadata": {
    "accelerator": "GPU",
    "colab": {
      "collapsed_sections": [],
      "machine_shape": "hm",
      "name": "DL_Assignment2_Part B Google Colab.ipynb",
      "provenance": []
    },
    "kernelspec": {
      "display_name": "Python 3",
      "name": "python3"
    },
    "language_info": {
      "name": "python"
    },
    "widgets": {
      "application/vnd.jupyter.widget-state+json": {
        "d1c5b93db68542edaf9dee024fddf929": {
          "model_module": "@jupyter-widgets/controls",
          "model_name": "VBoxModel",
          "model_module_version": "1.5.0",
          "state": {
            "_dom_classes": [],
            "_model_module": "@jupyter-widgets/controls",
            "_model_module_version": "1.5.0",
            "_model_name": "VBoxModel",
            "_view_count": null,
            "_view_module": "@jupyter-widgets/controls",
            "_view_module_version": "1.5.0",
            "_view_name": "VBoxView",
            "box_style": "",
            "children": [
              "IPY_MODEL_c7096d8b33e045beb00faa3b4dcdcf57",
              "IPY_MODEL_12d6f7d107264cf1a4ff2cd7027a388c"
            ],
            "layout": "IPY_MODEL_4960ff888ecc48f19875ad2c73a0e435"
          }
        },
        "c7096d8b33e045beb00faa3b4dcdcf57": {
          "model_module": "@jupyter-widgets/controls",
          "model_name": "LabelModel",
          "model_module_version": "1.5.0",
          "state": {
            "_dom_classes": [],
            "_model_module": "@jupyter-widgets/controls",
            "_model_module_version": "1.5.0",
            "_model_name": "LabelModel",
            "_view_count": null,
            "_view_module": "@jupyter-widgets/controls",
            "_view_module_version": "1.5.0",
            "_view_name": "LabelView",
            "description": "",
            "description_tooltip": null,
            "layout": "IPY_MODEL_4bb6bc252cf847719de6629fbbc43c4e",
            "placeholder": "​",
            "style": "IPY_MODEL_efab277c58e54dce86fa6c0541539977",
            "value": "0.001 MB of 0.001 MB uploaded (0.000 MB deduped)\r"
          }
        },
        "12d6f7d107264cf1a4ff2cd7027a388c": {
          "model_module": "@jupyter-widgets/controls",
          "model_name": "FloatProgressModel",
          "model_module_version": "1.5.0",
          "state": {
            "_dom_classes": [],
            "_model_module": "@jupyter-widgets/controls",
            "_model_module_version": "1.5.0",
            "_model_name": "FloatProgressModel",
            "_view_count": null,
            "_view_module": "@jupyter-widgets/controls",
            "_view_module_version": "1.5.0",
            "_view_name": "ProgressView",
            "bar_style": "",
            "description": "",
            "description_tooltip": null,
            "layout": "IPY_MODEL_ba6bd347e0de439dbed9b0a704e2fdcc",
            "max": 1,
            "min": 0,
            "orientation": "horizontal",
            "style": "IPY_MODEL_f9e1c923dd3c46eaa7054c4676c690ff",
            "value": 1
          }
        },
        "4960ff888ecc48f19875ad2c73a0e435": {
          "model_module": "@jupyter-widgets/base",
          "model_name": "LayoutModel",
          "model_module_version": "1.2.0",
          "state": {
            "_model_module": "@jupyter-widgets/base",
            "_model_module_version": "1.2.0",
            "_model_name": "LayoutModel",
            "_view_count": null,
            "_view_module": "@jupyter-widgets/base",
            "_view_module_version": "1.2.0",
            "_view_name": "LayoutView",
            "align_content": null,
            "align_items": null,
            "align_self": null,
            "border": null,
            "bottom": null,
            "display": null,
            "flex": null,
            "flex_flow": null,
            "grid_area": null,
            "grid_auto_columns": null,
            "grid_auto_flow": null,
            "grid_auto_rows": null,
            "grid_column": null,
            "grid_gap": null,
            "grid_row": null,
            "grid_template_areas": null,
            "grid_template_columns": null,
            "grid_template_rows": null,
            "height": null,
            "justify_content": null,
            "justify_items": null,
            "left": null,
            "margin": null,
            "max_height": null,
            "max_width": null,
            "min_height": null,
            "min_width": null,
            "object_fit": null,
            "object_position": null,
            "order": null,
            "overflow": null,
            "overflow_x": null,
            "overflow_y": null,
            "padding": null,
            "right": null,
            "top": null,
            "visibility": null,
            "width": null
          }
        },
        "4bb6bc252cf847719de6629fbbc43c4e": {
          "model_module": "@jupyter-widgets/base",
          "model_name": "LayoutModel",
          "model_module_version": "1.2.0",
          "state": {
            "_model_module": "@jupyter-widgets/base",
            "_model_module_version": "1.2.0",
            "_model_name": "LayoutModel",
            "_view_count": null,
            "_view_module": "@jupyter-widgets/base",
            "_view_module_version": "1.2.0",
            "_view_name": "LayoutView",
            "align_content": null,
            "align_items": null,
            "align_self": null,
            "border": null,
            "bottom": null,
            "display": null,
            "flex": null,
            "flex_flow": null,
            "grid_area": null,
            "grid_auto_columns": null,
            "grid_auto_flow": null,
            "grid_auto_rows": null,
            "grid_column": null,
            "grid_gap": null,
            "grid_row": null,
            "grid_template_areas": null,
            "grid_template_columns": null,
            "grid_template_rows": null,
            "height": null,
            "justify_content": null,
            "justify_items": null,
            "left": null,
            "margin": null,
            "max_height": null,
            "max_width": null,
            "min_height": null,
            "min_width": null,
            "object_fit": null,
            "object_position": null,
            "order": null,
            "overflow": null,
            "overflow_x": null,
            "overflow_y": null,
            "padding": null,
            "right": null,
            "top": null,
            "visibility": null,
            "width": null
          }
        },
        "efab277c58e54dce86fa6c0541539977": {
          "model_module": "@jupyter-widgets/controls",
          "model_name": "DescriptionStyleModel",
          "model_module_version": "1.5.0",
          "state": {
            "_model_module": "@jupyter-widgets/controls",
            "_model_module_version": "1.5.0",
            "_model_name": "DescriptionStyleModel",
            "_view_count": null,
            "_view_module": "@jupyter-widgets/base",
            "_view_module_version": "1.2.0",
            "_view_name": "StyleView",
            "description_width": ""
          }
        },
        "ba6bd347e0de439dbed9b0a704e2fdcc": {
          "model_module": "@jupyter-widgets/base",
          "model_name": "LayoutModel",
          "model_module_version": "1.2.0",
          "state": {
            "_model_module": "@jupyter-widgets/base",
            "_model_module_version": "1.2.0",
            "_model_name": "LayoutModel",
            "_view_count": null,
            "_view_module": "@jupyter-widgets/base",
            "_view_module_version": "1.2.0",
            "_view_name": "LayoutView",
            "align_content": null,
            "align_items": null,
            "align_self": null,
            "border": null,
            "bottom": null,
            "display": null,
            "flex": null,
            "flex_flow": null,
            "grid_area": null,
            "grid_auto_columns": null,
            "grid_auto_flow": null,
            "grid_auto_rows": null,
            "grid_column": null,
            "grid_gap": null,
            "grid_row": null,
            "grid_template_areas": null,
            "grid_template_columns": null,
            "grid_template_rows": null,
            "height": null,
            "justify_content": null,
            "justify_items": null,
            "left": null,
            "margin": null,
            "max_height": null,
            "max_width": null,
            "min_height": null,
            "min_width": null,
            "object_fit": null,
            "object_position": null,
            "order": null,
            "overflow": null,
            "overflow_x": null,
            "overflow_y": null,
            "padding": null,
            "right": null,
            "top": null,
            "visibility": null,
            "width": null
          }
        },
        "f9e1c923dd3c46eaa7054c4676c690ff": {
          "model_module": "@jupyter-widgets/controls",
          "model_name": "ProgressStyleModel",
          "model_module_version": "1.5.0",
          "state": {
            "_model_module": "@jupyter-widgets/controls",
            "_model_module_version": "1.5.0",
            "_model_name": "ProgressStyleModel",
            "_view_count": null,
            "_view_module": "@jupyter-widgets/base",
            "_view_module_version": "1.2.0",
            "_view_name": "StyleView",
            "bar_color": null,
            "description_width": ""
          }
        },
        "0223ddc4fedb429d948d7d0f8618f3da": {
          "model_module": "@jupyter-widgets/controls",
          "model_name": "VBoxModel",
          "model_module_version": "1.5.0",
          "state": {
            "_dom_classes": [],
            "_model_module": "@jupyter-widgets/controls",
            "_model_module_version": "1.5.0",
            "_model_name": "VBoxModel",
            "_view_count": null,
            "_view_module": "@jupyter-widgets/controls",
            "_view_module_version": "1.5.0",
            "_view_name": "VBoxView",
            "box_style": "",
            "children": [
              "IPY_MODEL_da0454996b57459fb8dfbf46547279a4",
              "IPY_MODEL_d55cb28ad37d4d7e89c07150b6a0e007"
            ],
            "layout": "IPY_MODEL_566be6c6ab584aaca897f4eb20cce91d"
          }
        },
        "da0454996b57459fb8dfbf46547279a4": {
          "model_module": "@jupyter-widgets/controls",
          "model_name": "LabelModel",
          "model_module_version": "1.5.0",
          "state": {
            "_dom_classes": [],
            "_model_module": "@jupyter-widgets/controls",
            "_model_module_version": "1.5.0",
            "_model_name": "LabelModel",
            "_view_count": null,
            "_view_module": "@jupyter-widgets/controls",
            "_view_module_version": "1.5.0",
            "_view_name": "LabelView",
            "description": "",
            "description_tooltip": null,
            "layout": "IPY_MODEL_198532dadea74b34a8bb314f5099e84a",
            "placeholder": "​",
            "style": "IPY_MODEL_174321e170944b35a65d9efd66ec5fa8",
            "value": "1018.372 MB of 1018.372 MB uploaded (0.000 MB deduped)\r"
          }
        },
        "d55cb28ad37d4d7e89c07150b6a0e007": {
          "model_module": "@jupyter-widgets/controls",
          "model_name": "FloatProgressModel",
          "model_module_version": "1.5.0",
          "state": {
            "_dom_classes": [],
            "_model_module": "@jupyter-widgets/controls",
            "_model_module_version": "1.5.0",
            "_model_name": "FloatProgressModel",
            "_view_count": null,
            "_view_module": "@jupyter-widgets/controls",
            "_view_module_version": "1.5.0",
            "_view_name": "ProgressView",
            "bar_style": "",
            "description": "",
            "description_tooltip": null,
            "layout": "IPY_MODEL_e51865e39ad14e2fb7688b8d5ed48822",
            "max": 1,
            "min": 0,
            "orientation": "horizontal",
            "style": "IPY_MODEL_32797e7b280f406783b6d4f0c3c6b6b0",
            "value": 1
          }
        },
        "566be6c6ab584aaca897f4eb20cce91d": {
          "model_module": "@jupyter-widgets/base",
          "model_name": "LayoutModel",
          "model_module_version": "1.2.0",
          "state": {
            "_model_module": "@jupyter-widgets/base",
            "_model_module_version": "1.2.0",
            "_model_name": "LayoutModel",
            "_view_count": null,
            "_view_module": "@jupyter-widgets/base",
            "_view_module_version": "1.2.0",
            "_view_name": "LayoutView",
            "align_content": null,
            "align_items": null,
            "align_self": null,
            "border": null,
            "bottom": null,
            "display": null,
            "flex": null,
            "flex_flow": null,
            "grid_area": null,
            "grid_auto_columns": null,
            "grid_auto_flow": null,
            "grid_auto_rows": null,
            "grid_column": null,
            "grid_gap": null,
            "grid_row": null,
            "grid_template_areas": null,
            "grid_template_columns": null,
            "grid_template_rows": null,
            "height": null,
            "justify_content": null,
            "justify_items": null,
            "left": null,
            "margin": null,
            "max_height": null,
            "max_width": null,
            "min_height": null,
            "min_width": null,
            "object_fit": null,
            "object_position": null,
            "order": null,
            "overflow": null,
            "overflow_x": null,
            "overflow_y": null,
            "padding": null,
            "right": null,
            "top": null,
            "visibility": null,
            "width": null
          }
        },
        "198532dadea74b34a8bb314f5099e84a": {
          "model_module": "@jupyter-widgets/base",
          "model_name": "LayoutModel",
          "model_module_version": "1.2.0",
          "state": {
            "_model_module": "@jupyter-widgets/base",
            "_model_module_version": "1.2.0",
            "_model_name": "LayoutModel",
            "_view_count": null,
            "_view_module": "@jupyter-widgets/base",
            "_view_module_version": "1.2.0",
            "_view_name": "LayoutView",
            "align_content": null,
            "align_items": null,
            "align_self": null,
            "border": null,
            "bottom": null,
            "display": null,
            "flex": null,
            "flex_flow": null,
            "grid_area": null,
            "grid_auto_columns": null,
            "grid_auto_flow": null,
            "grid_auto_rows": null,
            "grid_column": null,
            "grid_gap": null,
            "grid_row": null,
            "grid_template_areas": null,
            "grid_template_columns": null,
            "grid_template_rows": null,
            "height": null,
            "justify_content": null,
            "justify_items": null,
            "left": null,
            "margin": null,
            "max_height": null,
            "max_width": null,
            "min_height": null,
            "min_width": null,
            "object_fit": null,
            "object_position": null,
            "order": null,
            "overflow": null,
            "overflow_x": null,
            "overflow_y": null,
            "padding": null,
            "right": null,
            "top": null,
            "visibility": null,
            "width": null
          }
        },
        "174321e170944b35a65d9efd66ec5fa8": {
          "model_module": "@jupyter-widgets/controls",
          "model_name": "DescriptionStyleModel",
          "model_module_version": "1.5.0",
          "state": {
            "_model_module": "@jupyter-widgets/controls",
            "_model_module_version": "1.5.0",
            "_model_name": "DescriptionStyleModel",
            "_view_count": null,
            "_view_module": "@jupyter-widgets/base",
            "_view_module_version": "1.2.0",
            "_view_name": "StyleView",
            "description_width": ""
          }
        },
        "e51865e39ad14e2fb7688b8d5ed48822": {
          "model_module": "@jupyter-widgets/base",
          "model_name": "LayoutModel",
          "model_module_version": "1.2.0",
          "state": {
            "_model_module": "@jupyter-widgets/base",
            "_model_module_version": "1.2.0",
            "_model_name": "LayoutModel",
            "_view_count": null,
            "_view_module": "@jupyter-widgets/base",
            "_view_module_version": "1.2.0",
            "_view_name": "LayoutView",
            "align_content": null,
            "align_items": null,
            "align_self": null,
            "border": null,
            "bottom": null,
            "display": null,
            "flex": null,
            "flex_flow": null,
            "grid_area": null,
            "grid_auto_columns": null,
            "grid_auto_flow": null,
            "grid_auto_rows": null,
            "grid_column": null,
            "grid_gap": null,
            "grid_row": null,
            "grid_template_areas": null,
            "grid_template_columns": null,
            "grid_template_rows": null,
            "height": null,
            "justify_content": null,
            "justify_items": null,
            "left": null,
            "margin": null,
            "max_height": null,
            "max_width": null,
            "min_height": null,
            "min_width": null,
            "object_fit": null,
            "object_position": null,
            "order": null,
            "overflow": null,
            "overflow_x": null,
            "overflow_y": null,
            "padding": null,
            "right": null,
            "top": null,
            "visibility": null,
            "width": null
          }
        },
        "32797e7b280f406783b6d4f0c3c6b6b0": {
          "model_module": "@jupyter-widgets/controls",
          "model_name": "ProgressStyleModel",
          "model_module_version": "1.5.0",
          "state": {
            "_model_module": "@jupyter-widgets/controls",
            "_model_module_version": "1.5.0",
            "_model_name": "ProgressStyleModel",
            "_view_count": null,
            "_view_module": "@jupyter-widgets/base",
            "_view_module_version": "1.2.0",
            "_view_name": "StyleView",
            "bar_color": null,
            "description_width": ""
          }
        },
        "e7236d66816d4799aef19c23a534d2ea": {
          "model_module": "@jupyter-widgets/controls",
          "model_name": "VBoxModel",
          "model_module_version": "1.5.0",
          "state": {
            "_dom_classes": [],
            "_model_module": "@jupyter-widgets/controls",
            "_model_module_version": "1.5.0",
            "_model_name": "VBoxModel",
            "_view_count": null,
            "_view_module": "@jupyter-widgets/controls",
            "_view_module_version": "1.5.0",
            "_view_name": "VBoxView",
            "box_style": "",
            "children": [
              "IPY_MODEL_8d3b44911e36400cbce26591df8876d4",
              "IPY_MODEL_b1a5474b85994005aef0b15b710f8c33"
            ],
            "layout": "IPY_MODEL_37812d8842ce40e4b911e2daaf931901"
          }
        },
        "8d3b44911e36400cbce26591df8876d4": {
          "model_module": "@jupyter-widgets/controls",
          "model_name": "LabelModel",
          "model_module_version": "1.5.0",
          "state": {
            "_dom_classes": [],
            "_model_module": "@jupyter-widgets/controls",
            "_model_module_version": "1.5.0",
            "_model_name": "LabelModel",
            "_view_count": null,
            "_view_module": "@jupyter-widgets/controls",
            "_view_module_version": "1.5.0",
            "_view_name": "LabelView",
            "description": "",
            "description_tooltip": null,
            "layout": "IPY_MODEL_7b7e013a95384a97a60712dadb3a81ee",
            "placeholder": "​",
            "style": "IPY_MODEL_0d84df9811b945f0b55ee04bbcb0becc",
            "value": "1018.372 MB of 1018.372 MB uploaded (0.000 MB deduped)\r"
          }
        },
        "b1a5474b85994005aef0b15b710f8c33": {
          "model_module": "@jupyter-widgets/controls",
          "model_name": "FloatProgressModel",
          "model_module_version": "1.5.0",
          "state": {
            "_dom_classes": [],
            "_model_module": "@jupyter-widgets/controls",
            "_model_module_version": "1.5.0",
            "_model_name": "FloatProgressModel",
            "_view_count": null,
            "_view_module": "@jupyter-widgets/controls",
            "_view_module_version": "1.5.0",
            "_view_name": "ProgressView",
            "bar_style": "",
            "description": "",
            "description_tooltip": null,
            "layout": "IPY_MODEL_c6389ba72ba84bb08805e94b1f958ef6",
            "max": 1,
            "min": 0,
            "orientation": "horizontal",
            "style": "IPY_MODEL_92b67e474dd94f3796ce4e6897f6ed58",
            "value": 1
          }
        },
        "37812d8842ce40e4b911e2daaf931901": {
          "model_module": "@jupyter-widgets/base",
          "model_name": "LayoutModel",
          "model_module_version": "1.2.0",
          "state": {
            "_model_module": "@jupyter-widgets/base",
            "_model_module_version": "1.2.0",
            "_model_name": "LayoutModel",
            "_view_count": null,
            "_view_module": "@jupyter-widgets/base",
            "_view_module_version": "1.2.0",
            "_view_name": "LayoutView",
            "align_content": null,
            "align_items": null,
            "align_self": null,
            "border": null,
            "bottom": null,
            "display": null,
            "flex": null,
            "flex_flow": null,
            "grid_area": null,
            "grid_auto_columns": null,
            "grid_auto_flow": null,
            "grid_auto_rows": null,
            "grid_column": null,
            "grid_gap": null,
            "grid_row": null,
            "grid_template_areas": null,
            "grid_template_columns": null,
            "grid_template_rows": null,
            "height": null,
            "justify_content": null,
            "justify_items": null,
            "left": null,
            "margin": null,
            "max_height": null,
            "max_width": null,
            "min_height": null,
            "min_width": null,
            "object_fit": null,
            "object_position": null,
            "order": null,
            "overflow": null,
            "overflow_x": null,
            "overflow_y": null,
            "padding": null,
            "right": null,
            "top": null,
            "visibility": null,
            "width": null
          }
        },
        "7b7e013a95384a97a60712dadb3a81ee": {
          "model_module": "@jupyter-widgets/base",
          "model_name": "LayoutModel",
          "model_module_version": "1.2.0",
          "state": {
            "_model_module": "@jupyter-widgets/base",
            "_model_module_version": "1.2.0",
            "_model_name": "LayoutModel",
            "_view_count": null,
            "_view_module": "@jupyter-widgets/base",
            "_view_module_version": "1.2.0",
            "_view_name": "LayoutView",
            "align_content": null,
            "align_items": null,
            "align_self": null,
            "border": null,
            "bottom": null,
            "display": null,
            "flex": null,
            "flex_flow": null,
            "grid_area": null,
            "grid_auto_columns": null,
            "grid_auto_flow": null,
            "grid_auto_rows": null,
            "grid_column": null,
            "grid_gap": null,
            "grid_row": null,
            "grid_template_areas": null,
            "grid_template_columns": null,
            "grid_template_rows": null,
            "height": null,
            "justify_content": null,
            "justify_items": null,
            "left": null,
            "margin": null,
            "max_height": null,
            "max_width": null,
            "min_height": null,
            "min_width": null,
            "object_fit": null,
            "object_position": null,
            "order": null,
            "overflow": null,
            "overflow_x": null,
            "overflow_y": null,
            "padding": null,
            "right": null,
            "top": null,
            "visibility": null,
            "width": null
          }
        },
        "0d84df9811b945f0b55ee04bbcb0becc": {
          "model_module": "@jupyter-widgets/controls",
          "model_name": "DescriptionStyleModel",
          "model_module_version": "1.5.0",
          "state": {
            "_model_module": "@jupyter-widgets/controls",
            "_model_module_version": "1.5.0",
            "_model_name": "DescriptionStyleModel",
            "_view_count": null,
            "_view_module": "@jupyter-widgets/base",
            "_view_module_version": "1.2.0",
            "_view_name": "StyleView",
            "description_width": ""
          }
        },
        "c6389ba72ba84bb08805e94b1f958ef6": {
          "model_module": "@jupyter-widgets/base",
          "model_name": "LayoutModel",
          "model_module_version": "1.2.0",
          "state": {
            "_model_module": "@jupyter-widgets/base",
            "_model_module_version": "1.2.0",
            "_model_name": "LayoutModel",
            "_view_count": null,
            "_view_module": "@jupyter-widgets/base",
            "_view_module_version": "1.2.0",
            "_view_name": "LayoutView",
            "align_content": null,
            "align_items": null,
            "align_self": null,
            "border": null,
            "bottom": null,
            "display": null,
            "flex": null,
            "flex_flow": null,
            "grid_area": null,
            "grid_auto_columns": null,
            "grid_auto_flow": null,
            "grid_auto_rows": null,
            "grid_column": null,
            "grid_gap": null,
            "grid_row": null,
            "grid_template_areas": null,
            "grid_template_columns": null,
            "grid_template_rows": null,
            "height": null,
            "justify_content": null,
            "justify_items": null,
            "left": null,
            "margin": null,
            "max_height": null,
            "max_width": null,
            "min_height": null,
            "min_width": null,
            "object_fit": null,
            "object_position": null,
            "order": null,
            "overflow": null,
            "overflow_x": null,
            "overflow_y": null,
            "padding": null,
            "right": null,
            "top": null,
            "visibility": null,
            "width": null
          }
        },
        "92b67e474dd94f3796ce4e6897f6ed58": {
          "model_module": "@jupyter-widgets/controls",
          "model_name": "ProgressStyleModel",
          "model_module_version": "1.5.0",
          "state": {
            "_model_module": "@jupyter-widgets/controls",
            "_model_module_version": "1.5.0",
            "_model_name": "ProgressStyleModel",
            "_view_count": null,
            "_view_module": "@jupyter-widgets/base",
            "_view_module_version": "1.2.0",
            "_view_name": "StyleView",
            "bar_color": null,
            "description_width": ""
          }
        },
        "fe81679e314a47f5a5bf85a534171f85": {
          "model_module": "@jupyter-widgets/controls",
          "model_name": "VBoxModel",
          "model_module_version": "1.5.0",
          "state": {
            "_dom_classes": [],
            "_model_module": "@jupyter-widgets/controls",
            "_model_module_version": "1.5.0",
            "_model_name": "VBoxModel",
            "_view_count": null,
            "_view_module": "@jupyter-widgets/controls",
            "_view_module_version": "1.5.0",
            "_view_name": "VBoxView",
            "box_style": "",
            "children": [
              "IPY_MODEL_6c9761ea37714b8d8e4fcee8694066b3",
              "IPY_MODEL_dd7d60069c03483083090ae5f7507a4a"
            ],
            "layout": "IPY_MODEL_baf73ea8e9654dbfa2842b029bd35f0c"
          }
        },
        "6c9761ea37714b8d8e4fcee8694066b3": {
          "model_module": "@jupyter-widgets/controls",
          "model_name": "LabelModel",
          "model_module_version": "1.5.0",
          "state": {
            "_dom_classes": [],
            "_model_module": "@jupyter-widgets/controls",
            "_model_module_version": "1.5.0",
            "_model_name": "LabelModel",
            "_view_count": null,
            "_view_module": "@jupyter-widgets/controls",
            "_view_module_version": "1.5.0",
            "_view_name": "LabelView",
            "description": "",
            "description_tooltip": null,
            "layout": "IPY_MODEL_506562ebe89e4d5f846d01dd73195385",
            "placeholder": "​",
            "style": "IPY_MODEL_73e9c8fc65c24f15a8b99d03e8ca71c9",
            "value": "800.696 MB of 800.696 MB uploaded (0.000 MB deduped)\r"
          }
        },
        "dd7d60069c03483083090ae5f7507a4a": {
          "model_module": "@jupyter-widgets/controls",
          "model_name": "FloatProgressModel",
          "model_module_version": "1.5.0",
          "state": {
            "_dom_classes": [],
            "_model_module": "@jupyter-widgets/controls",
            "_model_module_version": "1.5.0",
            "_model_name": "FloatProgressModel",
            "_view_count": null,
            "_view_module": "@jupyter-widgets/controls",
            "_view_module_version": "1.5.0",
            "_view_name": "ProgressView",
            "bar_style": "",
            "description": "",
            "description_tooltip": null,
            "layout": "IPY_MODEL_683f49d46cf74840baffa3660884c70c",
            "max": 1,
            "min": 0,
            "orientation": "horizontal",
            "style": "IPY_MODEL_417d6135823043418cde59182fd523a3",
            "value": 1
          }
        },
        "baf73ea8e9654dbfa2842b029bd35f0c": {
          "model_module": "@jupyter-widgets/base",
          "model_name": "LayoutModel",
          "model_module_version": "1.2.0",
          "state": {
            "_model_module": "@jupyter-widgets/base",
            "_model_module_version": "1.2.0",
            "_model_name": "LayoutModel",
            "_view_count": null,
            "_view_module": "@jupyter-widgets/base",
            "_view_module_version": "1.2.0",
            "_view_name": "LayoutView",
            "align_content": null,
            "align_items": null,
            "align_self": null,
            "border": null,
            "bottom": null,
            "display": null,
            "flex": null,
            "flex_flow": null,
            "grid_area": null,
            "grid_auto_columns": null,
            "grid_auto_flow": null,
            "grid_auto_rows": null,
            "grid_column": null,
            "grid_gap": null,
            "grid_row": null,
            "grid_template_areas": null,
            "grid_template_columns": null,
            "grid_template_rows": null,
            "height": null,
            "justify_content": null,
            "justify_items": null,
            "left": null,
            "margin": null,
            "max_height": null,
            "max_width": null,
            "min_height": null,
            "min_width": null,
            "object_fit": null,
            "object_position": null,
            "order": null,
            "overflow": null,
            "overflow_x": null,
            "overflow_y": null,
            "padding": null,
            "right": null,
            "top": null,
            "visibility": null,
            "width": null
          }
        },
        "506562ebe89e4d5f846d01dd73195385": {
          "model_module": "@jupyter-widgets/base",
          "model_name": "LayoutModel",
          "model_module_version": "1.2.0",
          "state": {
            "_model_module": "@jupyter-widgets/base",
            "_model_module_version": "1.2.0",
            "_model_name": "LayoutModel",
            "_view_count": null,
            "_view_module": "@jupyter-widgets/base",
            "_view_module_version": "1.2.0",
            "_view_name": "LayoutView",
            "align_content": null,
            "align_items": null,
            "align_self": null,
            "border": null,
            "bottom": null,
            "display": null,
            "flex": null,
            "flex_flow": null,
            "grid_area": null,
            "grid_auto_columns": null,
            "grid_auto_flow": null,
            "grid_auto_rows": null,
            "grid_column": null,
            "grid_gap": null,
            "grid_row": null,
            "grid_template_areas": null,
            "grid_template_columns": null,
            "grid_template_rows": null,
            "height": null,
            "justify_content": null,
            "justify_items": null,
            "left": null,
            "margin": null,
            "max_height": null,
            "max_width": null,
            "min_height": null,
            "min_width": null,
            "object_fit": null,
            "object_position": null,
            "order": null,
            "overflow": null,
            "overflow_x": null,
            "overflow_y": null,
            "padding": null,
            "right": null,
            "top": null,
            "visibility": null,
            "width": null
          }
        },
        "73e9c8fc65c24f15a8b99d03e8ca71c9": {
          "model_module": "@jupyter-widgets/controls",
          "model_name": "DescriptionStyleModel",
          "model_module_version": "1.5.0",
          "state": {
            "_model_module": "@jupyter-widgets/controls",
            "_model_module_version": "1.5.0",
            "_model_name": "DescriptionStyleModel",
            "_view_count": null,
            "_view_module": "@jupyter-widgets/base",
            "_view_module_version": "1.2.0",
            "_view_name": "StyleView",
            "description_width": ""
          }
        },
        "683f49d46cf74840baffa3660884c70c": {
          "model_module": "@jupyter-widgets/base",
          "model_name": "LayoutModel",
          "model_module_version": "1.2.0",
          "state": {
            "_model_module": "@jupyter-widgets/base",
            "_model_module_version": "1.2.0",
            "_model_name": "LayoutModel",
            "_view_count": null,
            "_view_module": "@jupyter-widgets/base",
            "_view_module_version": "1.2.0",
            "_view_name": "LayoutView",
            "align_content": null,
            "align_items": null,
            "align_self": null,
            "border": null,
            "bottom": null,
            "display": null,
            "flex": null,
            "flex_flow": null,
            "grid_area": null,
            "grid_auto_columns": null,
            "grid_auto_flow": null,
            "grid_auto_rows": null,
            "grid_column": null,
            "grid_gap": null,
            "grid_row": null,
            "grid_template_areas": null,
            "grid_template_columns": null,
            "grid_template_rows": null,
            "height": null,
            "justify_content": null,
            "justify_items": null,
            "left": null,
            "margin": null,
            "max_height": null,
            "max_width": null,
            "min_height": null,
            "min_width": null,
            "object_fit": null,
            "object_position": null,
            "order": null,
            "overflow": null,
            "overflow_x": null,
            "overflow_y": null,
            "padding": null,
            "right": null,
            "top": null,
            "visibility": null,
            "width": null
          }
        },
        "417d6135823043418cde59182fd523a3": {
          "model_module": "@jupyter-widgets/controls",
          "model_name": "ProgressStyleModel",
          "model_module_version": "1.5.0",
          "state": {
            "_model_module": "@jupyter-widgets/controls",
            "_model_module_version": "1.5.0",
            "_model_name": "ProgressStyleModel",
            "_view_count": null,
            "_view_module": "@jupyter-widgets/base",
            "_view_module_version": "1.2.0",
            "_view_name": "StyleView",
            "bar_color": null,
            "description_width": ""
          }
        },
        "dea63732e6124af187b77a1b2ac034b2": {
          "model_module": "@jupyter-widgets/controls",
          "model_name": "VBoxModel",
          "model_module_version": "1.5.0",
          "state": {
            "_dom_classes": [],
            "_model_module": "@jupyter-widgets/controls",
            "_model_module_version": "1.5.0",
            "_model_name": "VBoxModel",
            "_view_count": null,
            "_view_module": "@jupyter-widgets/controls",
            "_view_module_version": "1.5.0",
            "_view_name": "VBoxView",
            "box_style": "",
            "children": [
              "IPY_MODEL_e93a02ad29f340f89f29954439d251bf",
              "IPY_MODEL_02bbfa265f83426582f38ebc90feea47"
            ],
            "layout": "IPY_MODEL_3ae18aa9e957463381c61fa987770abc"
          }
        },
        "e93a02ad29f340f89f29954439d251bf": {
          "model_module": "@jupyter-widgets/controls",
          "model_name": "LabelModel",
          "model_module_version": "1.5.0",
          "state": {
            "_dom_classes": [],
            "_model_module": "@jupyter-widgets/controls",
            "_model_module_version": "1.5.0",
            "_model_name": "LabelModel",
            "_view_count": null,
            "_view_module": "@jupyter-widgets/controls",
            "_view_module_version": "1.5.0",
            "_view_name": "LabelView",
            "description": "",
            "description_tooltip": null,
            "layout": "IPY_MODEL_7e7d50a14f5144aea7c7b4fe6a84260d",
            "placeholder": "​",
            "style": "IPY_MODEL_a13f38b4b2d747f896b519f05b5545ed",
            "value": "1470.439 MB of 1470.439 MB uploaded (0.000 MB deduped)\r"
          }
        },
        "02bbfa265f83426582f38ebc90feea47": {
          "model_module": "@jupyter-widgets/controls",
          "model_name": "FloatProgressModel",
          "model_module_version": "1.5.0",
          "state": {
            "_dom_classes": [],
            "_model_module": "@jupyter-widgets/controls",
            "_model_module_version": "1.5.0",
            "_model_name": "FloatProgressModel",
            "_view_count": null,
            "_view_module": "@jupyter-widgets/controls",
            "_view_module_version": "1.5.0",
            "_view_name": "ProgressView",
            "bar_style": "",
            "description": "",
            "description_tooltip": null,
            "layout": "IPY_MODEL_df6932b77d044e59a737309ae6780ee2",
            "max": 1,
            "min": 0,
            "orientation": "horizontal",
            "style": "IPY_MODEL_ddc3c156c78b47c694036df461d15867",
            "value": 1
          }
        },
        "3ae18aa9e957463381c61fa987770abc": {
          "model_module": "@jupyter-widgets/base",
          "model_name": "LayoutModel",
          "model_module_version": "1.2.0",
          "state": {
            "_model_module": "@jupyter-widgets/base",
            "_model_module_version": "1.2.0",
            "_model_name": "LayoutModel",
            "_view_count": null,
            "_view_module": "@jupyter-widgets/base",
            "_view_module_version": "1.2.0",
            "_view_name": "LayoutView",
            "align_content": null,
            "align_items": null,
            "align_self": null,
            "border": null,
            "bottom": null,
            "display": null,
            "flex": null,
            "flex_flow": null,
            "grid_area": null,
            "grid_auto_columns": null,
            "grid_auto_flow": null,
            "grid_auto_rows": null,
            "grid_column": null,
            "grid_gap": null,
            "grid_row": null,
            "grid_template_areas": null,
            "grid_template_columns": null,
            "grid_template_rows": null,
            "height": null,
            "justify_content": null,
            "justify_items": null,
            "left": null,
            "margin": null,
            "max_height": null,
            "max_width": null,
            "min_height": null,
            "min_width": null,
            "object_fit": null,
            "object_position": null,
            "order": null,
            "overflow": null,
            "overflow_x": null,
            "overflow_y": null,
            "padding": null,
            "right": null,
            "top": null,
            "visibility": null,
            "width": null
          }
        },
        "7e7d50a14f5144aea7c7b4fe6a84260d": {
          "model_module": "@jupyter-widgets/base",
          "model_name": "LayoutModel",
          "model_module_version": "1.2.0",
          "state": {
            "_model_module": "@jupyter-widgets/base",
            "_model_module_version": "1.2.0",
            "_model_name": "LayoutModel",
            "_view_count": null,
            "_view_module": "@jupyter-widgets/base",
            "_view_module_version": "1.2.0",
            "_view_name": "LayoutView",
            "align_content": null,
            "align_items": null,
            "align_self": null,
            "border": null,
            "bottom": null,
            "display": null,
            "flex": null,
            "flex_flow": null,
            "grid_area": null,
            "grid_auto_columns": null,
            "grid_auto_flow": null,
            "grid_auto_rows": null,
            "grid_column": null,
            "grid_gap": null,
            "grid_row": null,
            "grid_template_areas": null,
            "grid_template_columns": null,
            "grid_template_rows": null,
            "height": null,
            "justify_content": null,
            "justify_items": null,
            "left": null,
            "margin": null,
            "max_height": null,
            "max_width": null,
            "min_height": null,
            "min_width": null,
            "object_fit": null,
            "object_position": null,
            "order": null,
            "overflow": null,
            "overflow_x": null,
            "overflow_y": null,
            "padding": null,
            "right": null,
            "top": null,
            "visibility": null,
            "width": null
          }
        },
        "a13f38b4b2d747f896b519f05b5545ed": {
          "model_module": "@jupyter-widgets/controls",
          "model_name": "DescriptionStyleModel",
          "model_module_version": "1.5.0",
          "state": {
            "_model_module": "@jupyter-widgets/controls",
            "_model_module_version": "1.5.0",
            "_model_name": "DescriptionStyleModel",
            "_view_count": null,
            "_view_module": "@jupyter-widgets/base",
            "_view_module_version": "1.2.0",
            "_view_name": "StyleView",
            "description_width": ""
          }
        },
        "df6932b77d044e59a737309ae6780ee2": {
          "model_module": "@jupyter-widgets/base",
          "model_name": "LayoutModel",
          "model_module_version": "1.2.0",
          "state": {
            "_model_module": "@jupyter-widgets/base",
            "_model_module_version": "1.2.0",
            "_model_name": "LayoutModel",
            "_view_count": null,
            "_view_module": "@jupyter-widgets/base",
            "_view_module_version": "1.2.0",
            "_view_name": "LayoutView",
            "align_content": null,
            "align_items": null,
            "align_self": null,
            "border": null,
            "bottom": null,
            "display": null,
            "flex": null,
            "flex_flow": null,
            "grid_area": null,
            "grid_auto_columns": null,
            "grid_auto_flow": null,
            "grid_auto_rows": null,
            "grid_column": null,
            "grid_gap": null,
            "grid_row": null,
            "grid_template_areas": null,
            "grid_template_columns": null,
            "grid_template_rows": null,
            "height": null,
            "justify_content": null,
            "justify_items": null,
            "left": null,
            "margin": null,
            "max_height": null,
            "max_width": null,
            "min_height": null,
            "min_width": null,
            "object_fit": null,
            "object_position": null,
            "order": null,
            "overflow": null,
            "overflow_x": null,
            "overflow_y": null,
            "padding": null,
            "right": null,
            "top": null,
            "visibility": null,
            "width": null
          }
        },
        "ddc3c156c78b47c694036df461d15867": {
          "model_module": "@jupyter-widgets/controls",
          "model_name": "ProgressStyleModel",
          "model_module_version": "1.5.0",
          "state": {
            "_model_module": "@jupyter-widgets/controls",
            "_model_module_version": "1.5.0",
            "_model_name": "ProgressStyleModel",
            "_view_count": null,
            "_view_module": "@jupyter-widgets/base",
            "_view_module_version": "1.2.0",
            "_view_name": "StyleView",
            "bar_color": null,
            "description_width": ""
          }
        },
        "e31cba26b5e94279a6495d803b8b9739": {
          "model_module": "@jupyter-widgets/controls",
          "model_name": "VBoxModel",
          "model_module_version": "1.5.0",
          "state": {
            "_dom_classes": [],
            "_model_module": "@jupyter-widgets/controls",
            "_model_module_version": "1.5.0",
            "_model_name": "VBoxModel",
            "_view_count": null,
            "_view_module": "@jupyter-widgets/controls",
            "_view_module_version": "1.5.0",
            "_view_name": "VBoxView",
            "box_style": "",
            "children": [
              "IPY_MODEL_d77a14b012ad48d392de79e7019e992b",
              "IPY_MODEL_4307e246a862446eb0c3da782712db73"
            ],
            "layout": "IPY_MODEL_832ad78ff11b4e278dcdd63eee90b402"
          }
        },
        "d77a14b012ad48d392de79e7019e992b": {
          "model_module": "@jupyter-widgets/controls",
          "model_name": "LabelModel",
          "model_module_version": "1.5.0",
          "state": {
            "_dom_classes": [],
            "_model_module": "@jupyter-widgets/controls",
            "_model_module_version": "1.5.0",
            "_model_name": "LabelModel",
            "_view_count": null,
            "_view_module": "@jupyter-widgets/controls",
            "_view_module_version": "1.5.0",
            "_view_name": "LabelView",
            "description": "",
            "description_tooltip": null,
            "layout": "IPY_MODEL_1dec12ce2b15433986f0f42131fa8f1c",
            "placeholder": "​",
            "style": "IPY_MODEL_152b212538674bfcb0b05893da4bcf41",
            "value": "1470.438 MB of 1470.438 MB uploaded (0.000 MB deduped)\r"
          }
        },
        "4307e246a862446eb0c3da782712db73": {
          "model_module": "@jupyter-widgets/controls",
          "model_name": "FloatProgressModel",
          "model_module_version": "1.5.0",
          "state": {
            "_dom_classes": [],
            "_model_module": "@jupyter-widgets/controls",
            "_model_module_version": "1.5.0",
            "_model_name": "FloatProgressModel",
            "_view_count": null,
            "_view_module": "@jupyter-widgets/controls",
            "_view_module_version": "1.5.0",
            "_view_name": "ProgressView",
            "bar_style": "",
            "description": "",
            "description_tooltip": null,
            "layout": "IPY_MODEL_8e65cdd9c89644a6881ab2927f25f357",
            "max": 1,
            "min": 0,
            "orientation": "horizontal",
            "style": "IPY_MODEL_4a7e628425424b4baec96c39f612b14b",
            "value": 1
          }
        },
        "832ad78ff11b4e278dcdd63eee90b402": {
          "model_module": "@jupyter-widgets/base",
          "model_name": "LayoutModel",
          "model_module_version": "1.2.0",
          "state": {
            "_model_module": "@jupyter-widgets/base",
            "_model_module_version": "1.2.0",
            "_model_name": "LayoutModel",
            "_view_count": null,
            "_view_module": "@jupyter-widgets/base",
            "_view_module_version": "1.2.0",
            "_view_name": "LayoutView",
            "align_content": null,
            "align_items": null,
            "align_self": null,
            "border": null,
            "bottom": null,
            "display": null,
            "flex": null,
            "flex_flow": null,
            "grid_area": null,
            "grid_auto_columns": null,
            "grid_auto_flow": null,
            "grid_auto_rows": null,
            "grid_column": null,
            "grid_gap": null,
            "grid_row": null,
            "grid_template_areas": null,
            "grid_template_columns": null,
            "grid_template_rows": null,
            "height": null,
            "justify_content": null,
            "justify_items": null,
            "left": null,
            "margin": null,
            "max_height": null,
            "max_width": null,
            "min_height": null,
            "min_width": null,
            "object_fit": null,
            "object_position": null,
            "order": null,
            "overflow": null,
            "overflow_x": null,
            "overflow_y": null,
            "padding": null,
            "right": null,
            "top": null,
            "visibility": null,
            "width": null
          }
        },
        "1dec12ce2b15433986f0f42131fa8f1c": {
          "model_module": "@jupyter-widgets/base",
          "model_name": "LayoutModel",
          "model_module_version": "1.2.0",
          "state": {
            "_model_module": "@jupyter-widgets/base",
            "_model_module_version": "1.2.0",
            "_model_name": "LayoutModel",
            "_view_count": null,
            "_view_module": "@jupyter-widgets/base",
            "_view_module_version": "1.2.0",
            "_view_name": "LayoutView",
            "align_content": null,
            "align_items": null,
            "align_self": null,
            "border": null,
            "bottom": null,
            "display": null,
            "flex": null,
            "flex_flow": null,
            "grid_area": null,
            "grid_auto_columns": null,
            "grid_auto_flow": null,
            "grid_auto_rows": null,
            "grid_column": null,
            "grid_gap": null,
            "grid_row": null,
            "grid_template_areas": null,
            "grid_template_columns": null,
            "grid_template_rows": null,
            "height": null,
            "justify_content": null,
            "justify_items": null,
            "left": null,
            "margin": null,
            "max_height": null,
            "max_width": null,
            "min_height": null,
            "min_width": null,
            "object_fit": null,
            "object_position": null,
            "order": null,
            "overflow": null,
            "overflow_x": null,
            "overflow_y": null,
            "padding": null,
            "right": null,
            "top": null,
            "visibility": null,
            "width": null
          }
        },
        "152b212538674bfcb0b05893da4bcf41": {
          "model_module": "@jupyter-widgets/controls",
          "model_name": "DescriptionStyleModel",
          "model_module_version": "1.5.0",
          "state": {
            "_model_module": "@jupyter-widgets/controls",
            "_model_module_version": "1.5.0",
            "_model_name": "DescriptionStyleModel",
            "_view_count": null,
            "_view_module": "@jupyter-widgets/base",
            "_view_module_version": "1.2.0",
            "_view_name": "StyleView",
            "description_width": ""
          }
        },
        "8e65cdd9c89644a6881ab2927f25f357": {
          "model_module": "@jupyter-widgets/base",
          "model_name": "LayoutModel",
          "model_module_version": "1.2.0",
          "state": {
            "_model_module": "@jupyter-widgets/base",
            "_model_module_version": "1.2.0",
            "_model_name": "LayoutModel",
            "_view_count": null,
            "_view_module": "@jupyter-widgets/base",
            "_view_module_version": "1.2.0",
            "_view_name": "LayoutView",
            "align_content": null,
            "align_items": null,
            "align_self": null,
            "border": null,
            "bottom": null,
            "display": null,
            "flex": null,
            "flex_flow": null,
            "grid_area": null,
            "grid_auto_columns": null,
            "grid_auto_flow": null,
            "grid_auto_rows": null,
            "grid_column": null,
            "grid_gap": null,
            "grid_row": null,
            "grid_template_areas": null,
            "grid_template_columns": null,
            "grid_template_rows": null,
            "height": null,
            "justify_content": null,
            "justify_items": null,
            "left": null,
            "margin": null,
            "max_height": null,
            "max_width": null,
            "min_height": null,
            "min_width": null,
            "object_fit": null,
            "object_position": null,
            "order": null,
            "overflow": null,
            "overflow_x": null,
            "overflow_y": null,
            "padding": null,
            "right": null,
            "top": null,
            "visibility": null,
            "width": null
          }
        },
        "4a7e628425424b4baec96c39f612b14b": {
          "model_module": "@jupyter-widgets/controls",
          "model_name": "ProgressStyleModel",
          "model_module_version": "1.5.0",
          "state": {
            "_model_module": "@jupyter-widgets/controls",
            "_model_module_version": "1.5.0",
            "_model_name": "ProgressStyleModel",
            "_view_count": null,
            "_view_module": "@jupyter-widgets/base",
            "_view_module_version": "1.2.0",
            "_view_name": "StyleView",
            "bar_color": null,
            "description_width": ""
          }
        },
        "23e456360280419faedf92626070d2a4": {
          "model_module": "@jupyter-widgets/controls",
          "model_name": "VBoxModel",
          "model_module_version": "1.5.0",
          "state": {
            "_dom_classes": [],
            "_model_module": "@jupyter-widgets/controls",
            "_model_module_version": "1.5.0",
            "_model_name": "VBoxModel",
            "_view_count": null,
            "_view_module": "@jupyter-widgets/controls",
            "_view_module_version": "1.5.0",
            "_view_name": "VBoxView",
            "box_style": "",
            "children": [
              "IPY_MODEL_725e83792a45467ea89a305a524351f7",
              "IPY_MODEL_13f3a880a0df4e3cbdcadb0a1cf7ea55"
            ],
            "layout": "IPY_MODEL_f7dfabd881254231b435713b4225a38e"
          }
        },
        "725e83792a45467ea89a305a524351f7": {
          "model_module": "@jupyter-widgets/controls",
          "model_name": "LabelModel",
          "model_module_version": "1.5.0",
          "state": {
            "_dom_classes": [],
            "_model_module": "@jupyter-widgets/controls",
            "_model_module_version": "1.5.0",
            "_model_name": "LabelModel",
            "_view_count": null,
            "_view_module": "@jupyter-widgets/controls",
            "_view_module_version": "1.5.0",
            "_view_name": "LabelView",
            "description": "",
            "description_tooltip": null,
            "layout": "IPY_MODEL_e4e1904a6623428d8273fd6131824368",
            "placeholder": "​",
            "style": "IPY_MODEL_06c5d4caef1c4e37ad17624577f53741",
            "value": "980.557 MB of 980.557 MB uploaded (0.000 MB deduped)\r"
          }
        },
        "13f3a880a0df4e3cbdcadb0a1cf7ea55": {
          "model_module": "@jupyter-widgets/controls",
          "model_name": "FloatProgressModel",
          "model_module_version": "1.5.0",
          "state": {
            "_dom_classes": [],
            "_model_module": "@jupyter-widgets/controls",
            "_model_module_version": "1.5.0",
            "_model_name": "FloatProgressModel",
            "_view_count": null,
            "_view_module": "@jupyter-widgets/controls",
            "_view_module_version": "1.5.0",
            "_view_name": "ProgressView",
            "bar_style": "",
            "description": "",
            "description_tooltip": null,
            "layout": "IPY_MODEL_7a90d889aebc417485a795118246376d",
            "max": 1,
            "min": 0,
            "orientation": "horizontal",
            "style": "IPY_MODEL_8dc3454bea664af9979bc6f6b1823d00",
            "value": 1
          }
        },
        "f7dfabd881254231b435713b4225a38e": {
          "model_module": "@jupyter-widgets/base",
          "model_name": "LayoutModel",
          "model_module_version": "1.2.0",
          "state": {
            "_model_module": "@jupyter-widgets/base",
            "_model_module_version": "1.2.0",
            "_model_name": "LayoutModel",
            "_view_count": null,
            "_view_module": "@jupyter-widgets/base",
            "_view_module_version": "1.2.0",
            "_view_name": "LayoutView",
            "align_content": null,
            "align_items": null,
            "align_self": null,
            "border": null,
            "bottom": null,
            "display": null,
            "flex": null,
            "flex_flow": null,
            "grid_area": null,
            "grid_auto_columns": null,
            "grid_auto_flow": null,
            "grid_auto_rows": null,
            "grid_column": null,
            "grid_gap": null,
            "grid_row": null,
            "grid_template_areas": null,
            "grid_template_columns": null,
            "grid_template_rows": null,
            "height": null,
            "justify_content": null,
            "justify_items": null,
            "left": null,
            "margin": null,
            "max_height": null,
            "max_width": null,
            "min_height": null,
            "min_width": null,
            "object_fit": null,
            "object_position": null,
            "order": null,
            "overflow": null,
            "overflow_x": null,
            "overflow_y": null,
            "padding": null,
            "right": null,
            "top": null,
            "visibility": null,
            "width": null
          }
        },
        "e4e1904a6623428d8273fd6131824368": {
          "model_module": "@jupyter-widgets/base",
          "model_name": "LayoutModel",
          "model_module_version": "1.2.0",
          "state": {
            "_model_module": "@jupyter-widgets/base",
            "_model_module_version": "1.2.0",
            "_model_name": "LayoutModel",
            "_view_count": null,
            "_view_module": "@jupyter-widgets/base",
            "_view_module_version": "1.2.0",
            "_view_name": "LayoutView",
            "align_content": null,
            "align_items": null,
            "align_self": null,
            "border": null,
            "bottom": null,
            "display": null,
            "flex": null,
            "flex_flow": null,
            "grid_area": null,
            "grid_auto_columns": null,
            "grid_auto_flow": null,
            "grid_auto_rows": null,
            "grid_column": null,
            "grid_gap": null,
            "grid_row": null,
            "grid_template_areas": null,
            "grid_template_columns": null,
            "grid_template_rows": null,
            "height": null,
            "justify_content": null,
            "justify_items": null,
            "left": null,
            "margin": null,
            "max_height": null,
            "max_width": null,
            "min_height": null,
            "min_width": null,
            "object_fit": null,
            "object_position": null,
            "order": null,
            "overflow": null,
            "overflow_x": null,
            "overflow_y": null,
            "padding": null,
            "right": null,
            "top": null,
            "visibility": null,
            "width": null
          }
        },
        "06c5d4caef1c4e37ad17624577f53741": {
          "model_module": "@jupyter-widgets/controls",
          "model_name": "DescriptionStyleModel",
          "model_module_version": "1.5.0",
          "state": {
            "_model_module": "@jupyter-widgets/controls",
            "_model_module_version": "1.5.0",
            "_model_name": "DescriptionStyleModel",
            "_view_count": null,
            "_view_module": "@jupyter-widgets/base",
            "_view_module_version": "1.2.0",
            "_view_name": "StyleView",
            "description_width": ""
          }
        },
        "7a90d889aebc417485a795118246376d": {
          "model_module": "@jupyter-widgets/base",
          "model_name": "LayoutModel",
          "model_module_version": "1.2.0",
          "state": {
            "_model_module": "@jupyter-widgets/base",
            "_model_module_version": "1.2.0",
            "_model_name": "LayoutModel",
            "_view_count": null,
            "_view_module": "@jupyter-widgets/base",
            "_view_module_version": "1.2.0",
            "_view_name": "LayoutView",
            "align_content": null,
            "align_items": null,
            "align_self": null,
            "border": null,
            "bottom": null,
            "display": null,
            "flex": null,
            "flex_flow": null,
            "grid_area": null,
            "grid_auto_columns": null,
            "grid_auto_flow": null,
            "grid_auto_rows": null,
            "grid_column": null,
            "grid_gap": null,
            "grid_row": null,
            "grid_template_areas": null,
            "grid_template_columns": null,
            "grid_template_rows": null,
            "height": null,
            "justify_content": null,
            "justify_items": null,
            "left": null,
            "margin": null,
            "max_height": null,
            "max_width": null,
            "min_height": null,
            "min_width": null,
            "object_fit": null,
            "object_position": null,
            "order": null,
            "overflow": null,
            "overflow_x": null,
            "overflow_y": null,
            "padding": null,
            "right": null,
            "top": null,
            "visibility": null,
            "width": null
          }
        },
        "8dc3454bea664af9979bc6f6b1823d00": {
          "model_module": "@jupyter-widgets/controls",
          "model_name": "ProgressStyleModel",
          "model_module_version": "1.5.0",
          "state": {
            "_model_module": "@jupyter-widgets/controls",
            "_model_module_version": "1.5.0",
            "_model_name": "ProgressStyleModel",
            "_view_count": null,
            "_view_module": "@jupyter-widgets/base",
            "_view_module_version": "1.2.0",
            "_view_name": "StyleView",
            "bar_color": null,
            "description_width": ""
          }
        },
        "91525ee72b824206918d62c5d052cd80": {
          "model_module": "@jupyter-widgets/controls",
          "model_name": "VBoxModel",
          "model_module_version": "1.5.0",
          "state": {
            "_dom_classes": [],
            "_model_module": "@jupyter-widgets/controls",
            "_model_module_version": "1.5.0",
            "_model_name": "VBoxModel",
            "_view_count": null,
            "_view_module": "@jupyter-widgets/controls",
            "_view_module_version": "1.5.0",
            "_view_name": "VBoxView",
            "box_style": "",
            "children": [
              "IPY_MODEL_bdd9977edf9e477686da80e2668928f5",
              "IPY_MODEL_d7d28568f533453594efa19b4e3c1ac7"
            ],
            "layout": "IPY_MODEL_96e3f19b598342c2baf343505bcc9ef4"
          }
        },
        "bdd9977edf9e477686da80e2668928f5": {
          "model_module": "@jupyter-widgets/controls",
          "model_name": "LabelModel",
          "model_module_version": "1.5.0",
          "state": {
            "_dom_classes": [],
            "_model_module": "@jupyter-widgets/controls",
            "_model_module_version": "1.5.0",
            "_model_name": "LabelModel",
            "_view_count": null,
            "_view_module": "@jupyter-widgets/controls",
            "_view_module_version": "1.5.0",
            "_view_name": "LabelView",
            "description": "",
            "description_tooltip": null,
            "layout": "IPY_MODEL_7ca6c731aed640b4afbc60fdfeedecb5",
            "placeholder": "​",
            "style": "IPY_MODEL_a7af51dd5c634e3c992dcc5274cbf09f",
            "value": "800.696 MB of 800.696 MB uploaded (0.000 MB deduped)\r"
          }
        },
        "d7d28568f533453594efa19b4e3c1ac7": {
          "model_module": "@jupyter-widgets/controls",
          "model_name": "FloatProgressModel",
          "model_module_version": "1.5.0",
          "state": {
            "_dom_classes": [],
            "_model_module": "@jupyter-widgets/controls",
            "_model_module_version": "1.5.0",
            "_model_name": "FloatProgressModel",
            "_view_count": null,
            "_view_module": "@jupyter-widgets/controls",
            "_view_module_version": "1.5.0",
            "_view_name": "ProgressView",
            "bar_style": "",
            "description": "",
            "description_tooltip": null,
            "layout": "IPY_MODEL_8c8401cf2116416c8f614f1492ac68ed",
            "max": 1,
            "min": 0,
            "orientation": "horizontal",
            "style": "IPY_MODEL_b5a8d545d96a42089772d9014825db46",
            "value": 1
          }
        },
        "96e3f19b598342c2baf343505bcc9ef4": {
          "model_module": "@jupyter-widgets/base",
          "model_name": "LayoutModel",
          "model_module_version": "1.2.0",
          "state": {
            "_model_module": "@jupyter-widgets/base",
            "_model_module_version": "1.2.0",
            "_model_name": "LayoutModel",
            "_view_count": null,
            "_view_module": "@jupyter-widgets/base",
            "_view_module_version": "1.2.0",
            "_view_name": "LayoutView",
            "align_content": null,
            "align_items": null,
            "align_self": null,
            "border": null,
            "bottom": null,
            "display": null,
            "flex": null,
            "flex_flow": null,
            "grid_area": null,
            "grid_auto_columns": null,
            "grid_auto_flow": null,
            "grid_auto_rows": null,
            "grid_column": null,
            "grid_gap": null,
            "grid_row": null,
            "grid_template_areas": null,
            "grid_template_columns": null,
            "grid_template_rows": null,
            "height": null,
            "justify_content": null,
            "justify_items": null,
            "left": null,
            "margin": null,
            "max_height": null,
            "max_width": null,
            "min_height": null,
            "min_width": null,
            "object_fit": null,
            "object_position": null,
            "order": null,
            "overflow": null,
            "overflow_x": null,
            "overflow_y": null,
            "padding": null,
            "right": null,
            "top": null,
            "visibility": null,
            "width": null
          }
        },
        "7ca6c731aed640b4afbc60fdfeedecb5": {
          "model_module": "@jupyter-widgets/base",
          "model_name": "LayoutModel",
          "model_module_version": "1.2.0",
          "state": {
            "_model_module": "@jupyter-widgets/base",
            "_model_module_version": "1.2.0",
            "_model_name": "LayoutModel",
            "_view_count": null,
            "_view_module": "@jupyter-widgets/base",
            "_view_module_version": "1.2.0",
            "_view_name": "LayoutView",
            "align_content": null,
            "align_items": null,
            "align_self": null,
            "border": null,
            "bottom": null,
            "display": null,
            "flex": null,
            "flex_flow": null,
            "grid_area": null,
            "grid_auto_columns": null,
            "grid_auto_flow": null,
            "grid_auto_rows": null,
            "grid_column": null,
            "grid_gap": null,
            "grid_row": null,
            "grid_template_areas": null,
            "grid_template_columns": null,
            "grid_template_rows": null,
            "height": null,
            "justify_content": null,
            "justify_items": null,
            "left": null,
            "margin": null,
            "max_height": null,
            "max_width": null,
            "min_height": null,
            "min_width": null,
            "object_fit": null,
            "object_position": null,
            "order": null,
            "overflow": null,
            "overflow_x": null,
            "overflow_y": null,
            "padding": null,
            "right": null,
            "top": null,
            "visibility": null,
            "width": null
          }
        },
        "a7af51dd5c634e3c992dcc5274cbf09f": {
          "model_module": "@jupyter-widgets/controls",
          "model_name": "DescriptionStyleModel",
          "model_module_version": "1.5.0",
          "state": {
            "_model_module": "@jupyter-widgets/controls",
            "_model_module_version": "1.5.0",
            "_model_name": "DescriptionStyleModel",
            "_view_count": null,
            "_view_module": "@jupyter-widgets/base",
            "_view_module_version": "1.2.0",
            "_view_name": "StyleView",
            "description_width": ""
          }
        },
        "8c8401cf2116416c8f614f1492ac68ed": {
          "model_module": "@jupyter-widgets/base",
          "model_name": "LayoutModel",
          "model_module_version": "1.2.0",
          "state": {
            "_model_module": "@jupyter-widgets/base",
            "_model_module_version": "1.2.0",
            "_model_name": "LayoutModel",
            "_view_count": null,
            "_view_module": "@jupyter-widgets/base",
            "_view_module_version": "1.2.0",
            "_view_name": "LayoutView",
            "align_content": null,
            "align_items": null,
            "align_self": null,
            "border": null,
            "bottom": null,
            "display": null,
            "flex": null,
            "flex_flow": null,
            "grid_area": null,
            "grid_auto_columns": null,
            "grid_auto_flow": null,
            "grid_auto_rows": null,
            "grid_column": null,
            "grid_gap": null,
            "grid_row": null,
            "grid_template_areas": null,
            "grid_template_columns": null,
            "grid_template_rows": null,
            "height": null,
            "justify_content": null,
            "justify_items": null,
            "left": null,
            "margin": null,
            "max_height": null,
            "max_width": null,
            "min_height": null,
            "min_width": null,
            "object_fit": null,
            "object_position": null,
            "order": null,
            "overflow": null,
            "overflow_x": null,
            "overflow_y": null,
            "padding": null,
            "right": null,
            "top": null,
            "visibility": null,
            "width": null
          }
        },
        "b5a8d545d96a42089772d9014825db46": {
          "model_module": "@jupyter-widgets/controls",
          "model_name": "ProgressStyleModel",
          "model_module_version": "1.5.0",
          "state": {
            "_model_module": "@jupyter-widgets/controls",
            "_model_module_version": "1.5.0",
            "_model_name": "ProgressStyleModel",
            "_view_count": null,
            "_view_module": "@jupyter-widgets/base",
            "_view_module_version": "1.2.0",
            "_view_name": "StyleView",
            "bar_color": null,
            "description_width": ""
          }
        },
        "f7d64aa86cb9446a8b8c2651cb6d519e": {
          "model_module": "@jupyter-widgets/controls",
          "model_name": "VBoxModel",
          "model_module_version": "1.5.0",
          "state": {
            "_dom_classes": [],
            "_model_module": "@jupyter-widgets/controls",
            "_model_module_version": "1.5.0",
            "_model_name": "VBoxModel",
            "_view_count": null,
            "_view_module": "@jupyter-widgets/controls",
            "_view_module_version": "1.5.0",
            "_view_name": "VBoxView",
            "box_style": "",
            "children": [
              "IPY_MODEL_8536619c1e554edf9fc4b820360feeba",
              "IPY_MODEL_d9a732ef38254eea9976d34f58114998"
            ],
            "layout": "IPY_MODEL_66b5acc3ec264c23a55192cfef21bcfe"
          }
        },
        "8536619c1e554edf9fc4b820360feeba": {
          "model_module": "@jupyter-widgets/controls",
          "model_name": "LabelModel",
          "model_module_version": "1.5.0",
          "state": {
            "_dom_classes": [],
            "_model_module": "@jupyter-widgets/controls",
            "_model_module_version": "1.5.0",
            "_model_name": "LabelModel",
            "_view_count": null,
            "_view_module": "@jupyter-widgets/controls",
            "_view_module_version": "1.5.0",
            "_view_name": "LabelView",
            "description": "",
            "description_tooltip": null,
            "layout": "IPY_MODEL_597caab153cf4f8499e1c9f3305d1e5a",
            "placeholder": "​",
            "style": "IPY_MODEL_544158a35aad49069a1b6bcf0154f6c6",
            "value": "1470.438 MB of 1470.438 MB uploaded (0.000 MB deduped)\r"
          }
        },
        "d9a732ef38254eea9976d34f58114998": {
          "model_module": "@jupyter-widgets/controls",
          "model_name": "FloatProgressModel",
          "model_module_version": "1.5.0",
          "state": {
            "_dom_classes": [],
            "_model_module": "@jupyter-widgets/controls",
            "_model_module_version": "1.5.0",
            "_model_name": "FloatProgressModel",
            "_view_count": null,
            "_view_module": "@jupyter-widgets/controls",
            "_view_module_version": "1.5.0",
            "_view_name": "ProgressView",
            "bar_style": "",
            "description": "",
            "description_tooltip": null,
            "layout": "IPY_MODEL_b491a518f2624acbb7650ff0e6953e04",
            "max": 1,
            "min": 0,
            "orientation": "horizontal",
            "style": "IPY_MODEL_f402f6704038401e87aee52d2e04089f",
            "value": 1
          }
        },
        "66b5acc3ec264c23a55192cfef21bcfe": {
          "model_module": "@jupyter-widgets/base",
          "model_name": "LayoutModel",
          "model_module_version": "1.2.0",
          "state": {
            "_model_module": "@jupyter-widgets/base",
            "_model_module_version": "1.2.0",
            "_model_name": "LayoutModel",
            "_view_count": null,
            "_view_module": "@jupyter-widgets/base",
            "_view_module_version": "1.2.0",
            "_view_name": "LayoutView",
            "align_content": null,
            "align_items": null,
            "align_self": null,
            "border": null,
            "bottom": null,
            "display": null,
            "flex": null,
            "flex_flow": null,
            "grid_area": null,
            "grid_auto_columns": null,
            "grid_auto_flow": null,
            "grid_auto_rows": null,
            "grid_column": null,
            "grid_gap": null,
            "grid_row": null,
            "grid_template_areas": null,
            "grid_template_columns": null,
            "grid_template_rows": null,
            "height": null,
            "justify_content": null,
            "justify_items": null,
            "left": null,
            "margin": null,
            "max_height": null,
            "max_width": null,
            "min_height": null,
            "min_width": null,
            "object_fit": null,
            "object_position": null,
            "order": null,
            "overflow": null,
            "overflow_x": null,
            "overflow_y": null,
            "padding": null,
            "right": null,
            "top": null,
            "visibility": null,
            "width": null
          }
        },
        "597caab153cf4f8499e1c9f3305d1e5a": {
          "model_module": "@jupyter-widgets/base",
          "model_name": "LayoutModel",
          "model_module_version": "1.2.0",
          "state": {
            "_model_module": "@jupyter-widgets/base",
            "_model_module_version": "1.2.0",
            "_model_name": "LayoutModel",
            "_view_count": null,
            "_view_module": "@jupyter-widgets/base",
            "_view_module_version": "1.2.0",
            "_view_name": "LayoutView",
            "align_content": null,
            "align_items": null,
            "align_self": null,
            "border": null,
            "bottom": null,
            "display": null,
            "flex": null,
            "flex_flow": null,
            "grid_area": null,
            "grid_auto_columns": null,
            "grid_auto_flow": null,
            "grid_auto_rows": null,
            "grid_column": null,
            "grid_gap": null,
            "grid_row": null,
            "grid_template_areas": null,
            "grid_template_columns": null,
            "grid_template_rows": null,
            "height": null,
            "justify_content": null,
            "justify_items": null,
            "left": null,
            "margin": null,
            "max_height": null,
            "max_width": null,
            "min_height": null,
            "min_width": null,
            "object_fit": null,
            "object_position": null,
            "order": null,
            "overflow": null,
            "overflow_x": null,
            "overflow_y": null,
            "padding": null,
            "right": null,
            "top": null,
            "visibility": null,
            "width": null
          }
        },
        "544158a35aad49069a1b6bcf0154f6c6": {
          "model_module": "@jupyter-widgets/controls",
          "model_name": "DescriptionStyleModel",
          "model_module_version": "1.5.0",
          "state": {
            "_model_module": "@jupyter-widgets/controls",
            "_model_module_version": "1.5.0",
            "_model_name": "DescriptionStyleModel",
            "_view_count": null,
            "_view_module": "@jupyter-widgets/base",
            "_view_module_version": "1.2.0",
            "_view_name": "StyleView",
            "description_width": ""
          }
        },
        "b491a518f2624acbb7650ff0e6953e04": {
          "model_module": "@jupyter-widgets/base",
          "model_name": "LayoutModel",
          "model_module_version": "1.2.0",
          "state": {
            "_model_module": "@jupyter-widgets/base",
            "_model_module_version": "1.2.0",
            "_model_name": "LayoutModel",
            "_view_count": null,
            "_view_module": "@jupyter-widgets/base",
            "_view_module_version": "1.2.0",
            "_view_name": "LayoutView",
            "align_content": null,
            "align_items": null,
            "align_self": null,
            "border": null,
            "bottom": null,
            "display": null,
            "flex": null,
            "flex_flow": null,
            "grid_area": null,
            "grid_auto_columns": null,
            "grid_auto_flow": null,
            "grid_auto_rows": null,
            "grid_column": null,
            "grid_gap": null,
            "grid_row": null,
            "grid_template_areas": null,
            "grid_template_columns": null,
            "grid_template_rows": null,
            "height": null,
            "justify_content": null,
            "justify_items": null,
            "left": null,
            "margin": null,
            "max_height": null,
            "max_width": null,
            "min_height": null,
            "min_width": null,
            "object_fit": null,
            "object_position": null,
            "order": null,
            "overflow": null,
            "overflow_x": null,
            "overflow_y": null,
            "padding": null,
            "right": null,
            "top": null,
            "visibility": null,
            "width": null
          }
        },
        "f402f6704038401e87aee52d2e04089f": {
          "model_module": "@jupyter-widgets/controls",
          "model_name": "ProgressStyleModel",
          "model_module_version": "1.5.0",
          "state": {
            "_model_module": "@jupyter-widgets/controls",
            "_model_module_version": "1.5.0",
            "_model_name": "ProgressStyleModel",
            "_view_count": null,
            "_view_module": "@jupyter-widgets/base",
            "_view_module_version": "1.2.0",
            "_view_name": "StyleView",
            "bar_color": null,
            "description_width": ""
          }
        },
        "7e45f80ebd414fc3b99a64a41b007f5b": {
          "model_module": "@jupyter-widgets/controls",
          "model_name": "VBoxModel",
          "model_module_version": "1.5.0",
          "state": {
            "_dom_classes": [],
            "_model_module": "@jupyter-widgets/controls",
            "_model_module_version": "1.5.0",
            "_model_name": "VBoxModel",
            "_view_count": null,
            "_view_module": "@jupyter-widgets/controls",
            "_view_module_version": "1.5.0",
            "_view_name": "VBoxView",
            "box_style": "",
            "children": [
              "IPY_MODEL_7b7c89d17a464a819441dd5866592f16",
              "IPY_MODEL_bf35dad0f2124c2cbc9ffb5e6079c52c"
            ],
            "layout": "IPY_MODEL_d1b4a8a17a9a43daa6a8b4e186c838e7"
          }
        },
        "7b7c89d17a464a819441dd5866592f16": {
          "model_module": "@jupyter-widgets/controls",
          "model_name": "LabelModel",
          "model_module_version": "1.5.0",
          "state": {
            "_dom_classes": [],
            "_model_module": "@jupyter-widgets/controls",
            "_model_module_version": "1.5.0",
            "_model_name": "LabelModel",
            "_view_count": null,
            "_view_module": "@jupyter-widgets/controls",
            "_view_module_version": "1.5.0",
            "_view_name": "LabelView",
            "description": "",
            "description_tooltip": null,
            "layout": "IPY_MODEL_3b0907f1ecbb461eb2bf2e697b935a50",
            "placeholder": "​",
            "style": "IPY_MODEL_846695686f3a442f97d7059deabc02f2",
            "value": "980.557 MB of 980.557 MB uploaded (0.000 MB deduped)\r"
          }
        },
        "bf35dad0f2124c2cbc9ffb5e6079c52c": {
          "model_module": "@jupyter-widgets/controls",
          "model_name": "FloatProgressModel",
          "model_module_version": "1.5.0",
          "state": {
            "_dom_classes": [],
            "_model_module": "@jupyter-widgets/controls",
            "_model_module_version": "1.5.0",
            "_model_name": "FloatProgressModel",
            "_view_count": null,
            "_view_module": "@jupyter-widgets/controls",
            "_view_module_version": "1.5.0",
            "_view_name": "ProgressView",
            "bar_style": "",
            "description": "",
            "description_tooltip": null,
            "layout": "IPY_MODEL_2d7d503085c14ae2b145540678bb9594",
            "max": 1,
            "min": 0,
            "orientation": "horizontal",
            "style": "IPY_MODEL_8aba87ddfed74663a4892f7ce1f4cccf",
            "value": 1
          }
        },
        "d1b4a8a17a9a43daa6a8b4e186c838e7": {
          "model_module": "@jupyter-widgets/base",
          "model_name": "LayoutModel",
          "model_module_version": "1.2.0",
          "state": {
            "_model_module": "@jupyter-widgets/base",
            "_model_module_version": "1.2.0",
            "_model_name": "LayoutModel",
            "_view_count": null,
            "_view_module": "@jupyter-widgets/base",
            "_view_module_version": "1.2.0",
            "_view_name": "LayoutView",
            "align_content": null,
            "align_items": null,
            "align_self": null,
            "border": null,
            "bottom": null,
            "display": null,
            "flex": null,
            "flex_flow": null,
            "grid_area": null,
            "grid_auto_columns": null,
            "grid_auto_flow": null,
            "grid_auto_rows": null,
            "grid_column": null,
            "grid_gap": null,
            "grid_row": null,
            "grid_template_areas": null,
            "grid_template_columns": null,
            "grid_template_rows": null,
            "height": null,
            "justify_content": null,
            "justify_items": null,
            "left": null,
            "margin": null,
            "max_height": null,
            "max_width": null,
            "min_height": null,
            "min_width": null,
            "object_fit": null,
            "object_position": null,
            "order": null,
            "overflow": null,
            "overflow_x": null,
            "overflow_y": null,
            "padding": null,
            "right": null,
            "top": null,
            "visibility": null,
            "width": null
          }
        },
        "3b0907f1ecbb461eb2bf2e697b935a50": {
          "model_module": "@jupyter-widgets/base",
          "model_name": "LayoutModel",
          "model_module_version": "1.2.0",
          "state": {
            "_model_module": "@jupyter-widgets/base",
            "_model_module_version": "1.2.0",
            "_model_name": "LayoutModel",
            "_view_count": null,
            "_view_module": "@jupyter-widgets/base",
            "_view_module_version": "1.2.0",
            "_view_name": "LayoutView",
            "align_content": null,
            "align_items": null,
            "align_self": null,
            "border": null,
            "bottom": null,
            "display": null,
            "flex": null,
            "flex_flow": null,
            "grid_area": null,
            "grid_auto_columns": null,
            "grid_auto_flow": null,
            "grid_auto_rows": null,
            "grid_column": null,
            "grid_gap": null,
            "grid_row": null,
            "grid_template_areas": null,
            "grid_template_columns": null,
            "grid_template_rows": null,
            "height": null,
            "justify_content": null,
            "justify_items": null,
            "left": null,
            "margin": null,
            "max_height": null,
            "max_width": null,
            "min_height": null,
            "min_width": null,
            "object_fit": null,
            "object_position": null,
            "order": null,
            "overflow": null,
            "overflow_x": null,
            "overflow_y": null,
            "padding": null,
            "right": null,
            "top": null,
            "visibility": null,
            "width": null
          }
        },
        "846695686f3a442f97d7059deabc02f2": {
          "model_module": "@jupyter-widgets/controls",
          "model_name": "DescriptionStyleModel",
          "model_module_version": "1.5.0",
          "state": {
            "_model_module": "@jupyter-widgets/controls",
            "_model_module_version": "1.5.0",
            "_model_name": "DescriptionStyleModel",
            "_view_count": null,
            "_view_module": "@jupyter-widgets/base",
            "_view_module_version": "1.2.0",
            "_view_name": "StyleView",
            "description_width": ""
          }
        },
        "2d7d503085c14ae2b145540678bb9594": {
          "model_module": "@jupyter-widgets/base",
          "model_name": "LayoutModel",
          "model_module_version": "1.2.0",
          "state": {
            "_model_module": "@jupyter-widgets/base",
            "_model_module_version": "1.2.0",
            "_model_name": "LayoutModel",
            "_view_count": null,
            "_view_module": "@jupyter-widgets/base",
            "_view_module_version": "1.2.0",
            "_view_name": "LayoutView",
            "align_content": null,
            "align_items": null,
            "align_self": null,
            "border": null,
            "bottom": null,
            "display": null,
            "flex": null,
            "flex_flow": null,
            "grid_area": null,
            "grid_auto_columns": null,
            "grid_auto_flow": null,
            "grid_auto_rows": null,
            "grid_column": null,
            "grid_gap": null,
            "grid_row": null,
            "grid_template_areas": null,
            "grid_template_columns": null,
            "grid_template_rows": null,
            "height": null,
            "justify_content": null,
            "justify_items": null,
            "left": null,
            "margin": null,
            "max_height": null,
            "max_width": null,
            "min_height": null,
            "min_width": null,
            "object_fit": null,
            "object_position": null,
            "order": null,
            "overflow": null,
            "overflow_x": null,
            "overflow_y": null,
            "padding": null,
            "right": null,
            "top": null,
            "visibility": null,
            "width": null
          }
        },
        "8aba87ddfed74663a4892f7ce1f4cccf": {
          "model_module": "@jupyter-widgets/controls",
          "model_name": "ProgressStyleModel",
          "model_module_version": "1.5.0",
          "state": {
            "_model_module": "@jupyter-widgets/controls",
            "_model_module_version": "1.5.0",
            "_model_name": "ProgressStyleModel",
            "_view_count": null,
            "_view_module": "@jupyter-widgets/base",
            "_view_module_version": "1.2.0",
            "_view_name": "StyleView",
            "bar_color": null,
            "description_width": ""
          }
        },
        "f10f7210607e43128f9796b363abc16c": {
          "model_module": "@jupyter-widgets/controls",
          "model_name": "VBoxModel",
          "model_module_version": "1.5.0",
          "state": {
            "_dom_classes": [],
            "_model_module": "@jupyter-widgets/controls",
            "_model_module_version": "1.5.0",
            "_model_name": "VBoxModel",
            "_view_count": null,
            "_view_module": "@jupyter-widgets/controls",
            "_view_module_version": "1.5.0",
            "_view_name": "VBoxView",
            "box_style": "",
            "children": [
              "IPY_MODEL_14db3d58b92b4ecd953e6d4a59f78fdf",
              "IPY_MODEL_de234a10493e4730a1d87351434d8040"
            ],
            "layout": "IPY_MODEL_c40062c6ead84b4a8aacea0c1f953cd6"
          }
        },
        "14db3d58b92b4ecd953e6d4a59f78fdf": {
          "model_module": "@jupyter-widgets/controls",
          "model_name": "LabelModel",
          "model_module_version": "1.5.0",
          "state": {
            "_dom_classes": [],
            "_model_module": "@jupyter-widgets/controls",
            "_model_module_version": "1.5.0",
            "_model_name": "LabelModel",
            "_view_count": null,
            "_view_module": "@jupyter-widgets/controls",
            "_view_module_version": "1.5.0",
            "_view_name": "LabelView",
            "description": "",
            "description_tooltip": null,
            "layout": "IPY_MODEL_903a210c179a45aea3edf123c365bf06",
            "placeholder": "​",
            "style": "IPY_MODEL_d1a876e97f63465f8c4eccc58b0c717a",
            "value": "959.580 MB of 959.580 MB uploaded (0.000 MB deduped)\r"
          }
        },
        "de234a10493e4730a1d87351434d8040": {
          "model_module": "@jupyter-widgets/controls",
          "model_name": "FloatProgressModel",
          "model_module_version": "1.5.0",
          "state": {
            "_dom_classes": [],
            "_model_module": "@jupyter-widgets/controls",
            "_model_module_version": "1.5.0",
            "_model_name": "FloatProgressModel",
            "_view_count": null,
            "_view_module": "@jupyter-widgets/controls",
            "_view_module_version": "1.5.0",
            "_view_name": "ProgressView",
            "bar_style": "",
            "description": "",
            "description_tooltip": null,
            "layout": "IPY_MODEL_97c139545a4f42359bb6be9f737b8e4e",
            "max": 1,
            "min": 0,
            "orientation": "horizontal",
            "style": "IPY_MODEL_feb7f9748e344f71bf2eadb97183f5b1",
            "value": 1
          }
        },
        "c40062c6ead84b4a8aacea0c1f953cd6": {
          "model_module": "@jupyter-widgets/base",
          "model_name": "LayoutModel",
          "model_module_version": "1.2.0",
          "state": {
            "_model_module": "@jupyter-widgets/base",
            "_model_module_version": "1.2.0",
            "_model_name": "LayoutModel",
            "_view_count": null,
            "_view_module": "@jupyter-widgets/base",
            "_view_module_version": "1.2.0",
            "_view_name": "LayoutView",
            "align_content": null,
            "align_items": null,
            "align_self": null,
            "border": null,
            "bottom": null,
            "display": null,
            "flex": null,
            "flex_flow": null,
            "grid_area": null,
            "grid_auto_columns": null,
            "grid_auto_flow": null,
            "grid_auto_rows": null,
            "grid_column": null,
            "grid_gap": null,
            "grid_row": null,
            "grid_template_areas": null,
            "grid_template_columns": null,
            "grid_template_rows": null,
            "height": null,
            "justify_content": null,
            "justify_items": null,
            "left": null,
            "margin": null,
            "max_height": null,
            "max_width": null,
            "min_height": null,
            "min_width": null,
            "object_fit": null,
            "object_position": null,
            "order": null,
            "overflow": null,
            "overflow_x": null,
            "overflow_y": null,
            "padding": null,
            "right": null,
            "top": null,
            "visibility": null,
            "width": null
          }
        },
        "903a210c179a45aea3edf123c365bf06": {
          "model_module": "@jupyter-widgets/base",
          "model_name": "LayoutModel",
          "model_module_version": "1.2.0",
          "state": {
            "_model_module": "@jupyter-widgets/base",
            "_model_module_version": "1.2.0",
            "_model_name": "LayoutModel",
            "_view_count": null,
            "_view_module": "@jupyter-widgets/base",
            "_view_module_version": "1.2.0",
            "_view_name": "LayoutView",
            "align_content": null,
            "align_items": null,
            "align_self": null,
            "border": null,
            "bottom": null,
            "display": null,
            "flex": null,
            "flex_flow": null,
            "grid_area": null,
            "grid_auto_columns": null,
            "grid_auto_flow": null,
            "grid_auto_rows": null,
            "grid_column": null,
            "grid_gap": null,
            "grid_row": null,
            "grid_template_areas": null,
            "grid_template_columns": null,
            "grid_template_rows": null,
            "height": null,
            "justify_content": null,
            "justify_items": null,
            "left": null,
            "margin": null,
            "max_height": null,
            "max_width": null,
            "min_height": null,
            "min_width": null,
            "object_fit": null,
            "object_position": null,
            "order": null,
            "overflow": null,
            "overflow_x": null,
            "overflow_y": null,
            "padding": null,
            "right": null,
            "top": null,
            "visibility": null,
            "width": null
          }
        },
        "d1a876e97f63465f8c4eccc58b0c717a": {
          "model_module": "@jupyter-widgets/controls",
          "model_name": "DescriptionStyleModel",
          "model_module_version": "1.5.0",
          "state": {
            "_model_module": "@jupyter-widgets/controls",
            "_model_module_version": "1.5.0",
            "_model_name": "DescriptionStyleModel",
            "_view_count": null,
            "_view_module": "@jupyter-widgets/base",
            "_view_module_version": "1.2.0",
            "_view_name": "StyleView",
            "description_width": ""
          }
        },
        "97c139545a4f42359bb6be9f737b8e4e": {
          "model_module": "@jupyter-widgets/base",
          "model_name": "LayoutModel",
          "model_module_version": "1.2.0",
          "state": {
            "_model_module": "@jupyter-widgets/base",
            "_model_module_version": "1.2.0",
            "_model_name": "LayoutModel",
            "_view_count": null,
            "_view_module": "@jupyter-widgets/base",
            "_view_module_version": "1.2.0",
            "_view_name": "LayoutView",
            "align_content": null,
            "align_items": null,
            "align_self": null,
            "border": null,
            "bottom": null,
            "display": null,
            "flex": null,
            "flex_flow": null,
            "grid_area": null,
            "grid_auto_columns": null,
            "grid_auto_flow": null,
            "grid_auto_rows": null,
            "grid_column": null,
            "grid_gap": null,
            "grid_row": null,
            "grid_template_areas": null,
            "grid_template_columns": null,
            "grid_template_rows": null,
            "height": null,
            "justify_content": null,
            "justify_items": null,
            "left": null,
            "margin": null,
            "max_height": null,
            "max_width": null,
            "min_height": null,
            "min_width": null,
            "object_fit": null,
            "object_position": null,
            "order": null,
            "overflow": null,
            "overflow_x": null,
            "overflow_y": null,
            "padding": null,
            "right": null,
            "top": null,
            "visibility": null,
            "width": null
          }
        },
        "feb7f9748e344f71bf2eadb97183f5b1": {
          "model_module": "@jupyter-widgets/controls",
          "model_name": "ProgressStyleModel",
          "model_module_version": "1.5.0",
          "state": {
            "_model_module": "@jupyter-widgets/controls",
            "_model_module_version": "1.5.0",
            "_model_name": "ProgressStyleModel",
            "_view_count": null,
            "_view_module": "@jupyter-widgets/base",
            "_view_module_version": "1.2.0",
            "_view_name": "StyleView",
            "bar_color": null,
            "description_width": ""
          }
        },
        "cde0e4f7826947cca2cb1cfae77e140c": {
          "model_module": "@jupyter-widgets/controls",
          "model_name": "VBoxModel",
          "model_module_version": "1.5.0",
          "state": {
            "_dom_classes": [],
            "_model_module": "@jupyter-widgets/controls",
            "_model_module_version": "1.5.0",
            "_model_name": "VBoxModel",
            "_view_count": null,
            "_view_module": "@jupyter-widgets/controls",
            "_view_module_version": "1.5.0",
            "_view_name": "VBoxView",
            "box_style": "",
            "children": [
              "IPY_MODEL_b43c03c44c3446a58f2963a2c0333644",
              "IPY_MODEL_f8a3c924e9404178b6db3ddd77fba905"
            ],
            "layout": "IPY_MODEL_c007296163c9425896189b7c561b9a0a"
          }
        },
        "b43c03c44c3446a58f2963a2c0333644": {
          "model_module": "@jupyter-widgets/controls",
          "model_name": "LabelModel",
          "model_module_version": "1.5.0",
          "state": {
            "_dom_classes": [],
            "_model_module": "@jupyter-widgets/controls",
            "_model_module_version": "1.5.0",
            "_model_name": "LabelModel",
            "_view_count": null,
            "_view_module": "@jupyter-widgets/controls",
            "_view_module_version": "1.5.0",
            "_view_name": "LabelView",
            "description": "",
            "description_tooltip": null,
            "layout": "IPY_MODEL_b0eea7ddc870435bb4630337d66b69fe",
            "placeholder": "​",
            "style": "IPY_MODEL_364862b9689247d696444a01629273a0",
            "value": "980.557 MB of 980.557 MB uploaded (0.000 MB deduped)\r"
          }
        },
        "f8a3c924e9404178b6db3ddd77fba905": {
          "model_module": "@jupyter-widgets/controls",
          "model_name": "FloatProgressModel",
          "model_module_version": "1.5.0",
          "state": {
            "_dom_classes": [],
            "_model_module": "@jupyter-widgets/controls",
            "_model_module_version": "1.5.0",
            "_model_name": "FloatProgressModel",
            "_view_count": null,
            "_view_module": "@jupyter-widgets/controls",
            "_view_module_version": "1.5.0",
            "_view_name": "ProgressView",
            "bar_style": "",
            "description": "",
            "description_tooltip": null,
            "layout": "IPY_MODEL_f529804e62e74d4d9fc50f11f8efe240",
            "max": 1,
            "min": 0,
            "orientation": "horizontal",
            "style": "IPY_MODEL_150d8558ff874af6be9bf5ade7099abe",
            "value": 1
          }
        },
        "c007296163c9425896189b7c561b9a0a": {
          "model_module": "@jupyter-widgets/base",
          "model_name": "LayoutModel",
          "model_module_version": "1.2.0",
          "state": {
            "_model_module": "@jupyter-widgets/base",
            "_model_module_version": "1.2.0",
            "_model_name": "LayoutModel",
            "_view_count": null,
            "_view_module": "@jupyter-widgets/base",
            "_view_module_version": "1.2.0",
            "_view_name": "LayoutView",
            "align_content": null,
            "align_items": null,
            "align_self": null,
            "border": null,
            "bottom": null,
            "display": null,
            "flex": null,
            "flex_flow": null,
            "grid_area": null,
            "grid_auto_columns": null,
            "grid_auto_flow": null,
            "grid_auto_rows": null,
            "grid_column": null,
            "grid_gap": null,
            "grid_row": null,
            "grid_template_areas": null,
            "grid_template_columns": null,
            "grid_template_rows": null,
            "height": null,
            "justify_content": null,
            "justify_items": null,
            "left": null,
            "margin": null,
            "max_height": null,
            "max_width": null,
            "min_height": null,
            "min_width": null,
            "object_fit": null,
            "object_position": null,
            "order": null,
            "overflow": null,
            "overflow_x": null,
            "overflow_y": null,
            "padding": null,
            "right": null,
            "top": null,
            "visibility": null,
            "width": null
          }
        },
        "b0eea7ddc870435bb4630337d66b69fe": {
          "model_module": "@jupyter-widgets/base",
          "model_name": "LayoutModel",
          "model_module_version": "1.2.0",
          "state": {
            "_model_module": "@jupyter-widgets/base",
            "_model_module_version": "1.2.0",
            "_model_name": "LayoutModel",
            "_view_count": null,
            "_view_module": "@jupyter-widgets/base",
            "_view_module_version": "1.2.0",
            "_view_name": "LayoutView",
            "align_content": null,
            "align_items": null,
            "align_self": null,
            "border": null,
            "bottom": null,
            "display": null,
            "flex": null,
            "flex_flow": null,
            "grid_area": null,
            "grid_auto_columns": null,
            "grid_auto_flow": null,
            "grid_auto_rows": null,
            "grid_column": null,
            "grid_gap": null,
            "grid_row": null,
            "grid_template_areas": null,
            "grid_template_columns": null,
            "grid_template_rows": null,
            "height": null,
            "justify_content": null,
            "justify_items": null,
            "left": null,
            "margin": null,
            "max_height": null,
            "max_width": null,
            "min_height": null,
            "min_width": null,
            "object_fit": null,
            "object_position": null,
            "order": null,
            "overflow": null,
            "overflow_x": null,
            "overflow_y": null,
            "padding": null,
            "right": null,
            "top": null,
            "visibility": null,
            "width": null
          }
        },
        "364862b9689247d696444a01629273a0": {
          "model_module": "@jupyter-widgets/controls",
          "model_name": "DescriptionStyleModel",
          "model_module_version": "1.5.0",
          "state": {
            "_model_module": "@jupyter-widgets/controls",
            "_model_module_version": "1.5.0",
            "_model_name": "DescriptionStyleModel",
            "_view_count": null,
            "_view_module": "@jupyter-widgets/base",
            "_view_module_version": "1.2.0",
            "_view_name": "StyleView",
            "description_width": ""
          }
        },
        "f529804e62e74d4d9fc50f11f8efe240": {
          "model_module": "@jupyter-widgets/base",
          "model_name": "LayoutModel",
          "model_module_version": "1.2.0",
          "state": {
            "_model_module": "@jupyter-widgets/base",
            "_model_module_version": "1.2.0",
            "_model_name": "LayoutModel",
            "_view_count": null,
            "_view_module": "@jupyter-widgets/base",
            "_view_module_version": "1.2.0",
            "_view_name": "LayoutView",
            "align_content": null,
            "align_items": null,
            "align_self": null,
            "border": null,
            "bottom": null,
            "display": null,
            "flex": null,
            "flex_flow": null,
            "grid_area": null,
            "grid_auto_columns": null,
            "grid_auto_flow": null,
            "grid_auto_rows": null,
            "grid_column": null,
            "grid_gap": null,
            "grid_row": null,
            "grid_template_areas": null,
            "grid_template_columns": null,
            "grid_template_rows": null,
            "height": null,
            "justify_content": null,
            "justify_items": null,
            "left": null,
            "margin": null,
            "max_height": null,
            "max_width": null,
            "min_height": null,
            "min_width": null,
            "object_fit": null,
            "object_position": null,
            "order": null,
            "overflow": null,
            "overflow_x": null,
            "overflow_y": null,
            "padding": null,
            "right": null,
            "top": null,
            "visibility": null,
            "width": null
          }
        },
        "150d8558ff874af6be9bf5ade7099abe": {
          "model_module": "@jupyter-widgets/controls",
          "model_name": "ProgressStyleModel",
          "model_module_version": "1.5.0",
          "state": {
            "_model_module": "@jupyter-widgets/controls",
            "_model_module_version": "1.5.0",
            "_model_name": "ProgressStyleModel",
            "_view_count": null,
            "_view_module": "@jupyter-widgets/base",
            "_view_module_version": "1.2.0",
            "_view_name": "StyleView",
            "bar_color": null,
            "description_width": ""
          }
        }
      }
    }
  },
  "nbformat": 4,
  "nbformat_minor": 0
}